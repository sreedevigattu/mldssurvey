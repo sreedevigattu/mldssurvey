{
 "cells": [
  {
   "cell_type": "markdown",
   "metadata": {},
   "source": [
    "## 2021 Kaggle Machine Learning & Data Science Survey"
   ]
  },
  {
   "cell_type": "markdown",
   "metadata": {},
   "source": [
    "### Prologue\n",
    "\n",
    "I am a **45+ years woman** in the technology space for over 2 decades and in the data science and machine learning domain for around 3 years. In the last 20 or so years, I have been encountering lesser and lesser women around me in the technology space in general. This number dwindles further when it comes to data science and machine learning space. I am curious 🤔...curious to know how the **Women >40years** practitioners are faring in the ML and DS field! \n",
    "\n",
    "Let's compare the characteristics of **Women >40years** practitioners with the **overall members** and the **Women <40years** in each of the aspects - like demographices and the usage of technology (tools, products, libraries)"
   ]
  },
  {
   "cell_type": "markdown",
   "metadata": {},
   "source": [
    "#### Imports"
   ]
  },
  {
   "cell_type": "code",
   "execution_count": 1,
   "metadata": {},
   "outputs": [],
   "source": [
    "import numpy as np\n",
    "import pandas as pd\n",
    "\n",
    "import missingno as msno\n",
    "\n",
    "import matplotlib.pyplot as plt\n",
    "import seaborn as sns\n",
    "import plotly.express as px\n",
    "import plotly.graph_objects as go\n",
    "from plotly.subplots import make_subplots\n",
    "\n",
    "# Colors are at https://developer.mozilla.org/en-US/docs/Web/CSS/color_value"
   ]
  },
  {
   "cell_type": "markdown",
   "metadata": {},
   "source": [
    "#### Functions"
   ]
  },
  {
   "cell_type": "code",
   "execution_count": 2,
   "metadata": {},
   "outputs": [],
   "source": [
    "df_RESULT = pd.DataFrame()"
   ]
  },
  {
   "cell_type": "code",
   "execution_count": 3,
   "metadata": {},
   "outputs": [],
   "source": [
    "def percent(val, total):\n",
    "    return round(100 * val/total, 2)"
   ]
  },
  {
   "cell_type": "code",
   "execution_count": 4,
   "metadata": {},
   "outputs": [],
   "source": [
    "# Helper functions\n",
    "def printCols(cat, cols, cols_top3, cols_other, cols_none):\n",
    "    print(f\"COLS_{cat}       {len(cols):2d}\", end=': ');          [print(col[0], end=', ') for col in cols]; print()\n",
    "    print(f\"COLS_{cat}_TOP3  {len(cols_top3):2d}\", end=': ');     [print(col, end=', ') for col in cols_top3]; print()\n",
    "    print(f\"COLS_{cat}_OTHER {len(cols_other):2d}\", end=': ');    [print(col[0], end=', ') for col in cols_other]; print()\n",
    "    print(f\"COLS_{cat}_NONE  {len(cols_none):2d}\", end=': ');     [print(col[0], end=', ') for col in cols_none]; print()\n",
    "\n",
    "def getCols(cat, colprefix,colnone):\n",
    "    PREFIX_LEN = len(colprefix)\n",
    "    COLS_NONE = list(filter(lambda x: True if x[0]==colnone else False, df.columns.to_list()))\n",
    "    COLS = list(filter(lambda x: True if x[0][:PREFIX_LEN]==colprefix and x not in COLS_NONE else False, df.columns.to_list()))\n",
    "    COLS_TOP3    = [x[0] for x in df[COLS].count().sort_values(ascending=False).index[:3].values]\n",
    "    COLS_OTHER   = list(filter(lambda x: True if x[0] not in COLS_TOP3 else False, COLS))\n",
    "    #printCols(cat, COLS, COLS_TOP3, COLS_OTHER, COLS_NONE)\n",
    "    return COLS, COLS_TOP3, COLS_OTHER, COLS_NONE\n",
    "    \n",
    "def convert2percent(df, col, total_col):\n",
    "    df[col] = df[col]/ df[total_col]\n",
    "    return df[col].apply(lambda x: round(x*100,2))\n",
    "\n",
    "# Inplace of column with string values, create a new column with 1s & 0s \n",
    "# Old: df[('Q7_Part_1', 'What programming languages do you use on a regular basis? (Select all that apply) - Selected Choice - Python')] = 'Python'\n",
    "# New: df['Python'] = 1\n",
    "def createNewCol(df_old, oldCol, df_new, newCol, value):\n",
    "    df_new[newCol] = df_old[oldCol]\n",
    "    # strip the value of the leading and trailing empty spaces\n",
    "    df_new.loc[~df_new[newCol].isnull(), newCol] = df_new[~df_new[newCol].isnull()][newCol].apply(lambda x: x.strip())\n",
    "    return  df_new[newCol].apply(lambda x: 1 if x== value else 0)\n",
    "\n",
    "# Create a dataframe with overall and specific category values. Plot a bar graph to compare \n",
    "def compare(df, df_overall, df_specific, cat_other, col_other, ax, title=''):\n",
    "    # Create a df with the overall users as percentage\n",
    "    df_all = pd.DataFrame()\n",
    "    df_all.loc['Count','Overall']=df.shape[0]\n",
    "    df_all = pd.concat([df_all, df_specific])\n",
    "    df_all.loc[cat_other,'Overall']=df_all.loc[cat_other,'Overall']/len(col_other)\n",
    "    df_all['Overall'] = df_all['Overall'].apply(lambda x: round((x/df.shape[0])*100,2))\n",
    "    #df_pl_all\n",
    "\n",
    "    # Create different df for woman < 40 and woman > 40\n",
    "    df_woman_lt40 = df_overall.loc[('<40', 'Woman'),:].to_frame()#; print(\"df_pl_woman_lt40\\n\", df_pl_woman_lt40);print()\n",
    "    df_woman_gt40 = df_overall.loc[('>40', 'Woman'),:].to_frame()#; print(\"df_pl_woman_gt40\\n\", df_pl_woman_gt40)\n",
    "\n",
    "    # Concatenate the overall and the woman < 40 and woman > 40 data \n",
    "    df_temp = pd.concat([df_all, df_woman_lt40, df_woman_gt40], axis=1, join='inner') \n",
    "    #print(df_temp)\n",
    "    df_temp.drop('Count', inplace=True)\n",
    "    ax = df_temp.plot.bar( ylim=(0,100), ax=ax);annotate(ax, title) #figsize=(15, 6),\n",
    "    return df_temp\n",
    "\n",
    "# This uses seaborn library to plot the bar plot and udpates the dataframe accordingly\n",
    "def compare_sb(df, df_summary, df_temp, cat_other, col_other, ax, title=''):\n",
    "    othercol = cat_other\n",
    "    #print(\"df_temp- before\\n\", othercol, df_temp)\n",
    "\n",
    "    df_temp['Count'] = df_temp['Overall'].apply(lambda x: round((x/df.shape[0])*100,2))\n",
    "    df_temp['Age-Group'] = 'Overall'\n",
    "    df_temp.reset_index(inplace=True)\n",
    "    df_temp.rename(columns={'index':'Category'}, inplace=True)\n",
    "    #print(df_temp[df_temp['Category']==othercol]['Count'] )\n",
    "    df_temp.loc[df_temp['Category']==othercol,'Count'] = df_temp[df_temp['Category']==othercol]['Count'].apply(lambda x: round(x/len(COLS_OTHER),2))\n",
    "    df_temp.drop(columns=['Overall'], inplace=True)\n",
    "    #print(\"df_temp - after\\n\", df_temp)\n",
    "\n",
    "    df_summary = df_summary.drop(columns='Count').stack().reset_index()\n",
    "    df_summary.rename(columns={'level_2':'Category', 0:'Count'}, inplace=True)\n",
    "    df_summary = df_summary[df_summary['Gender']=='Woman']\n",
    "    df_summary['Age-Group'] = df_summary[['AgeGroup', 'Gender']].apply(lambda row: '-'.join(row.values.astype(str)), axis=1)\n",
    "    df_summary.drop(columns=['AgeGroup','Gender'],inplace=True)\n",
    "    df_summary = pd.concat([df_temp, df_summary])\n",
    "    #print(df_summary)\n",
    "\n",
    "    #plt.figure(figsize=(15,6))\n",
    "    ax = sns.barplot(x='Category', y='Count', hue='Age-Group', data=df_summary)\n",
    "    ax.set_title(title); ax.set_xlabel(''); ax.set_ylabel(''); ax.set_ylim([0, 100])\n",
    "    for i in range(3):\n",
    "        #ax.bar_label(ax.containers[i], fmt='%.1f%')\n",
    "        ax.bar_label(container = ax.containers[i], labels = [f'{value:2.1f}%' for value in ax.containers[i].datavalues])\n",
    "\n",
    "# Create a dataframe with users wrt Age-group and Gender \n",
    "def createSpecificAndSummary(df,topcol1, topcol2, topcol3, othercol, nonecol, othercols):\n",
    "    df_temp = df.agg({topcol1:np.sum,topcol2:np.sum,topcol3:np.sum, othercol:np.sum, nonecol:np.sum}).to_frame()\n",
    "    df_temp.rename(columns={0:\"Overall\"}, inplace=True)\n",
    "    #print(df_temp)\n",
    "\n",
    "    df_summary = df.groupby(by=['AgeGroup','Gender']).agg({'AgeGroup':'count',topcol1:np.sum,topcol2:np.sum,topcol3:np.sum, othercol:np.sum, nonecol:np.sum})\n",
    "    df_summary.rename(columns={\"AgeGroup\":\"Count\"}, inplace=True)\n",
    "\n",
    "    df_summary[topcol1] = convert2percent(df_summary,topcol1,\"Count\")\n",
    "    df_summary[topcol2] = convert2percent(df_summary,topcol2,\"Count\")\n",
    "    df_summary[topcol3] = convert2percent(df_summary,topcol3,\"Count\")\n",
    "\n",
    "    df_summary[othercol]  = df_summary[othercol]/ df_summary[\"Count\"]\n",
    "    df_summary[othercol]  = df_summary[othercol].apply(lambda x: round(x*100/len(othercols),2))\n",
    "\n",
    "    df_summary[nonecol]   = convert2percent(df_summary,nonecol,\"Count\")\n",
    "    df_summary['Count']   = df_summary['Count'].apply(lambda x: round((x/df.shape[0])*100,2))\n",
    "    return df_temp, df_summary\n",
    "\n",
    "# Summarise the values of the category - total, top 3 values, other & none\n",
    "def summarise(df, df_new, cat, cols, cols_other, col_none, \n",
    "                        top1col1, top1col2, top1val, \n",
    "                        top2col1, top2col2, top2val, \n",
    "                        top3col1, top3col2, top3val, ax=None, title=\"\"):\n",
    "\n",
    "    COL_COUNT, COL_OTHER, COL_NONE = f'{cat}-Count', f'{cat}-Other', f'{cat}-None'\n",
    "\n",
    "    df_new[COL_COUNT]  = df[cols].count(axis=1)\n",
    "    df_new[top1col2]   = createNewCol(df, top1col1 , df_new, top1col2, top1val)\n",
    "    df_new[top2col2]   = createNewCol(df, top2col1 , df_new, top2col2, top2val)\n",
    "    df_new[top3col2]   = createNewCol(df, top3col1 , df_new, top3col2, top3val)\n",
    "    df_new[COL_NONE]   = createNewCol(df, col_none, df_new, COL_NONE, \"None\")\n",
    "    df_new[COL_OTHER]  = df[cols_other].count(axis=1) \n",
    "    df_new[COL_COUNT]  = df[cols].count(axis=1) # None is not considered\n",
    "\n",
    "    # Fill None for rows where no option was selected\n",
    "    #print(\"BEFORE\", df_new[(df_new[COL_COUNT]==0)][COL_COUNT].sum(), df_new[COL_NONE].sum())\n",
    "    df_new.loc[(df_new[COL_COUNT]==0) & (df_new[COL_NONE]==0), COL_NONE] = 1\n",
    "    #print(\"AFTER\", df_new[COL_NONE].sum())\n",
    "\n",
    "    #print(df_new.head())\n",
    "    # Update the median and max values in the df_RESULT\n",
    "    df_RESULT.loc[cat,'Count-Median'] = df_new[COL_COUNT].median()\n",
    "    df_RESULT.loc[cat,'W<40-Median'] =df_new[(df_new['Gender']=='Woman')&(df_new['AgeGroup']=='<40')][COL_COUNT].median()\n",
    "    df_RESULT.loc[cat,'W>40-Median'] =df_new[(df_new['Gender']=='Woman')&(df_new['AgeGroup']=='>40')][COL_COUNT].median()\n",
    "    df_RESULT.loc[cat,'Count-Max'] = df_new[COL_COUNT].max()\n",
    "    df_RESULT.loc[cat,'W<40-Max'] =df_new[(df_new['Gender']=='Woman')&(df_new['AgeGroup']=='<40')][COL_COUNT].max()\n",
    "    df_RESULT.loc[cat,'W>40-Max'] =df_new[(df_new['Gender']=='Woman')&(df_new['AgeGroup']=='>40')][COL_COUNT].max()\n",
    "\n",
    "    # Create a df with the IDE and total number of IDE users\n",
    "    df_temp, df_summary = createSpecificAndSummary(df_new, top1col2, top2col2, top3col2, COL_OTHER, COL_NONE, cols_other)\n",
    "\n",
    "    #df_ = compare(df, df_summary, df_temp, COL_OTHER, cols_other, ax, title)\n",
    "    df_ = compare_sb(df, df_summary, df_temp, COL_OTHER, cols_other, ax, title)\n",
    "    #plotBox(df_new, COL_COUNT)  \n",
    "    return df_#, df_temp, df_summary     "
   ]
  },
  {
   "cell_type": "markdown",
   "metadata": {},
   "source": [
    "##### Visulisations"
   ]
  },
  {
   "cell_type": "code",
   "execution_count": 5,
   "metadata": {},
   "outputs": [],
   "source": [
    "def plotBox(df, col):\n",
    "    df_man = df[df['Gender']=='Man'][['AgeGroup', col]]#;print(df_man.head())\n",
    "    df_woman = df[df['Gender']=='Woman'][['AgeGroup', col]]#;print(df_woman.head())\n",
    "    plt.figure(figsize=(18, 5), dpi=80)\n",
    "\n",
    "    ax = plt.subplot(1, 4, 1); df_woman[df_woman['AgeGroup']=='<40'].hist(ax=ax); plt.title('Woman < 40')\n",
    "    ax = plt.subplot(1, 4, 2); df_woman[df_woman['AgeGroup']=='>40'].hist(ax=ax); plt.title('Woman > 40') \n",
    "    ax = plt.subplot(1, 4, 3); df_man.boxplot(by='AgeGroup', ax=ax); ax.set_title('Man')        \n",
    "    ax = plt.subplot(1, 4, 4); df_woman.boxplot(by='AgeGroup',ax=ax); ax.set_title('Woman') \n",
    "\n",
    "def plotSankey(nodes, links, title, width, height):\n",
    "    data = go.Sankey(node = nodes, link = links)\n",
    "    fig = go.Figure(data)\n",
    "    fig.update_layout(title=title,  font_size=16, width=width,height=height,)\n",
    "    fig.show()\n",
    "\n",
    "def showTreeMap(df, tree, values, title):\n",
    "    fig = px.treemap(df, path=[px.Constant(\"all\")] + tree, values=values,     \n",
    "                    color_discrete_map={'(?)':'lightgrey', 'Lunch':'gold', 'Dinner':'darkblue'})\n",
    "    fig.update_traces(root_color=\"lightgrey\")\n",
    "    #fig.update_traces(hovertemplate=)\n",
    "    fig.update_layout(title=title,  margin = dict(t=50, l=25, r=25, b=25))\n",
    "    fig.show()\n",
    "\n",
    "def annotate(ax, title='', strformat='', divideby=1):\n",
    "    # Annotate\n",
    "    for p in ax.patches:\n",
    "        # format(, '.1f')\n",
    "        value = p.get_height()/divideby\n",
    "        ax.annotate(f\"{value:.1f}{strformat}\", \n",
    "                    (p.get_x() + p.get_width() / 2., p.get_height()), \n",
    "                    ha = 'center', va = 'center', \n",
    "                    xytext = (0, 9), \n",
    "                    textcoords = 'offset points')\n",
    "    ax.set_title(title)"
   ]
  },
  {
   "cell_type": "markdown",
   "metadata": {},
   "source": [
    "#### Read dataset"
   ]
  },
  {
   "cell_type": "code",
   "execution_count": 6,
   "metadata": {},
   "outputs": [
    {
     "name": "stderr",
     "output_type": "stream",
     "text": [
      "/Users/sreedevigattu/sree/projects/mlds/venv/lib/python3.9/site-packages/IPython/core/interactiveshell.py:3444: DtypeWarning: Columns (195,201) have mixed types.Specify dtype option on import or set low_memory=False.\n",
      "  exec(code_obj, self.user_global_ns, self.user_ns)\n"
     ]
    }
   ],
   "source": [
    "df = pd.read_csv('data/kaggle_survey_2021_responses.csv', header=[0,1])"
   ]
  },
  {
   "cell_type": "code",
   "execution_count": 7,
   "metadata": {},
   "outputs": [
    {
     "name": "stdout",
     "output_type": "stream",
     "text": [
      "<class 'pandas.core.frame.DataFrame'>\n",
      "RangeIndex: 25973 entries, 0 to 25972\n",
      "Columns: 369 entries, ('Time from Start to Finish (seconds)', 'Duration (in seconds)') to ('Q38_B_OTHER', 'In the next 2 years, do you hope to become more familiar with any of these tools for managing ML experiments? (Select all that apply) - Selected Choice - Other')\n",
      "dtypes: float64(8), int64(1), object(360)\n",
      "memory usage: 73.1+ MB\n"
     ]
    }
   ],
   "source": [
    "df.info()"
   ]
  },
  {
   "cell_type": "code",
   "execution_count": 8,
   "metadata": {},
   "outputs": [
    {
     "name": "stdout",
     "output_type": "stream",
     "text": [
      "[('Time from Start to Finish (seconds)', 'Duration (in seconds)'), ('Q1', 'What is your age (# years)?'), ('Q2', 'What is your gender? - Selected Choice'), ('Q3', 'In which country do you currently reside?'), ('Q4', 'What is the highest level of formal education that you have attained or plan to attain within the next 2 years?'), ('Q5', 'Select the title most similar to your current role (or most recent title if retired): - Selected Choice'), ('Q6', 'For how many years have you been writing code and/or programming?'), ('Q7_Part_1', 'What programming languages do you use on a regular basis? (Select all that apply) - Selected Choice - Python'), ('Q7_Part_2', 'What programming languages do you use on a regular basis? (Select all that apply) - Selected Choice - R'), ('Q7_Part_3', 'What programming languages do you use on a regular basis? (Select all that apply) - Selected Choice - SQL')]\n"
     ]
    }
   ],
   "source": [
    "print(df.columns.tolist()[0:10])"
   ]
  },
  {
   "cell_type": "code",
   "execution_count": 9,
   "metadata": {},
   "outputs": [],
   "source": [
    "df.iloc[0,:].to_frame().to_csv(\"Columns.csv\")"
   ]
  },
  {
   "cell_type": "code",
   "execution_count": 10,
   "metadata": {},
   "outputs": [
    {
     "data": {
      "text/plain": [
       "<AxesSubplot:>"
      ]
     },
     "execution_count": 10,
     "metadata": {},
     "output_type": "execute_result"
    },
    {
     "data": {
      "image/png": "[encoded data removed]",
      "text/plain": [
       "<Figure size 1800x720 with 2 Axes>"
      ]
     },
     "metadata": {
      "needs_background": "light"
     },
     "output_type": "display_data"
    }
   ],
   "source": [
    "msno.matrix(df.iloc[:,:7])"
   ]
  },
  {
   "cell_type": "markdown",
   "metadata": {},
   "source": [
    "#### Age and Gender - Data processing"
   ]
  },
  {
   "cell_type": "code",
   "execution_count": 11,
   "metadata": {},
   "outputs": [
    {
     "name": "stdout",
     "output_type": "stream",
     "text": [
      "<class 'pandas.core.frame.DataFrame'>\n",
      "RangeIndex: 25973 entries, 0 to 25972\n",
      "Data columns (total 3 columns):\n",
      " #   Column   Non-Null Count  Dtype \n",
      "---  ------   --------------  ----- \n",
      " 0   Age      25973 non-null  object\n",
      " 1   Gender   25973 non-null  object\n",
      " 2   Country  25973 non-null  object\n",
      "dtypes: object(3)\n",
      "memory usage: 608.9+ KB\n"
     ]
    }
   ],
   "source": [
    "df_new = pd.DataFrame()\n",
    "df_new['Age']       = df['Q1', 'What is your age (# years)?']\n",
    "df_new['Gender']    = df['Q2', 'What is your gender? - Selected Choice']\n",
    "df_new['Country']   = df['Q3', 'In which country do you currently reside?']\n",
    "df_new.info()"
   ]
  },
  {
   "cell_type": "code",
   "execution_count": 12,
   "metadata": {},
   "outputs": [
    {
     "name": "stdout",
     "output_type": "stream",
     "text": [
      "Man                        20598\n",
      "Woman                       4890\n",
      "Prefer not to say            355\n",
      "Nonbinary                     88\n",
      "Prefer to self-describe       42\n",
      "Name: Gender, dtype: int64\n",
      "     Age Gender    Country\n",
      "0  50-54    Man      India\n",
      "1  50-54    Man  Indonesia\n",
      "2  22-24    Man   Pakistan\n",
      "3  45-49    Man     Mexico\n",
      "4  45-49    Man      India\n"
     ]
    }
   ],
   "source": [
    "df_new.groupby(by='Age').agg({\"Age\":'count'}).rename(columns={'Age':'Count'}).reset_index(inplace=True)\n",
    "print(df_new['Gender'].value_counts())\n",
    "print(df_new.head())"
   ]
  },
  {
   "cell_type": "code",
   "execution_count": 13,
   "metadata": {},
   "outputs": [
    {
     "data": {
      "text/html": [
       "<div>\n",
       "<style scoped>\n",
       "    .dataframe tbody tr th:only-of-type {\n",
       "        vertical-align: middle;\n",
       "    }\n",
       "\n",
       "    .dataframe tbody tr th {\n",
       "        vertical-align: top;\n",
       "    }\n",
       "\n",
       "    .dataframe thead th {\n",
       "        text-align: right;\n",
       "    }\n",
       "</style>\n",
       "<table border=\"1\" class=\"dataframe\">\n",
       "  <thead>\n",
       "    <tr style=\"text-align: right;\">\n",
       "      <th></th>\n",
       "      <th>Age</th>\n",
       "      <th>Gender</th>\n",
       "      <th>Country</th>\n",
       "      <th>AgeGroup</th>\n",
       "    </tr>\n",
       "  </thead>\n",
       "  <tbody>\n",
       "    <tr>\n",
       "      <th>0</th>\n",
       "      <td>50-54</td>\n",
       "      <td>Man</td>\n",
       "      <td>India</td>\n",
       "      <td>&gt;40</td>\n",
       "    </tr>\n",
       "    <tr>\n",
       "      <th>1</th>\n",
       "      <td>50-54</td>\n",
       "      <td>Man</td>\n",
       "      <td>Indonesia</td>\n",
       "      <td>&gt;40</td>\n",
       "    </tr>\n",
       "    <tr>\n",
       "      <th>2</th>\n",
       "      <td>22-24</td>\n",
       "      <td>Man</td>\n",
       "      <td>Pakistan</td>\n",
       "      <td>&lt;40</td>\n",
       "    </tr>\n",
       "    <tr>\n",
       "      <th>3</th>\n",
       "      <td>45-49</td>\n",
       "      <td>Man</td>\n",
       "      <td>Mexico</td>\n",
       "      <td>&gt;40</td>\n",
       "    </tr>\n",
       "    <tr>\n",
       "      <th>4</th>\n",
       "      <td>45-49</td>\n",
       "      <td>Man</td>\n",
       "      <td>India</td>\n",
       "      <td>&gt;40</td>\n",
       "    </tr>\n",
       "  </tbody>\n",
       "</table>\n",
       "</div>"
      ],
      "text/plain": [
       "     Age Gender    Country AgeGroup\n",
       "0  50-54    Man      India      >40\n",
       "1  50-54    Man  Indonesia      >40\n",
       "2  22-24    Man   Pakistan      <40\n",
       "3  45-49    Man     Mexico      >40\n",
       "4  45-49    Man      India      >40"
      ]
     },
     "execution_count": 13,
     "metadata": {},
     "output_type": "execute_result"
    }
   ],
   "source": [
    "df_new['Gender'] = df_new['Gender'].apply(lambda x: x if x in ['Man', 'Woman'] else 'Other')\n",
    "df_new[\"AgeGroup\"] = df_new['Age'].apply(lambda x: '<40' if x in ['18-21', '22-24', '25-29', '30-34', '35-39'] else '>40')\n",
    "df_new.head()"
   ]
  },
  {
   "cell_type": "code",
   "execution_count": 14,
   "metadata": {},
   "outputs": [],
   "source": [
    "COLS_GENDER = ['Man', 'Woman', 'Other']\n",
    "COLS_AGE = ['18-29','30-39','40-49','50-59','60-69','70+']\n",
    "COLOR_MAP_GENDER = {'(?)':'lightgrey', 'Man':'dodgerblue', 'Woman':'lightcoral', 'Other':'gold'}\n",
    "\n",
    "def getAgeGenderPivotDF():\n",
    "    COLS_18_29, COLS_30_39, COLS_40_49, COLS_50_59 = ['18-21', '22-24', '25-29'], ['30-34','35-39'], ['40-44','45-49'], ['50-54','55-59']\n",
    "\n",
    "    df_ = df_new.groupby(by=['Age','Gender']).agg({'Gender':'count'}).rename(columns={'Gender':'Count'})\n",
    "    df_.reset_index(inplace=True)\n",
    "    #print(df_.head())\n",
    "\n",
    "    df_summary = pd.pivot_table(data = df_,  values='Count', index=['Age'], columns=['Gender'], aggfunc=np.sum, fill_value=0)\n",
    "    df_summary = df_summary[COLS_GENDER]\n",
    "\n",
    "    #print(df_summary)\n",
    "    df_summary.loc['18-29',COLS_GENDER ] = df_summary.loc[COLS_18_29, COLS_GENDER].sum(); df_summary.drop(index=COLS_18_29, inplace=True)\n",
    "    df_summary.loc['30-39',COLS_GENDER ] = df_summary.loc[COLS_30_39, COLS_GENDER].sum(); df_summary.drop(index=COLS_30_39, inplace=True)\n",
    "    df_summary.loc['40-49',COLS_GENDER ] = df_summary.loc[COLS_40_49, COLS_GENDER].sum(); df_summary.drop(index=COLS_40_49, inplace=True)\n",
    "    df_summary.loc['50-59',COLS_GENDER ] = df_summary.loc[COLS_50_59, COLS_GENDER].sum(); df_summary.drop(index=COLS_50_59, inplace=True)\n",
    "    df_summary = df_summary.reindex(index = COLS_AGE)\n",
    "    df_summary['Count'] = df_summary['Man'] + df_summary['Woman'] + df_summary['Other']\n",
    "    df_summary.reset_index(inplace=True)\n",
    "    df_summary[\"AgeGroup\"] = df_summary['Age'].apply(lambda x: '<40' if x in ['18-29','30-39'] else '>40')\n",
    "    print(df_summary)\n",
    "    return df_summary\n",
    "\n",
    "def plotAgeGenderSankey(df):\n",
    "    LABELS  = [ f'[{age}]yrs-{gender}' for age in COLS_AGE for gender in COLS_GENDER  ]#; print(LABELS[0:3])\n",
    "    VALUES  = [ int(df[df['Age']==age][col].values[0]) for age in COLS_AGE for col in COLS_GENDER ]#;print(VALUES)\n",
    "    NODES   = dict( label = [f'{col} yrs' for col in COLS_AGE] + COLS_GENDER, hovertemplate=\" \",\n",
    "                    color = [ \"seagreen\",   \"lightseagreen\",   \"tomato\",  \"orange\",  \"peru\",    \"brown\"] + ['dodgerblue', 'lightcoral', 'gold'],\n",
    "                    x     = [ 0.1]*6 + [1]*6,\n",
    "                    y     = [ 0.15, 0.5, 0.7, 0.8, 0.9, .95,] + [0.3, 0.75, 0.9])\n",
    "    LINKS   = dict( source = [0]*3 + [1]*3 + [2]*3 + [3]*3 + [4]*3 + [5]*3 + [6]*3, target = [ 6, 7, 8]*6, \n",
    "                    value =  VALUES, label = LABELS, hovertemplate=\"%{label}\",     \n",
    "                    color =  [\"lightgreen\"]*3 + [\"paleturquoise\"]*3 +[\"sandybrown\"]*3 + ['khaki'] * 3 + ['moccasin']*3 + ['bisque']*3)        \n",
    "    plotSankey(NODES, LINKS, \"Age & Gender - What is the distribution?\", 1000, 600)\n",
    "    # Colors are at https://developer.mozilla.org/en-US/docs/Web/CSS/color_value\n",
    "\n",
    "def getAgeGenderDF():\n",
    "    df_ = df_new.groupby(by=['Age','Gender','AgeGroup']).agg({'Gender':'count'}).rename(columns={'Gender':'Count'})\n",
    "    df_.reset_index(inplace=True)\n",
    "    total = df_['Count'].sum()\n",
    "    df_[\"Count\"] = df_['Count'].apply(lambda x: percent(x, total))\n",
    "    print(df_.head())\n",
    "    return df_"
   ]
  },
  {
   "cell_type": "code",
   "execution_count": 15,
   "metadata": {},
   "outputs": [],
   "source": [
    "def showTreeMap(df, tree, values, title, width, height):\n",
    "    fig = px.treemap(df, path=[px.Constant(\"all\")] + tree, values=values,  \n",
    "                    color='Gender', color_discrete_map={'(?)':'lightgrey', 'Man':'dodgerblue', 'Woman':'lightcoral', 'Other':'gold'})\n",
    "    fig.update_traces(root_color=\"lightgrey\")\n",
    "    #fig.update_traces(values=values, hovertemplate='{values}')\n",
    "    fig.update_layout(title=title,  width=width, height=height, margin = dict(t=50, l=25, r=25, b=25))\n",
    "    fig.show()\n",
    "\n",
    "def plotTreeMapSP(df, tree, values, color, colors, fig, row, col):\n",
    "    subfig = px.treemap(df, path=[px.Constant(\"all\")] + tree, values=values, color=color, color_discrete_map=colors)\n",
    "    print(type(subfig.data[0]))\n",
    "    subfig.update_traces(root_color=\"lightgrey\")\n",
    "    #subfig.update_traces(values=df[values], hovertemplate='{values}')\n",
    "    subfig.update_layout(width=600, height=400, margin = dict(t=50, l=25, r=25, b=25))\n",
    "    fig.add_trace(subfig.data[0], row=row, col=col)\n",
    "    return fig\n",
    "\n",
    "def plotLineSP(df, x, y, color, colormap, fig, row, col, w, h):\n",
    "    subfig = px.line(df, x=x, y=y, color=color, color_discrete_map=colormap)\n",
    "    subfig.update_traces(mode=\"markers+lines\", hovertemplate=None)\n",
    "    #subfig.update_layout(width=w, height=h, margin = dict(t=50, l=25, r=25, b=25))\n",
    "    for data in subfig.data:\n",
    "        fig.add_trace(data, row=row, col=col)\n",
    "    return fig\n",
    "\n",
    "def plotLine(df, x, y, color, colormap, title):#, fig, row, col, w, h):\n",
    "    fig = px.line(df, x=x, y=y, color=color, color_discrete_map=colormap)\n",
    "    fig.update_traces(mode=\"markers+lines\", hovertemplate=None)\n",
    "    fig.update_layout(title=title, width=600, height=400, margin = dict(t=50, l=25, r=25, b=25))\n",
    "    fig.show()\n",
    "    return fig\n",
    "\n",
    "def plotTreeMapLine(df):\n",
    "    print(df.groupby(by=['AgeGroup','Gender']).agg({'Count':np.sum}))\n",
    "    fig = make_subplots( cols = 2, rows = 1, column_widths = [0.4, 0.4],\n",
    "                        subplot_titles = ('<b>Age & Gender - What is the distribution?<br />&nbsp;<br />', '<b>Age & number of members<br />&nbsp;<br />'),\n",
    "                        specs = [[{'type': 'treemap', 'rowspan': 1}, {'type': 'Scatter'}]])\n",
    "    fig = plotTreeMapSP(df, ['Age', 'Gender'], 'Count', \"Gender\", COLOR_MAP_GENDER, fig, 1, 1)\n",
    "    fig = plotLineSP(df, 'Age', 'Count', 'Gender', COLOR_MAP_GENDER, fig, 1, 2, 600, 300 )\n",
    "    fig.show()"
   ]
  },
  {
   "cell_type": "markdown",
   "metadata": {},
   "source": [
    "## 1. Demographics"
   ]
  },
  {
   "cell_type": "markdown",
   "metadata": {},
   "source": [
    "### 1.1 Age and Gender\n",
    "How many men and women are distributed across various age groups? What percentage of members form the **Women >40years** group? Are there far more men in the technology space than women?"
   ]
  },
  {
   "cell_type": "code",
   "execution_count": 16,
   "metadata": {},
   "outputs": [
    {
     "name": "stdout",
     "output_type": "stream",
     "text": [
      "Gender    Age      Man   Woman  Other    Count AgeGroup\n",
      "0       18-29  11198.0  3074.0  254.0  14526.0      <40\n",
      "1       30-39   4758.0  1073.0  114.0   5945.0      <40\n",
      "2       40-49   2708.0   492.0   65.0   3265.0      >40\n",
      "3       50-59   1320.0   208.0   28.0   1556.0      >40\n",
      "4       60-69    504.0    35.0   14.0    553.0      >40\n",
      "5         70+    110.0     8.0   10.0    128.0      >40\n"
     ]
    },
    {
     "data": {
      "application/vnd.plotly.v1+json": {
       "config": {
        "plotlyServerURL": "https://plot.ly"
       },
       "data": [
        {
         "link": {
          "color": [
           "lightgreen",
           "lightgreen",
           "lightgreen",
           "paleturquoise",
           "paleturquoise",
           "paleturquoise",
           "sandybrown",
           "sandybrown",
           "sandybrown",
           "khaki",
           "khaki",
           "khaki",
           "moccasin",
           "moccasin",
           "moccasin",
           "bisque",
           "bisque",
           "bisque"
          ],
          "hovertemplate": "%{label}",
          "label": [
           "[18-29]yrs-Man",
           "[18-29]yrs-Woman",
           "[18-29]yrs-Other",
           "[30-39]yrs-Man",
           "[30-39]yrs-Woman",
           "[30-39]yrs-Other",
           "[40-49]yrs-Man",
           "[40-49]yrs-Woman",
           "[40-49]yrs-Other",
           "[50-59]yrs-Man",
           "[50-59]yrs-Woman",
           "[50-59]yrs-Other",
           "[60-69]yrs-Man",
           "[60-69]yrs-Woman",
           "[60-69]yrs-Other",
           "[70+]yrs-Man",
           "[70+]yrs-Woman",
           "[70+]yrs-Other"
          ],
          "source": [
           0,
           0,
           0,
           1,
           1,
           1,
           2,
           2,
           2,
           3,
           3,
           3,
           4,
           4,
           4,
           5,
           5,
           5,
           6,
           6,
           6
          ],
          "target": [
           6,
           7,
           8,
           6,
           7,
           8,
           6,
           7,
           8,
           6,
           7,
           8,
           6,
           7,
           8,
           6,
           7,
           8
          ],
          "value": [
           11198,
           3074,
           254,
           4758,
           1073,
           114,
           2708,
           492,
           65,
           1320,
           208,
           28,
           504,
           35,
           14,
           110,
           8,
           10
          ]
         },
         "node": {
          "color": [
           "seagreen",
           "lightseagreen",
           "tomato",
           "orange",
           "peru",
           "brown",
           "dodgerblue",
           "lightcoral",
           "gold"
          ],
          "hovertemplate": " ",
          "label": [
           "18-29 yrs",
           "30-39 yrs",
           "40-49 yrs",
           "50-59 yrs",
           "60-69 yrs",
           "70+ yrs",
           "Man",
           "Woman",
           "Other"
          ],
          "x": [
           0.1,
           0.1,
           0.1,
           0.1,
           0.1,
           0.1,
           1,
           1,
           1,
           1,
           1,
           1
          ],
          "y": [
           0.15,
           0.5,
           0.7,
           0.8,
           0.9,
           0.95,
           0.3,
           0.75,
           0.9
          ]
         },
         "type": "sankey"
        }
       ],
       "layout": {
        "font": {
         "size": 16
        },
        "height": 600,
        "template": {
         "data": {
          "bar": [
           {
            "error_x": {
             "color": "#2a3f5f"
            },
            "error_y": {
             "color": "#2a3f5f"
            },
            "marker": {
             "line": {
              "color": "#E5ECF6",
              "width": 0.5
             },
             "pattern": {
              "fillmode": "overlay",
              "size": 10,
              "solidity": 0.2
             }
            },
            "type": "bar"
           }
          ],
          "barpolar": [
           {
            "marker": {
             "line": {
              "color": "#E5ECF6",
              "width": 0.5
             },
             "pattern": {
              "fillmode": "overlay",
              "size": 10,
              "solidity": 0.2
             }
            },
            "type": "barpolar"
           }
          ],
          "carpet": [
           {
            "aaxis": {
             "endlinecolor": "#2a3f5f",
             "gridcolor": "white",
             "linecolor": "white",
             "minorgridcolor": "white",
             "startlinecolor": "#2a3f5f"
            },
            "baxis": {
             "endlinecolor": "#2a3f5f",
             "gridcolor": "white",
             "linecolor": "white",
             "minorgridcolor": "white",
             "startlinecolor": "#2a3f5f"
            },
            "type": "carpet"
           }
          ],
          "choropleth": [
           {
            "colorbar": {
             "outlinewidth": 0,
             "ticks": ""
            },
            "type": "choropleth"
           }
          ],
          "contour": [
           {
            "colorbar": {
             "outlinewidth": 0,
             "ticks": ""
            },
            "colorscale": [
             [
              0,
              "#0d0887"
             ],
             [
              0.1111111111111111,
              "#46039f"
             ],
             [
              0.2222222222222222,
              "#7201a8"
             ],
             [
              0.3333333333333333,
              "#9c179e"
             ],
             [
              0.4444444444444444,
              "#bd3786"
             ],
             [
              0.5555555555555556,
              "#d8576b"
             ],
             [
              0.6666666666666666,
              "#ed7953"
             ],
             [
              0.7777777777777778,
              "#fb9f3a"
             ],
             [
              0.8888888888888888,
              "#fdca26"
             ],
             [
              1,
              "#f0f921"
             ]
            ],
            "type": "contour"
           }
          ],
          "contourcarpet": [
           {
            "colorbar": {
             "outlinewidth": 0,
             "ticks": ""
            },
            "type": "contourcarpet"
           }
          ],
          "heatmap": [
           {
            "colorbar": {
             "outlinewidth": 0,
             "ticks": ""
            },
            "colorscale": [
             [
              0,
              "#0d0887"
             ],
             [
              0.1111111111111111,
              "#46039f"
             ],
             [
              0.2222222222222222,
              "#7201a8"
             ],
             [
              0.3333333333333333,
              "#9c179e"
             ],
             [
              0.4444444444444444,
              "#bd3786"
             ],
             [
              0.5555555555555556,
              "#d8576b"
             ],
             [
              0.6666666666666666,
              "#ed7953"
             ],
             [
              0.7777777777777778,
              "#fb9f3a"
             ],
             [
              0.8888888888888888,
              "#fdca26"
             ],
             [
              1,
              "#f0f921"
             ]
            ],
            "type": "heatmap"
           }
          ],
          "heatmapgl": [
           {
            "colorbar": {
             "outlinewidth": 0,
             "ticks": ""
            },
            "colorscale": [
             [
              0,
              "#0d0887"
             ],
             [
              0.1111111111111111,
              "#46039f"
             ],
             [
              0.2222222222222222,
              "#7201a8"
             ],
             [
              0.3333333333333333,
              "#9c179e"
             ],
             [
              0.4444444444444444,
              "#bd3786"
             ],
             [
              0.5555555555555556,
              "#d8576b"
             ],
             [
              0.6666666666666666,
              "#ed7953"
             ],
             [
              0.7777777777777778,
              "#fb9f3a"
             ],
             [
              0.8888888888888888,
              "#fdca26"
             ],
             [
              1,
              "#f0f921"
             ]
            ],
            "type": "heatmapgl"
           }
          ],
          "histogram": [
           {
            "marker": {
             "pattern": {
              "fillmode": "overlay",
              "size": 10,
              "solidity": 0.2
             }
            },
            "type": "histogram"
           }
          ],
          "histogram2d": [
           {
            "colorbar": {
             "outlinewidth": 0,
             "ticks": ""
            },
            "colorscale": [
             [
              0,
              "#0d0887"
             ],
             [
              0.1111111111111111,
              "#46039f"
             ],
             [
              0.2222222222222222,
              "#7201a8"
             ],
             [
              0.3333333333333333,
              "#9c179e"
             ],
             [
              0.4444444444444444,
              "#bd3786"
             ],
             [
              0.5555555555555556,
              "#d8576b"
             ],
             [
              0.6666666666666666,
              "#ed7953"
             ],
             [
              0.7777777777777778,
              "#fb9f3a"
             ],
             [
              0.8888888888888888,
              "#fdca26"
             ],
             [
              1,
              "#f0f921"
             ]
            ],
            "type": "histogram2d"
           }
          ],
          "histogram2dcontour": [
           {
            "colorbar": {
             "outlinewidth": 0,
             "ticks": ""
            },
            "colorscale": [
             [
              0,
              "#0d0887"
             ],
             [
              0.1111111111111111,
              "#46039f"
             ],
             [
              0.2222222222222222,
              "#7201a8"
             ],
             [
              0.3333333333333333,
              "#9c179e"
             ],
             [
              0.4444444444444444,
              "#bd3786"
             ],
             [
              0.5555555555555556,
              "#d8576b"
             ],
             [
              0.6666666666666666,
              "#ed7953"
             ],
             [
              0.7777777777777778,
              "#fb9f3a"
             ],
             [
              0.8888888888888888,
              "#fdca26"
             ],
             [
              1,
              "#f0f921"
             ]
            ],
            "type": "histogram2dcontour"
           }
          ],
          "mesh3d": [
           {
            "colorbar": {
             "outlinewidth": 0,
             "ticks": ""
            },
            "type": "mesh3d"
           }
          ],
          "parcoords": [
           {
            "line": {
             "colorbar": {
              "outlinewidth": 0,
              "ticks": ""
             }
            },
            "type": "parcoords"
           }
          ],
          "pie": [
           {
            "automargin": true,
            "type": "pie"
           }
          ],
          "scatter": [
           {
            "marker": {
             "colorbar": {
              "outlinewidth": 0,
              "ticks": ""
             }
            },
            "type": "scatter"
           }
          ],
          "scatter3d": [
           {
            "line": {
             "colorbar": {
              "outlinewidth": 0,
              "ticks": ""
             }
            },
            "marker": {
             "colorbar": {
              "outlinewidth": 0,
              "ticks": ""
             }
            },
            "type": "scatter3d"
           }
          ],
          "scattercarpet": [
           {
            "marker": {
             "colorbar": {
              "outlinewidth": 0,
              "ticks": ""
             }
            },
            "type": "scattercarpet"
           }
          ],
          "scattergeo": [
           {
            "marker": {
             "colorbar": {
              "outlinewidth": 0,
              "ticks": ""
             }
            },
            "type": "scattergeo"
           }
          ],
          "scattergl": [
           {
            "marker": {
             "colorbar": {
              "outlinewidth": 0,
              "ticks": ""
             }
            },
            "type": "scattergl"
           }
          ],
          "scattermapbox": [
           {
            "marker": {
             "colorbar": {
              "outlinewidth": 0,
              "ticks": ""
             }
            },
            "type": "scattermapbox"
           }
          ],
          "scatterpolar": [
           {
            "marker": {
             "colorbar": {
              "outlinewidth": 0,
              "ticks": ""
             }
            },
            "type": "scatterpolar"
           }
          ],
          "scatterpolargl": [
           {
            "marker": {
             "colorbar": {
              "outlinewidth": 0,
              "ticks": ""
             }
            },
            "type": "scatterpolargl"
           }
          ],
          "scatterternary": [
           {
            "marker": {
             "colorbar": {
              "outlinewidth": 0,
              "ticks": ""
             }
            },
            "type": "scatterternary"
           }
          ],
          "surface": [
           {
            "colorbar": {
             "outlinewidth": 0,
             "ticks": ""
            },
            "colorscale": [
             [
              0,
              "#0d0887"
             ],
             [
              0.1111111111111111,
              "#46039f"
             ],
             [
              0.2222222222222222,
              "#7201a8"
             ],
             [
              0.3333333333333333,
              "#9c179e"
             ],
             [
              0.4444444444444444,
              "#bd3786"
             ],
             [
              0.5555555555555556,
              "#d8576b"
             ],
             [
              0.6666666666666666,
              "#ed7953"
             ],
             [
              0.7777777777777778,
              "#fb9f3a"
             ],
             [
              0.8888888888888888,
              "#fdca26"
             ],
             [
              1,
              "#f0f921"
             ]
            ],
            "type": "surface"
           }
          ],
          "table": [
           {
            "cells": {
             "fill": {
              "color": "#EBF0F8"
             },
             "line": {
              "color": "white"
             }
            },
            "header": {
             "fill": {
              "color": "#C8D4E3"
             },
             "line": {
              "color": "white"
             }
            },
            "type": "table"
           }
          ]
         },
         "layout": {
          "annotationdefaults": {
           "arrowcolor": "#2a3f5f",
           "arrowhead": 0,
           "arrowwidth": 1
          },
          "autotypenumbers": "strict",
          "coloraxis": {
           "colorbar": {
            "outlinewidth": 0,
            "ticks": ""
           }
          },
          "colorscale": {
           "diverging": [
            [
             0,
             "#8e0152"
            ],
            [
             0.1,
             "#c51b7d"
            ],
            [
             0.2,
             "#de77ae"
            ],
            [
             0.3,
             "#f1b6da"
            ],
            [
             0.4,
             "#fde0ef"
            ],
            [
             0.5,
             "#f7f7f7"
            ],
            [
             0.6,
             "#e6f5d0"
            ],
            [
             0.7,
             "#b8e186"
            ],
            [
             0.8,
             "#7fbc41"
            ],
            [
             0.9,
             "#4d9221"
            ],
            [
             1,
             "#276419"
            ]
           ],
           "sequential": [
            [
             0,
             "#0d0887"
            ],
            [
             0.1111111111111111,
             "#46039f"
            ],
            [
             0.2222222222222222,
             "#7201a8"
            ],
            [
             0.3333333333333333,
             "#9c179e"
            ],
            [
             0.4444444444444444,
             "#bd3786"
            ],
            [
             0.5555555555555556,
             "#d8576b"
            ],
            [
             0.6666666666666666,
             "#ed7953"
            ],
            [
             0.7777777777777778,
             "#fb9f3a"
            ],
            [
             0.8888888888888888,
             "#fdca26"
            ],
            [
             1,
             "#f0f921"
            ]
           ],
           "sequentialminus": [
            [
             0,
             "#0d0887"
            ],
            [
             0.1111111111111111,
             "#46039f"
            ],
            [
             0.2222222222222222,
             "#7201a8"
            ],
            [
             0.3333333333333333,
             "#9c179e"
            ],
            [
             0.4444444444444444,
             "#bd3786"
            ],
            [
             0.5555555555555556,
             "#d8576b"
            ],
            [
             0.6666666666666666,
             "#ed7953"
            ],
            [
             0.7777777777777778,
             "#fb9f3a"
            ],
            [
             0.8888888888888888,
             "#fdca26"
            ],
            [
             1,
             "#f0f921"
            ]
           ]
          },
          "colorway": [
           "#636efa",
           "#EF553B",
           "#00cc96",
           "#ab63fa",
           "#FFA15A",
           "#19d3f3",
           "#FF6692",
           "#B6E880",
           "#FF97FF",
           "#FECB52"
          ],
          "font": {
           "color": "#2a3f5f"
          },
          "geo": {
           "bgcolor": "white",
           "lakecolor": "white",
           "landcolor": "#E5ECF6",
           "showlakes": true,
           "showland": true,
           "subunitcolor": "white"
          },
          "hoverlabel": {
           "align": "left"
          },
          "hovermode": "closest",
          "mapbox": {
           "style": "light"
          },
          "paper_bgcolor": "white",
          "plot_bgcolor": "#E5ECF6",
          "polar": {
           "angularaxis": {
            "gridcolor": "white",
            "linecolor": "white",
            "ticks": ""
           },
           "bgcolor": "#E5ECF6",
           "radialaxis": {
            "gridcolor": "white",
            "linecolor": "white",
            "ticks": ""
           }
          },
          "scene": {
           "xaxis": {
            "backgroundcolor": "#E5ECF6",
            "gridcolor": "white",
            "gridwidth": 2,
            "linecolor": "white",
            "showbackground": true,
            "ticks": "",
            "zerolinecolor": "white"
           },
           "yaxis": {
            "backgroundcolor": "#E5ECF6",
            "gridcolor": "white",
            "gridwidth": 2,
            "linecolor": "white",
            "showbackground": true,
            "ticks": "",
            "zerolinecolor": "white"
           },
           "zaxis": {
            "backgroundcolor": "#E5ECF6",
            "gridcolor": "white",
            "gridwidth": 2,
            "linecolor": "white",
            "showbackground": true,
            "ticks": "",
            "zerolinecolor": "white"
           }
          },
          "shapedefaults": {
           "line": {
            "color": "#2a3f5f"
           }
          },
          "ternary": {
           "aaxis": {
            "gridcolor": "white",
            "linecolor": "white",
            "ticks": ""
           },
           "baxis": {
            "gridcolor": "white",
            "linecolor": "white",
            "ticks": ""
           },
           "bgcolor": "#E5ECF6",
           "caxis": {
            "gridcolor": "white",
            "linecolor": "white",
            "ticks": ""
           }
          },
          "title": {
           "x": 0.05
          },
          "xaxis": {
           "automargin": true,
           "gridcolor": "white",
           "linecolor": "white",
           "ticks": "",
           "title": {
            "standoff": 15
           },
           "zerolinecolor": "white",
           "zerolinewidth": 2
          },
          "yaxis": {
           "automargin": true,
           "gridcolor": "white",
           "linecolor": "white",
           "ticks": "",
           "title": {
            "standoff": 15
           },
           "zerolinecolor": "white",
           "zerolinewidth": 2
          }
         }
        },
        "title": {
         "text": "Age & Gender - What is the distribution?"
        },
        "width": 1000
       }
      }
     },
     "metadata": {},
     "output_type": "display_data"
    },
    {
     "name": "stdout",
     "output_type": "stream",
     "text": [
      "     Age Gender AgeGroup  Count\n",
      "0  18-21    Man      <40  14.23\n",
      "1  18-21  Other      <40   0.34\n",
      "2  18-21  Woman      <40   4.30\n",
      "3  22-24    Man      <40  14.03\n",
      "4  22-24  Other      <40   0.34\n",
      "                 Count\n",
      "AgeGroup Gender       \n",
      "<40      Man     61.44\n",
      "         Other    1.42\n",
      "         Woman   15.97\n",
      ">40      Man     17.87\n",
      "         Other    0.45\n",
      "         Woman    2.85\n",
      "<class 'plotly.graph_objs._treemap.Treemap'>\n"
     ]
    },
    {
     "data": {
      "application/vnd.plotly.v1+json": {
       "config": {
        "plotlyServerURL": "https://plot.ly"
       },
       "data": [
        {
         "branchvalues": "total",
         "customdata": [
          [
           "Man"
          ],
          [
           "Woman"
          ],
          [
           "Man"
          ],
          [
           "Woman"
          ],
          [
           "Man"
          ],
          [
           "Woman"
          ],
          [
           "Man"
          ],
          [
           "Other"
          ],
          [
           "Other"
          ],
          [
           "Other"
          ],
          [
           "Other"
          ],
          [
           "Woman"
          ],
          [
           "Woman"
          ],
          [
           "Woman"
          ],
          [
           "Other"
          ],
          [
           "Woman"
          ],
          [
           "Other"
          ],
          [
           "Other"
          ],
          [
           "Man"
          ],
          [
           "Man"
          ],
          [
           "Man"
          ],
          [
           "Man"
          ],
          [
           "Other"
          ],
          [
           "Other"
          ],
          [
           "Other"
          ],
          [
           "Man"
          ],
          [
           "Woman"
          ],
          [
           "Man"
          ],
          [
           "Woman"
          ],
          [
           "Man"
          ],
          [
           "Woman"
          ],
          [
           "Other"
          ],
          [
           "Woman"
          ],
          [
           "(?)"
          ],
          [
           "(?)"
          ],
          [
           "(?)"
          ],
          [
           "(?)"
          ],
          [
           "(?)"
          ],
          [
           "(?)"
          ],
          [
           "(?)"
          ],
          [
           "(?)"
          ],
          [
           "(?)"
          ],
          [
           "(?)"
          ],
          [
           "(?)"
          ],
          [
           "(?)"
          ]
         ],
         "domain": {
          "x": [
           0,
           0.45
          ],
          "y": [
           0,
           1
          ]
         },
         "hovertemplate": "labels=%{label}<br>Count=%{value}<br>parent=%{parent}<br>id=%{id}<br>Gender=%{customdata[0]}<extra></extra>",
         "ids": [
          "all/18-21/Man",
          "all/55-59/Woman",
          "all/30-34/Man",
          "all/40-44/Woman",
          "all/45-49/Man",
          "all/25-29/Woman",
          "all/60-69/Man",
          "all/70+/Other",
          "all/22-24/Other",
          "all/50-54/Other",
          "all/35-39/Other",
          "all/45-49/Woman",
          "all/30-34/Woman",
          "all/18-21/Woman",
          "all/55-59/Other",
          "all/60-69/Woman",
          "all/40-44/Other",
          "all/25-29/Other",
          "all/70+/Man",
          "all/50-54/Man",
          "all/35-39/Man",
          "all/22-24/Man",
          "all/45-49/Other",
          "all/18-21/Other",
          "all/60-69/Other",
          "all/55-59/Man",
          "all/22-24/Woman",
          "all/40-44/Man",
          "all/35-39/Woman",
          "all/25-29/Man",
          "all/50-54/Woman",
          "all/30-34/Other",
          "all/70+/Woman",
          "all/18-21",
          "all/22-24",
          "all/25-29",
          "all/30-34",
          "all/35-39",
          "all/40-44",
          "all/45-49",
          "all/50-54",
          "all/55-59",
          "all/60-69",
          "all/70+",
          "all"
         ],
         "labels": [
          "Man",
          "Woman",
          "Man",
          "Woman",
          "Man",
          "Woman",
          "Man",
          "Other",
          "Other",
          "Other",
          "Other",
          "Woman",
          "Woman",
          "Woman",
          "Other",
          "Woman",
          "Other",
          "Other",
          "Man",
          "Man",
          "Man",
          "Man",
          "Other",
          "Other",
          "Other",
          "Man",
          "Woman",
          "Man",
          "Woman",
          "Man",
          "Woman",
          "Other",
          "Woman",
          "18-21",
          "22-24",
          "25-29",
          "30-34",
          "35-39",
          "40-44",
          "45-49",
          "50-54",
          "55-59",
          "60-69",
          "70+",
          "all"
         ],
         "marker": {
          "colors": [
           "dodgerblue",
           "lightcoral",
           "dodgerblue",
           "lightcoral",
           "dodgerblue",
           "lightcoral",
           "dodgerblue",
           "gold",
           "gold",
           "gold",
           "gold",
           "lightcoral",
           "lightcoral",
           "lightcoral",
           "gold",
           "lightcoral",
           "gold",
           "gold",
           "dodgerblue",
           "dodgerblue",
           "dodgerblue",
           "dodgerblue",
           "gold",
           "gold",
           "gold",
           "dodgerblue",
           "lightcoral",
           "dodgerblue",
           "lightcoral",
           "dodgerblue",
           "lightcoral",
           "gold",
           "lightcoral",
           "lightgrey",
           "lightgrey",
           "lightgrey",
           "lightgrey",
           "lightgrey",
           "lightgrey",
           "lightgrey",
           "lightgrey",
           "lightgrey",
           "lightgrey",
           "lightgrey",
           "lightgrey"
          ]
         },
         "name": "",
         "parents": [
          "all/18-21",
          "all/55-59",
          "all/30-34",
          "all/40-44",
          "all/45-49",
          "all/25-29",
          "all/60-69",
          "all/70+",
          "all/22-24",
          "all/50-54",
          "all/35-39",
          "all/45-49",
          "all/30-34",
          "all/18-21",
          "all/55-59",
          "all/60-69",
          "all/40-44",
          "all/25-29",
          "all/70+",
          "all/50-54",
          "all/35-39",
          "all/22-24",
          "all/45-49",
          "all/18-21",
          "all/60-69",
          "all/55-59",
          "all/22-24",
          "all/40-44",
          "all/35-39",
          "all/25-29",
          "all/50-54",
          "all/30-34",
          "all/70+",
          "all",
          "all",
          "all",
          "all",
          "all",
          "all",
          "all",
          "all",
          "all",
          "all",
          "all",
          ""
         ],
         "root": {
          "color": "lightgrey"
         },
         "type": "treemap",
         "values": [
          14.23,
          0.28,
          10.65,
          1.22,
          4.51,
          3.83,
          1.94,
          0.04,
          0.34,
          0.07,
          0.22,
          0.67,
          2.38,
          4.3,
          0.04,
          0.13,
          0.14,
          0.3,
          0.42,
          3.12,
          7.67,
          14.03,
          0.11,
          0.34,
          0.05,
          1.96,
          3.71,
          5.92,
          1.75,
          14.86,
          0.52,
          0.22,
          0.03,
          18.87,
          18.08,
          18.99,
          13.25,
          9.64,
          7.279999999999999,
          5.29,
          3.71,
          2.28,
          2.12,
          0.49,
          100
         ]
        },
        {
         "legendgroup": "Man",
         "line": {
          "color": "dodgerblue",
          "dash": "solid"
         },
         "marker": {
          "symbol": "circle"
         },
         "mode": "markers+lines",
         "name": "Man",
         "orientation": "v",
         "showlegend": true,
         "type": "scatter",
         "x": [
          "18-21",
          "22-24",
          "25-29",
          "30-34",
          "35-39",
          "40-44",
          "45-49",
          "50-54",
          "55-59",
          "60-69",
          "70+"
         ],
         "xaxis": "x",
         "y": [
          14.23,
          14.03,
          14.86,
          10.65,
          7.67,
          5.92,
          4.51,
          3.12,
          1.96,
          1.94,
          0.42
         ],
         "yaxis": "y"
        },
        {
         "legendgroup": "Other",
         "line": {
          "color": "gold",
          "dash": "solid"
         },
         "marker": {
          "symbol": "circle"
         },
         "mode": "markers+lines",
         "name": "Other",
         "orientation": "v",
         "showlegend": true,
         "type": "scatter",
         "x": [
          "18-21",
          "22-24",
          "25-29",
          "30-34",
          "35-39",
          "40-44",
          "45-49",
          "50-54",
          "55-59",
          "60-69",
          "70+"
         ],
         "xaxis": "x",
         "y": [
          0.34,
          0.34,
          0.3,
          0.22,
          0.22,
          0.14,
          0.11,
          0.07,
          0.04,
          0.05,
          0.04
         ],
         "yaxis": "y"
        },
        {
         "legendgroup": "Woman",
         "line": {
          "color": "lightcoral",
          "dash": "solid"
         },
         "marker": {
          "symbol": "circle"
         },
         "mode": "markers+lines",
         "name": "Woman",
         "orientation": "v",
         "showlegend": true,
         "type": "scatter",
         "x": [
          "18-21",
          "22-24",
          "25-29",
          "30-34",
          "35-39",
          "40-44",
          "45-49",
          "50-54",
          "55-59",
          "60-69",
          "70+"
         ],
         "xaxis": "x",
         "y": [
          4.3,
          3.71,
          3.83,
          2.38,
          1.75,
          1.22,
          0.67,
          0.52,
          0.28,
          0.13,
          0.03
         ],
         "yaxis": "y"
        }
       ],
       "layout": {
        "annotations": [
         {
          "font": {
           "size": 16
          },
          "showarrow": false,
          "text": "<b>Age & Gender - What is the distribution?<br />&nbsp;<br />",
          "x": 0.225,
          "xanchor": "center",
          "xref": "paper",
          "y": 1,
          "yanchor": "bottom",
          "yref": "paper"
         },
         {
          "font": {
           "size": 16
          },
          "showarrow": false,
          "text": "<b>Age & number of members<br />&nbsp;<br />",
          "x": 0.775,
          "xanchor": "center",
          "xref": "paper",
          "y": 1,
          "yanchor": "bottom",
          "yref": "paper"
         }
        ],
        "template": {
         "data": {
          "bar": [
           {
            "error_x": {
             "color": "#2a3f5f"
            },
            "error_y": {
             "color": "#2a3f5f"
            },
            "marker": {
             "line": {
              "color": "#E5ECF6",
              "width": 0.5
             },
             "pattern": {
              "fillmode": "overlay",
              "size": 10,
              "solidity": 0.2
             }
            },
            "type": "bar"
           }
          ],
          "barpolar": [
           {
            "marker": {
             "line": {
              "color": "#E5ECF6",
              "width": 0.5
             },
             "pattern": {
              "fillmode": "overlay",
              "size": 10,
              "solidity": 0.2
             }
            },
            "type": "barpolar"
           }
          ],
          "carpet": [
           {
            "aaxis": {
             "endlinecolor": "#2a3f5f",
             "gridcolor": "white",
             "linecolor": "white",
             "minorgridcolor": "white",
             "startlinecolor": "#2a3f5f"
            },
            "baxis": {
             "endlinecolor": "#2a3f5f",
             "gridcolor": "white",
             "linecolor": "white",
             "minorgridcolor": "white",
             "startlinecolor": "#2a3f5f"
            },
            "type": "carpet"
           }
          ],
          "choropleth": [
           {
            "colorbar": {
             "outlinewidth": 0,
             "ticks": ""
            },
            "type": "choropleth"
           }
          ],
          "contour": [
           {
            "colorbar": {
             "outlinewidth": 0,
             "ticks": ""
            },
            "colorscale": [
             [
              0,
              "#0d0887"
             ],
             [
              0.1111111111111111,
              "#46039f"
             ],
             [
              0.2222222222222222,
              "#7201a8"
             ],
             [
              0.3333333333333333,
              "#9c179e"
             ],
             [
              0.4444444444444444,
              "#bd3786"
             ],
             [
              0.5555555555555556,
              "#d8576b"
             ],
             [
              0.6666666666666666,
              "#ed7953"
             ],
             [
              0.7777777777777778,
              "#fb9f3a"
             ],
             [
              0.8888888888888888,
              "#fdca26"
             ],
             [
              1,
              "#f0f921"
             ]
            ],
            "type": "contour"
           }
          ],
          "contourcarpet": [
           {
            "colorbar": {
             "outlinewidth": 0,
             "ticks": ""
            },
            "type": "contourcarpet"
           }
          ],
          "heatmap": [
           {
            "colorbar": {
             "outlinewidth": 0,
             "ticks": ""
            },
            "colorscale": [
             [
              0,
              "#0d0887"
             ],
             [
              0.1111111111111111,
              "#46039f"
             ],
             [
              0.2222222222222222,
              "#7201a8"
             ],
             [
              0.3333333333333333,
              "#9c179e"
             ],
             [
              0.4444444444444444,
              "#bd3786"
             ],
             [
              0.5555555555555556,
              "#d8576b"
             ],
             [
              0.6666666666666666,
              "#ed7953"
             ],
             [
              0.7777777777777778,
              "#fb9f3a"
             ],
             [
              0.8888888888888888,
              "#fdca26"
             ],
             [
              1,
              "#f0f921"
             ]
            ],
            "type": "heatmap"
           }
          ],
          "heatmapgl": [
           {
            "colorbar": {
             "outlinewidth": 0,
             "ticks": ""
            },
            "colorscale": [
             [
              0,
              "#0d0887"
             ],
             [
              0.1111111111111111,
              "#46039f"
             ],
             [
              0.2222222222222222,
              "#7201a8"
             ],
             [
              0.3333333333333333,
              "#9c179e"
             ],
             [
              0.4444444444444444,
              "#bd3786"
             ],
             [
              0.5555555555555556,
              "#d8576b"
             ],
             [
              0.6666666666666666,
              "#ed7953"
             ],
             [
              0.7777777777777778,
              "#fb9f3a"
             ],
             [
              0.8888888888888888,
              "#fdca26"
             ],
             [
              1,
              "#f0f921"
             ]
            ],
            "type": "heatmapgl"
           }
          ],
          "histogram": [
           {
            "marker": {
             "pattern": {
              "fillmode": "overlay",
              "size": 10,
              "solidity": 0.2
             }
            },
            "type": "histogram"
           }
          ],
          "histogram2d": [
           {
            "colorbar": {
             "outlinewidth": 0,
             "ticks": ""
            },
            "colorscale": [
             [
              0,
              "#0d0887"
             ],
             [
              0.1111111111111111,
              "#46039f"
             ],
             [
              0.2222222222222222,
              "#7201a8"
             ],
             [
              0.3333333333333333,
              "#9c179e"
             ],
             [
              0.4444444444444444,
              "#bd3786"
             ],
             [
              0.5555555555555556,
              "#d8576b"
             ],
             [
              0.6666666666666666,
              "#ed7953"
             ],
             [
              0.7777777777777778,
              "#fb9f3a"
             ],
             [
              0.8888888888888888,
              "#fdca26"
             ],
             [
              1,
              "#f0f921"
             ]
            ],
            "type": "histogram2d"
           }
          ],
          "histogram2dcontour": [
           {
            "colorbar": {
             "outlinewidth": 0,
             "ticks": ""
            },
            "colorscale": [
             [
              0,
              "#0d0887"
             ],
             [
              0.1111111111111111,
              "#46039f"
             ],
             [
              0.2222222222222222,
              "#7201a8"
             ],
             [
              0.3333333333333333,
              "#9c179e"
             ],
             [
              0.4444444444444444,
              "#bd3786"
             ],
             [
              0.5555555555555556,
              "#d8576b"
             ],
             [
              0.6666666666666666,
              "#ed7953"
             ],
             [
              0.7777777777777778,
              "#fb9f3a"
             ],
             [
              0.8888888888888888,
              "#fdca26"
             ],
             [
              1,
              "#f0f921"
             ]
            ],
            "type": "histogram2dcontour"
           }
          ],
          "mesh3d": [
           {
            "colorbar": {
             "outlinewidth": 0,
             "ticks": ""
            },
            "type": "mesh3d"
           }
          ],
          "parcoords": [
           {
            "line": {
             "colorbar": {
              "outlinewidth": 0,
              "ticks": ""
             }
            },
            "type": "parcoords"
           }
          ],
          "pie": [
           {
            "automargin": true,
            "type": "pie"
           }
          ],
          "scatter": [
           {
            "marker": {
             "colorbar": {
              "outlinewidth": 0,
              "ticks": ""
             }
            },
            "type": "scatter"
           }
          ],
          "scatter3d": [
           {
            "line": {
             "colorbar": {
              "outlinewidth": 0,
              "ticks": ""
             }
            },
            "marker": {
             "colorbar": {
              "outlinewidth": 0,
              "ticks": ""
             }
            },
            "type": "scatter3d"
           }
          ],
          "scattercarpet": [
           {
            "marker": {
             "colorbar": {
              "outlinewidth": 0,
              "ticks": ""
             }
            },
            "type": "scattercarpet"
           }
          ],
          "scattergeo": [
           {
            "marker": {
             "colorbar": {
              "outlinewidth": 0,
              "ticks": ""
             }
            },
            "type": "scattergeo"
           }
          ],
          "scattergl": [
           {
            "marker": {
             "colorbar": {
              "outlinewidth": 0,
              "ticks": ""
             }
            },
            "type": "scattergl"
           }
          ],
          "scattermapbox": [
           {
            "marker": {
             "colorbar": {
              "outlinewidth": 0,
              "ticks": ""
             }
            },
            "type": "scattermapbox"
           }
          ],
          "scatterpolar": [
           {
            "marker": {
             "colorbar": {
              "outlinewidth": 0,
              "ticks": ""
             }
            },
            "type": "scatterpolar"
           }
          ],
          "scatterpolargl": [
           {
            "marker": {
             "colorbar": {
              "outlinewidth": 0,
              "ticks": ""
             }
            },
            "type": "scatterpolargl"
           }
          ],
          "scatterternary": [
           {
            "marker": {
             "colorbar": {
              "outlinewidth": 0,
              "ticks": ""
             }
            },
            "type": "scatterternary"
           }
          ],
          "surface": [
           {
            "colorbar": {
             "outlinewidth": 0,
             "ticks": ""
            },
            "colorscale": [
             [
              0,
              "#0d0887"
             ],
             [
              0.1111111111111111,
              "#46039f"
             ],
             [
              0.2222222222222222,
              "#7201a8"
             ],
             [
              0.3333333333333333,
              "#9c179e"
             ],
             [
              0.4444444444444444,
              "#bd3786"
             ],
             [
              0.5555555555555556,
              "#d8576b"
             ],
             [
              0.6666666666666666,
              "#ed7953"
             ],
             [
              0.7777777777777778,
              "#fb9f3a"
             ],
             [
              0.8888888888888888,
              "#fdca26"
             ],
             [
              1,
              "#f0f921"
             ]
            ],
            "type": "surface"
           }
          ],
          "table": [
           {
            "cells": {
             "fill": {
              "color": "#EBF0F8"
             },
             "line": {
              "color": "white"
             }
            },
            "header": {
             "fill": {
              "color": "#C8D4E3"
             },
             "line": {
              "color": "white"
             }
            },
            "type": "table"
           }
          ]
         },
         "layout": {
          "annotationdefaults": {
           "arrowcolor": "#2a3f5f",
           "arrowhead": 0,
           "arrowwidth": 1
          },
          "autotypenumbers": "strict",
          "coloraxis": {
           "colorbar": {
            "outlinewidth": 0,
            "ticks": ""
           }
          },
          "colorscale": {
           "diverging": [
            [
             0,
             "#8e0152"
            ],
            [
             0.1,
             "#c51b7d"
            ],
            [
             0.2,
             "#de77ae"
            ],
            [
             0.3,
             "#f1b6da"
            ],
            [
             0.4,
             "#fde0ef"
            ],
            [
             0.5,
             "#f7f7f7"
            ],
            [
             0.6,
             "#e6f5d0"
            ],
            [
             0.7,
             "#b8e186"
            ],
            [
             0.8,
             "#7fbc41"
            ],
            [
             0.9,
             "#4d9221"
            ],
            [
             1,
             "#276419"
            ]
           ],
           "sequential": [
            [
             0,
             "#0d0887"
            ],
            [
             0.1111111111111111,
             "#46039f"
            ],
            [
             0.2222222222222222,
             "#7201a8"
            ],
            [
             0.3333333333333333,
             "#9c179e"
            ],
            [
             0.4444444444444444,
             "#bd3786"
            ],
            [
             0.5555555555555556,
             "#d8576b"
            ],
            [
             0.6666666666666666,
             "#ed7953"
            ],
            [
             0.7777777777777778,
             "#fb9f3a"
            ],
            [
             0.8888888888888888,
             "#fdca26"
            ],
            [
             1,
             "#f0f921"
            ]
           ],
           "sequentialminus": [
            [
             0,
             "#0d0887"
            ],
            [
             0.1111111111111111,
             "#46039f"
            ],
            [
             0.2222222222222222,
             "#7201a8"
            ],
            [
             0.3333333333333333,
             "#9c179e"
            ],
            [
             0.4444444444444444,
             "#bd3786"
            ],
            [
             0.5555555555555556,
             "#d8576b"
            ],
            [
             0.6666666666666666,
             "#ed7953"
            ],
            [
             0.7777777777777778,
             "#fb9f3a"
            ],
            [
             0.8888888888888888,
             "#fdca26"
            ],
            [
             1,
             "#f0f921"
            ]
           ]
          },
          "colorway": [
           "#636efa",
           "#EF553B",
           "#00cc96",
           "#ab63fa",
           "#FFA15A",
           "#19d3f3",
           "#FF6692",
           "#B6E880",
           "#FF97FF",
           "#FECB52"
          ],
          "font": {
           "color": "#2a3f5f"
          },
          "geo": {
           "bgcolor": "white",
           "lakecolor": "white",
           "landcolor": "#E5ECF6",
           "showlakes": true,
           "showland": true,
           "subunitcolor": "white"
          },
          "hoverlabel": {
           "align": "left"
          },
          "hovermode": "closest",
          "mapbox": {
           "style": "light"
          },
          "paper_bgcolor": "white",
          "plot_bgcolor": "#E5ECF6",
          "polar": {
           "angularaxis": {
            "gridcolor": "white",
            "linecolor": "white",
            "ticks": ""
           },
           "bgcolor": "#E5ECF6",
           "radialaxis": {
            "gridcolor": "white",
            "linecolor": "white",
            "ticks": ""
           }
          },
          "scene": {
           "xaxis": {
            "backgroundcolor": "#E5ECF6",
            "gridcolor": "white",
            "gridwidth": 2,
            "linecolor": "white",
            "showbackground": true,
            "ticks": "",
            "zerolinecolor": "white"
           },
           "yaxis": {
            "backgroundcolor": "#E5ECF6",
            "gridcolor": "white",
            "gridwidth": 2,
            "linecolor": "white",
            "showbackground": true,
            "ticks": "",
            "zerolinecolor": "white"
           },
           "zaxis": {
            "backgroundcolor": "#E5ECF6",
            "gridcolor": "white",
            "gridwidth": 2,
            "linecolor": "white",
            "showbackground": true,
            "ticks": "",
            "zerolinecolor": "white"
           }
          },
          "shapedefaults": {
           "line": {
            "color": "#2a3f5f"
           }
          },
          "ternary": {
           "aaxis": {
            "gridcolor": "white",
            "linecolor": "white",
            "ticks": ""
           },
           "baxis": {
            "gridcolor": "white",
            "linecolor": "white",
            "ticks": ""
           },
           "bgcolor": "#E5ECF6",
           "caxis": {
            "gridcolor": "white",
            "linecolor": "white",
            "ticks": ""
           }
          },
          "title": {
           "x": 0.05
          },
          "xaxis": {
           "automargin": true,
           "gridcolor": "white",
           "linecolor": "white",
           "ticks": "",
           "title": {
            "standoff": 15
           },
           "zerolinecolor": "white",
           "zerolinewidth": 2
          },
          "yaxis": {
           "automargin": true,
           "gridcolor": "white",
           "linecolor": "white",
           "ticks": "",
           "title": {
            "standoff": 15
           },
           "zerolinecolor": "white",
           "zerolinewidth": 2
          }
         }
        },
        "xaxis": {
         "anchor": "y",
         "domain": [
          0.55,
          1
         ]
        },
        "yaxis": {
         "anchor": "x",
         "domain": [
          0,
          1
         ]
        }
       }
      }
     },
     "metadata": {},
     "output_type": "display_data"
    },
    {
     "data": {
      "application/vnd.plotly.v1+json": {
       "config": {
        "plotlyServerURL": "https://plot.ly"
       },
       "data": [
        {
         "branchvalues": "total",
         "customdata": [
          [
           "Man"
          ],
          [
           "Other"
          ],
          [
           "(?)"
          ],
          [
           "Man"
          ],
          [
           "Woman"
          ],
          [
           "(?)"
          ],
          [
           "Other"
          ],
          [
           "Woman"
          ],
          [
           "(?)"
          ]
         ],
         "domain": {
          "x": [
           0,
           1
          ],
          "y": [
           0,
           1
          ]
         },
         "hovertemplate": "labels=%{label}<br>Count=%{value}<br>parent=%{parent}<br>id=%{id}<br>Gender=%{customdata[0]}<extra></extra>",
         "ids": [
          "all/<40/Man",
          "all/>40/Other",
          "all/<40",
          "all/>40/Man",
          "all/<40/Woman",
          "all/>40",
          "all/<40/Other",
          "all/>40/Woman",
          "all"
         ],
         "labels": [
          "Man",
          "Other",
          "<40",
          "Man",
          "Woman",
          ">40",
          "Other",
          "Woman",
          "all"
         ],
         "marker": {
          "colors": [
           "dodgerblue",
           "gold",
           "lightgrey",
           "dodgerblue",
           "lightcoral",
           "lightgrey",
           "gold",
           "lightcoral",
           "lightgrey"
          ]
         },
         "name": "",
         "parents": [
          "all/<40",
          "all/>40",
          "all",
          "all/>40",
          "all/<40",
          "all",
          "all/<40",
          "all/>40",
          ""
         ],
         "root": {
          "color": "lightgrey"
         },
         "type": "treemap",
         "values": [
          61.44,
          0.45,
          78.83,
          17.87,
          15.969999999999999,
          21.169999999999998,
          1.42,
          2.85,
          100
         ]
        }
       ],
       "layout": {
        "height": 500,
        "legend": {
         "tracegroupgap": 0
        },
        "margin": {
         "b": 25,
         "l": 25,
         "r": 25,
         "t": 50
        },
        "template": {
         "data": {
          "bar": [
           {
            "error_x": {
             "color": "#2a3f5f"
            },
            "error_y": {
             "color": "#2a3f5f"
            },
            "marker": {
             "line": {
              "color": "#E5ECF6",
              "width": 0.5
             },
             "pattern": {
              "fillmode": "overlay",
              "size": 10,
              "solidity": 0.2
             }
            },
            "type": "bar"
           }
          ],
          "barpolar": [
           {
            "marker": {
             "line": {
              "color": "#E5ECF6",
              "width": 0.5
             },
             "pattern": {
              "fillmode": "overlay",
              "size": 10,
              "solidity": 0.2
             }
            },
            "type": "barpolar"
           }
          ],
          "carpet": [
           {
            "aaxis": {
             "endlinecolor": "#2a3f5f",
             "gridcolor": "white",
             "linecolor": "white",
             "minorgridcolor": "white",
             "startlinecolor": "#2a3f5f"
            },
            "baxis": {
             "endlinecolor": "#2a3f5f",
             "gridcolor": "white",
             "linecolor": "white",
             "minorgridcolor": "white",
             "startlinecolor": "#2a3f5f"
            },
            "type": "carpet"
           }
          ],
          "choropleth": [
           {
            "colorbar": {
             "outlinewidth": 0,
             "ticks": ""
            },
            "type": "choropleth"
           }
          ],
          "contour": [
           {
            "colorbar": {
             "outlinewidth": 0,
             "ticks": ""
            },
            "colorscale": [
             [
              0,
              "#0d0887"
             ],
             [
              0.1111111111111111,
              "#46039f"
             ],
             [
              0.2222222222222222,
              "#7201a8"
             ],
             [
              0.3333333333333333,
              "#9c179e"
             ],
             [
              0.4444444444444444,
              "#bd3786"
             ],
             [
              0.5555555555555556,
              "#d8576b"
             ],
             [
              0.6666666666666666,
              "#ed7953"
             ],
             [
              0.7777777777777778,
              "#fb9f3a"
             ],
             [
              0.8888888888888888,
              "#fdca26"
             ],
             [
              1,
              "#f0f921"
             ]
            ],
            "type": "contour"
           }
          ],
          "contourcarpet": [
           {
            "colorbar": {
             "outlinewidth": 0,
             "ticks": ""
            },
            "type": "contourcarpet"
           }
          ],
          "heatmap": [
           {
            "colorbar": {
             "outlinewidth": 0,
             "ticks": ""
            },
            "colorscale": [
             [
              0,
              "#0d0887"
             ],
             [
              0.1111111111111111,
              "#46039f"
             ],
             [
              0.2222222222222222,
              "#7201a8"
             ],
             [
              0.3333333333333333,
              "#9c179e"
             ],
             [
              0.4444444444444444,
              "#bd3786"
             ],
             [
              0.5555555555555556,
              "#d8576b"
             ],
             [
              0.6666666666666666,
              "#ed7953"
             ],
             [
              0.7777777777777778,
              "#fb9f3a"
             ],
             [
              0.8888888888888888,
              "#fdca26"
             ],
             [
              1,
              "#f0f921"
             ]
            ],
            "type": "heatmap"
           }
          ],
          "heatmapgl": [
           {
            "colorbar": {
             "outlinewidth": 0,
             "ticks": ""
            },
            "colorscale": [
             [
              0,
              "#0d0887"
             ],
             [
              0.1111111111111111,
              "#46039f"
             ],
             [
              0.2222222222222222,
              "#7201a8"
             ],
             [
              0.3333333333333333,
              "#9c179e"
             ],
             [
              0.4444444444444444,
              "#bd3786"
             ],
             [
              0.5555555555555556,
              "#d8576b"
             ],
             [
              0.6666666666666666,
              "#ed7953"
             ],
             [
              0.7777777777777778,
              "#fb9f3a"
             ],
             [
              0.8888888888888888,
              "#fdca26"
             ],
             [
              1,
              "#f0f921"
             ]
            ],
            "type": "heatmapgl"
           }
          ],
          "histogram": [
           {
            "marker": {
             "pattern": {
              "fillmode": "overlay",
              "size": 10,
              "solidity": 0.2
             }
            },
            "type": "histogram"
           }
          ],
          "histogram2d": [
           {
            "colorbar": {
             "outlinewidth": 0,
             "ticks": ""
            },
            "colorscale": [
             [
              0,
              "#0d0887"
             ],
             [
              0.1111111111111111,
              "#46039f"
             ],
             [
              0.2222222222222222,
              "#7201a8"
             ],
             [
              0.3333333333333333,
              "#9c179e"
             ],
             [
              0.4444444444444444,
              "#bd3786"
             ],
             [
              0.5555555555555556,
              "#d8576b"
             ],
             [
              0.6666666666666666,
              "#ed7953"
             ],
             [
              0.7777777777777778,
              "#fb9f3a"
             ],
             [
              0.8888888888888888,
              "#fdca26"
             ],
             [
              1,
              "#f0f921"
             ]
            ],
            "type": "histogram2d"
           }
          ],
          "histogram2dcontour": [
           {
            "colorbar": {
             "outlinewidth": 0,
             "ticks": ""
            },
            "colorscale": [
             [
              0,
              "#0d0887"
             ],
             [
              0.1111111111111111,
              "#46039f"
             ],
             [
              0.2222222222222222,
              "#7201a8"
             ],
             [
              0.3333333333333333,
              "#9c179e"
             ],
             [
              0.4444444444444444,
              "#bd3786"
             ],
             [
              0.5555555555555556,
              "#d8576b"
             ],
             [
              0.6666666666666666,
              "#ed7953"
             ],
             [
              0.7777777777777778,
              "#fb9f3a"
             ],
             [
              0.8888888888888888,
              "#fdca26"
             ],
             [
              1,
              "#f0f921"
             ]
            ],
            "type": "histogram2dcontour"
           }
          ],
          "mesh3d": [
           {
            "colorbar": {
             "outlinewidth": 0,
             "ticks": ""
            },
            "type": "mesh3d"
           }
          ],
          "parcoords": [
           {
            "line": {
             "colorbar": {
              "outlinewidth": 0,
              "ticks": ""
             }
            },
            "type": "parcoords"
           }
          ],
          "pie": [
           {
            "automargin": true,
            "type": "pie"
           }
          ],
          "scatter": [
           {
            "marker": {
             "colorbar": {
              "outlinewidth": 0,
              "ticks": ""
             }
            },
            "type": "scatter"
           }
          ],
          "scatter3d": [
           {
            "line": {
             "colorbar": {
              "outlinewidth": 0,
              "ticks": ""
             }
            },
            "marker": {
             "colorbar": {
              "outlinewidth": 0,
              "ticks": ""
             }
            },
            "type": "scatter3d"
           }
          ],
          "scattercarpet": [
           {
            "marker": {
             "colorbar": {
              "outlinewidth": 0,
              "ticks": ""
             }
            },
            "type": "scattercarpet"
           }
          ],
          "scattergeo": [
           {
            "marker": {
             "colorbar": {
              "outlinewidth": 0,
              "ticks": ""
             }
            },
            "type": "scattergeo"
           }
          ],
          "scattergl": [
           {
            "marker": {
             "colorbar": {
              "outlinewidth": 0,
              "ticks": ""
             }
            },
            "type": "scattergl"
           }
          ],
          "scattermapbox": [
           {
            "marker": {
             "colorbar": {
              "outlinewidth": 0,
              "ticks": ""
             }
            },
            "type": "scattermapbox"
           }
          ],
          "scatterpolar": [
           {
            "marker": {
             "colorbar": {
              "outlinewidth": 0,
              "ticks": ""
             }
            },
            "type": "scatterpolar"
           }
          ],
          "scatterpolargl": [
           {
            "marker": {
             "colorbar": {
              "outlinewidth": 0,
              "ticks": ""
             }
            },
            "type": "scatterpolargl"
           }
          ],
          "scatterternary": [
           {
            "marker": {
             "colorbar": {
              "outlinewidth": 0,
              "ticks": ""
             }
            },
            "type": "scatterternary"
           }
          ],
          "surface": [
           {
            "colorbar": {
             "outlinewidth": 0,
             "ticks": ""
            },
            "colorscale": [
             [
              0,
              "#0d0887"
             ],
             [
              0.1111111111111111,
              "#46039f"
             ],
             [
              0.2222222222222222,
              "#7201a8"
             ],
             [
              0.3333333333333333,
              "#9c179e"
             ],
             [
              0.4444444444444444,
              "#bd3786"
             ],
             [
              0.5555555555555556,
              "#d8576b"
             ],
             [
              0.6666666666666666,
              "#ed7953"
             ],
             [
              0.7777777777777778,
              "#fb9f3a"
             ],
             [
              0.8888888888888888,
              "#fdca26"
             ],
             [
              1,
              "#f0f921"
             ]
            ],
            "type": "surface"
           }
          ],
          "table": [
           {
            "cells": {
             "fill": {
              "color": "#EBF0F8"
             },
             "line": {
              "color": "white"
             }
            },
            "header": {
             "fill": {
              "color": "#C8D4E3"
             },
             "line": {
              "color": "white"
             }
            },
            "type": "table"
           }
          ]
         },
         "layout": {
          "annotationdefaults": {
           "arrowcolor": "#2a3f5f",
           "arrowhead": 0,
           "arrowwidth": 1
          },
          "autotypenumbers": "strict",
          "coloraxis": {
           "colorbar": {
            "outlinewidth": 0,
            "ticks": ""
           }
          },
          "colorscale": {
           "diverging": [
            [
             0,
             "#8e0152"
            ],
            [
             0.1,
             "#c51b7d"
            ],
            [
             0.2,
             "#de77ae"
            ],
            [
             0.3,
             "#f1b6da"
            ],
            [
             0.4,
             "#fde0ef"
            ],
            [
             0.5,
             "#f7f7f7"
            ],
            [
             0.6,
             "#e6f5d0"
            ],
            [
             0.7,
             "#b8e186"
            ],
            [
             0.8,
             "#7fbc41"
            ],
            [
             0.9,
             "#4d9221"
            ],
            [
             1,
             "#276419"
            ]
           ],
           "sequential": [
            [
             0,
             "#0d0887"
            ],
            [
             0.1111111111111111,
             "#46039f"
            ],
            [
             0.2222222222222222,
             "#7201a8"
            ],
            [
             0.3333333333333333,
             "#9c179e"
            ],
            [
             0.4444444444444444,
             "#bd3786"
            ],
            [
             0.5555555555555556,
             "#d8576b"
            ],
            [
             0.6666666666666666,
             "#ed7953"
            ],
            [
             0.7777777777777778,
             "#fb9f3a"
            ],
            [
             0.8888888888888888,
             "#fdca26"
            ],
            [
             1,
             "#f0f921"
            ]
           ],
           "sequentialminus": [
            [
             0,
             "#0d0887"
            ],
            [
             0.1111111111111111,
             "#46039f"
            ],
            [
             0.2222222222222222,
             "#7201a8"
            ],
            [
             0.3333333333333333,
             "#9c179e"
            ],
            [
             0.4444444444444444,
             "#bd3786"
            ],
            [
             0.5555555555555556,
             "#d8576b"
            ],
            [
             0.6666666666666666,
             "#ed7953"
            ],
            [
             0.7777777777777778,
             "#fb9f3a"
            ],
            [
             0.8888888888888888,
             "#fdca26"
            ],
            [
             1,
             "#f0f921"
            ]
           ]
          },
          "colorway": [
           "#636efa",
           "#EF553B",
           "#00cc96",
           "#ab63fa",
           "#FFA15A",
           "#19d3f3",
           "#FF6692",
           "#B6E880",
           "#FF97FF",
           "#FECB52"
          ],
          "font": {
           "color": "#2a3f5f"
          },
          "geo": {
           "bgcolor": "white",
           "lakecolor": "white",
           "landcolor": "#E5ECF6",
           "showlakes": true,
           "showland": true,
           "subunitcolor": "white"
          },
          "hoverlabel": {
           "align": "left"
          },
          "hovermode": "closest",
          "mapbox": {
           "style": "light"
          },
          "paper_bgcolor": "white",
          "plot_bgcolor": "#E5ECF6",
          "polar": {
           "angularaxis": {
            "gridcolor": "white",
            "linecolor": "white",
            "ticks": ""
           },
           "bgcolor": "#E5ECF6",
           "radialaxis": {
            "gridcolor": "white",
            "linecolor": "white",
            "ticks": ""
           }
          },
          "scene": {
           "xaxis": {
            "backgroundcolor": "#E5ECF6",
            "gridcolor": "white",
            "gridwidth": 2,
            "linecolor": "white",
            "showbackground": true,
            "ticks": "",
            "zerolinecolor": "white"
           },
           "yaxis": {
            "backgroundcolor": "#E5ECF6",
            "gridcolor": "white",
            "gridwidth": 2,
            "linecolor": "white",
            "showbackground": true,
            "ticks": "",
            "zerolinecolor": "white"
           },
           "zaxis": {
            "backgroundcolor": "#E5ECF6",
            "gridcolor": "white",
            "gridwidth": 2,
            "linecolor": "white",
            "showbackground": true,
            "ticks": "",
            "zerolinecolor": "white"
           }
          },
          "shapedefaults": {
           "line": {
            "color": "#2a3f5f"
           }
          },
          "ternary": {
           "aaxis": {
            "gridcolor": "white",
            "linecolor": "white",
            "ticks": ""
           },
           "baxis": {
            "gridcolor": "white",
            "linecolor": "white",
            "ticks": ""
           },
           "bgcolor": "#E5ECF6",
           "caxis": {
            "gridcolor": "white",
            "linecolor": "white",
            "ticks": ""
           }
          },
          "title": {
           "x": 0.05
          },
          "xaxis": {
           "automargin": true,
           "gridcolor": "white",
           "linecolor": "white",
           "ticks": "",
           "title": {
            "standoff": 15
           },
           "zerolinecolor": "white",
           "zerolinewidth": 2
          },
          "yaxis": {
           "automargin": true,
           "gridcolor": "white",
           "linecolor": "white",
           "ticks": "",
           "title": {
            "standoff": 15
           },
           "zerolinecolor": "white",
           "zerolinewidth": 2
          }
         }
        },
        "title": {
         "text": "Gender & Age Groups"
        },
        "width": 1000
       }
      }
     },
     "metadata": {},
     "output_type": "display_data"
    }
   ],
   "source": [
    "df_ = getAgeGenderPivotDF(); plotAgeGenderSankey(df_)\n",
    "df_ = getAgeGenderDF(); plotTreeMapLine(df_)\n",
    "showTreeMap(df_, ['AgeGroup', 'Gender'], 'Count',\"Gender & Age Groups\", 1000, 500)"
   ]
  },
  {
   "cell_type": "markdown",
   "metadata": {},
   "source": [
    "As we can see in each of the age groups, the number of women is far lesser than that of men. And with increase in age, the number of members (and women) involved in ML & DS is decreasing. A **minuscule 3%** of the total community forms the **>40 women** sub group.\n",
    "\n",
    "A person who is 40+ years now in 2021 must have been born in the 1970s, graduated in the 1990s. These are the times when women are not known to be taking up technical areas of work. This probably explains why the women form a small part of the technical community in general and ML & DS community in specific. Moreover, the ML and DS has gained momentum in the early 2010s. That leaves even lesser opportunity for the women graduated in 1990s to get involved in this space. \n",
    "\n",
    "*Note: The 'Other' gender is lesser than Man & Woman but since 'Other' community is not the focus in the current analysis, ignoring it*"
   ]
  },
  {
   "cell_type": "markdown",
   "metadata": {},
   "source": [
    "### 1.2 Country\n",
    "Which countries do the women > 40 come from? How is this distribution comapred to the other categories?"
   ]
  },
  {
   "cell_type": "code",
   "execution_count": 17,
   "metadata": {},
   "outputs": [],
   "source": [
    "def getAgeGenderCountryPivotDF():\n",
    "    df_ = df_new.groupby(by=['AgeGroup','Gender','Country']).agg({'AgeGroup':'count'})\n",
    "    df_.rename(columns={'AgeGroup':'Count'}, inplace=True)\n",
    "    print(df_)\n",
    "\n",
    "    df_summary = pd.pivot_table(df_, index=['Gender', 'AgeGroup'],columns = ['Country'], values ='Count', aggfunc=np.sum).loc[['Man','Woman'],TOP_COUNTRIES]\n",
    "    print(df_summary)\n",
    "\n",
    "    df_summary['Total'] = 0\n",
    "    df_summary.loc[('Man','<40'), 'Total']   = df_.loc[('<40','Man'),:].sum().values[0] # / df.shape[0])*100\n",
    "    df_summary.loc[('Man','>40'), 'Total']   = df_.loc[('>40','Man'),:].sum().values[0] #/ df.shape[0])*100 \n",
    "    df_summary.loc[('Woman','<40'), 'Total'] = df_.loc[('<40','Woman'),:].sum().values[0] #/ df.shape[0])*100 \n",
    "    df_summary.loc[('Woman','<40'), 'Total'] = df_.loc[('>40','Woman'),:].sum().values[0] #/ df.shape[0])*100\n",
    "    df_summary = df_summary/ df.shape[0]*100 #.round(2)\n",
    "    df_summary = df_summary.round(2)\n",
    "    df_summary.reset_index(inplace=True)\n",
    "    print(df_summary.head())\n",
    "    return df_summary\n",
    "\n",
    "def getAgeGenderCountryDF():\n",
    "    df_ = df_new.groupby(by=['AgeGroup','Gender','Country']).agg({'AgeGroup':'count'})\n",
    "    df_.rename(columns={'AgeGroup':'Count'}, inplace=True)\n",
    "    total = df.shape[0]\n",
    "    df_['Count'] = df_['Count'].apply(lambda x: percent(x, total)) \n",
    "\n",
    "    df_.reset_index(inplace=True)\n",
    "    df_ = df_[df_['Country'].isin(TOP_COUNTRIES)]\n",
    "\n",
    "    print(df_.head())\n",
    "    return df_\n",
    "\n",
    "def plotTreeMaps(df):\n",
    "    fig = make_subplots(cols = 2, rows = 1, column_widths = [0.4, 0.4],\n",
    "                    subplot_titles = ('<b>Gender, Age & Country - Distribution<br />&nbsp;<br />', '<b>Age Group, Country - Distribution of Women <br />&nbsp;<br />'),\n",
    "                    specs = [[{'type': 'treemap', 'rowspan': 1}, {'type': 'treemap', 'rowspan': 1}]])\n",
    "    fig = plotTreeMapSP(df, ['Gender', 'AgeGroup','Country'], 'Count', \"Gender\", COLOR_MAP_GENDER, fig, 1, 1)\n",
    "    fig = plotTreeMapSP(df[df['Gender']=='Woman'], ['Gender', 'AgeGroup','Country'], 'Count', \"Gender\", COLOR_MAP_GENDER, fig, 1, 2)\n",
    "    fig.show()"
   ]
  },
  {
   "cell_type": "code",
   "execution_count": 18,
   "metadata": {},
   "outputs": [
    {
     "name": "stdout",
     "output_type": "stream",
     "text": [
      "['India', 'United States of America', 'Other']\n",
      "   AgeGroup Gender                   Country  Count\n",
      "23      <40    Man                     India  20.14\n",
      "40      <40    Man                     Other   2.93\n",
      "64      <40    Man  United States of America   4.27\n",
      "82      <40  Other                     India   0.36\n",
      "95      <40  Other                     Other   0.09\n",
      "                 Count\n",
      "AgeGroup Gender       \n",
      "<40      Man     27.34\n",
      "         Other    0.68\n",
      "         Woman    8.28\n",
      ">40      Man      5.90\n",
      "         Other    0.21\n",
      "         Woman    1.31\n",
      "<class 'plotly.graph_objs._treemap.Treemap'>\n",
      "<class 'plotly.graph_objs._treemap.Treemap'>\n"
     ]
    },
    {
     "data": {
      "application/vnd.plotly.v1+json": {
       "config": {
        "plotlyServerURL": "https://plot.ly"
       },
       "data": [
        {
         "branchvalues": "total",
         "customdata": [
          [
           "Man"
          ],
          [
           "Other"
          ],
          [
           "Woman"
          ],
          [
           "Man"
          ],
          [
           "Other"
          ],
          [
           "Woman"
          ],
          [
           "Man"
          ],
          [
           "Other"
          ],
          [
           "Woman"
          ],
          [
           "Woman"
          ],
          [
           "Other"
          ],
          [
           "Man"
          ],
          [
           "Man"
          ],
          [
           "Woman"
          ],
          [
           "Other"
          ],
          [
           "Man"
          ],
          [
           "Other"
          ],
          [
           "Woman"
          ],
          [
           "Man"
          ],
          [
           "Other"
          ],
          [
           "Woman"
          ],
          [
           "Man"
          ],
          [
           "Other"
          ],
          [
           "Woman"
          ],
          [
           "Man"
          ],
          [
           "Other"
          ],
          [
           "Woman"
          ],
          [
           "(?)"
          ]
         ],
         "domain": {
          "x": [
           0,
           0.45
          ],
          "y": [
           0,
           1
          ]
         },
         "hovertemplate": "labels=%{label}<br>Count=%{value}<br>parent=%{parent}<br>id=%{id}<br>Gender=%{customdata[0]}<extra></extra>",
         "ids": [
          "all/Man/<40/India",
          "all/Other/<40/India",
          "all/Woman/<40/India",
          "all/Man/>40/Other",
          "all/Other/>40/Other",
          "all/Woman/>40/Other",
          "all/Man/>40/India",
          "all/Other/>40/India",
          "all/Woman/>40/India",
          "all/Woman/<40/United States of America",
          "all/Other/<40/United States of America",
          "all/Man/<40/United States of America",
          "all/Man/>40/United States of America",
          "all/Woman/<40/Other",
          "all/Other/<40/Other",
          "all/Man/<40/Other",
          "all/Other/>40/United States of America",
          "all/Woman/>40/United States of America",
          "all/Man/<40",
          "all/Other/<40",
          "all/Woman/<40",
          "all/Man/>40",
          "all/Other/>40",
          "all/Woman/>40",
          "all/Man",
          "all/Other",
          "all/Woman",
          "all"
         ],
         "labels": [
          "India",
          "India",
          "India",
          "Other",
          "Other",
          "Other",
          "India",
          "India",
          "India",
          "United States of America",
          "United States of America",
          "United States of America",
          "United States of America",
          "Other",
          "Other",
          "Other",
          "United States of America",
          "United States of America",
          "<40",
          "<40",
          "<40",
          ">40",
          ">40",
          ">40",
          "Man",
          "Other",
          "Woman",
          "all"
         ],
         "marker": {
          "colors": [
           "dodgerblue",
           "gold",
           "lightcoral",
           "dodgerblue",
           "gold",
           "lightcoral",
           "dodgerblue",
           "gold",
           "lightcoral",
           "lightcoral",
           "gold",
           "dodgerblue",
           "dodgerblue",
           "lightcoral",
           "gold",
           "dodgerblue",
           "gold",
           "lightcoral",
           "dodgerblue",
           "gold",
           "lightcoral",
           "dodgerblue",
           "gold",
           "lightcoral",
           "dodgerblue",
           "gold",
           "lightcoral",
           "lightgrey"
          ]
         },
         "name": "",
         "parents": [
          "all/Man/<40",
          "all/Other/<40",
          "all/Woman/<40",
          "all/Man/>40",
          "all/Other/>40",
          "all/Woman/>40",
          "all/Man/>40",
          "all/Other/>40",
          "all/Woman/>40",
          "all/Woman/<40",
          "all/Other/<40",
          "all/Man/<40",
          "all/Man/>40",
          "all/Woman/<40",
          "all/Other/<40",
          "all/Man/<40",
          "all/Other/>40",
          "all/Woman/>40",
          "all/Man",
          "all/Other",
          "all/Woman",
          "all/Man",
          "all/Other",
          "all/Woman",
          "all",
          "all",
          "all",
          ""
         ],
         "root": {
          "color": "lightgrey"
         },
         "type": "treemap",
         "values": [
          20.14,
          0.36,
          6.04,
          0.93,
          0.06,
          0.16,
          1.74,
          0.02,
          0.34,
          1.52,
          0.23,
          4.27,
          3.23,
          0.72,
          0.09,
          2.93,
          0.13,
          0.81,
          27.34,
          0.6799999999999999,
          8.28,
          5.9,
          0.21000000000000002,
          1.31,
          33.24,
          0.89,
          9.59,
          43.72
         ]
        },
        {
         "branchvalues": "total",
         "customdata": [
          [
           "Woman"
          ],
          [
           "Woman"
          ],
          [
           "Woman"
          ],
          [
           "Woman"
          ],
          [
           "Woman"
          ],
          [
           "Woman"
          ],
          [
           "Woman"
          ],
          [
           "Woman"
          ],
          [
           "Woman"
          ],
          [
           "Woman"
          ]
         ],
         "domain": {
          "x": [
           0.55,
           1
          ],
          "y": [
           0,
           1
          ]
         },
         "hovertemplate": "labels=%{label}<br>Count=%{value}<br>parent=%{parent}<br>id=%{id}<br>Gender=%{customdata[0]}<extra></extra>",
         "ids": [
          "all/Woman/<40/India",
          "all/Woman/>40/India",
          "all/Woman/<40/Other",
          "all/Woman/>40/Other",
          "all/Woman/<40/United States of America",
          "all/Woman/>40/United States of America",
          "all/Woman/<40",
          "all/Woman/>40",
          "all/Woman",
          "all"
         ],
         "labels": [
          "India",
          "India",
          "Other",
          "Other",
          "United States of America",
          "United States of America",
          "<40",
          ">40",
          "Woman",
          "all"
         ],
         "marker": {
          "colors": [
           "lightcoral",
           "lightcoral",
           "lightcoral",
           "lightcoral",
           "lightcoral",
           "lightcoral",
           "lightcoral",
           "lightcoral",
           "lightcoral",
           "lightcoral"
          ]
         },
         "name": "",
         "parents": [
          "all/Woman/<40",
          "all/Woman/>40",
          "all/Woman/<40",
          "all/Woman/>40",
          "all/Woman/<40",
          "all/Woman/>40",
          "all/Woman",
          "all/Woman",
          "all",
          ""
         ],
         "root": {
          "color": "lightgrey"
         },
         "type": "treemap",
         "values": [
          6.04,
          0.34,
          0.72,
          0.16,
          1.52,
          0.81,
          8.28,
          1.31,
          9.59,
          9.59
         ]
        }
       ],
       "layout": {
        "annotations": [
         {
          "font": {
           "size": 16
          },
          "showarrow": false,
          "text": "<b>Gender, Age & Country - Distribution<br />&nbsp;<br />",
          "x": 0.225,
          "xanchor": "center",
          "xref": "paper",
          "y": 1,
          "yanchor": "bottom",
          "yref": "paper"
         },
         {
          "font": {
           "size": 16
          },
          "showarrow": false,
          "text": "<b>Age Group, Country - Distribution of Women <br />&nbsp;<br />",
          "x": 0.775,
          "xanchor": "center",
          "xref": "paper",
          "y": 1,
          "yanchor": "bottom",
          "yref": "paper"
         }
        ],
        "template": {
         "data": {
          "bar": [
           {
            "error_x": {
             "color": "#2a3f5f"
            },
            "error_y": {
             "color": "#2a3f5f"
            },
            "marker": {
             "line": {
              "color": "#E5ECF6",
              "width": 0.5
             },
             "pattern": {
              "fillmode": "overlay",
              "size": 10,
              "solidity": 0.2
             }
            },
            "type": "bar"
           }
          ],
          "barpolar": [
           {
            "marker": {
             "line": {
              "color": "#E5ECF6",
              "width": 0.5
             },
             "pattern": {
              "fillmode": "overlay",
              "size": 10,
              "solidity": 0.2
             }
            },
            "type": "barpolar"
           }
          ],
          "carpet": [
           {
            "aaxis": {
             "endlinecolor": "#2a3f5f",
             "gridcolor": "white",
             "linecolor": "white",
             "minorgridcolor": "white",
             "startlinecolor": "#2a3f5f"
            },
            "baxis": {
             "endlinecolor": "#2a3f5f",
             "gridcolor": "white",
             "linecolor": "white",
             "minorgridcolor": "white",
             "startlinecolor": "#2a3f5f"
            },
            "type": "carpet"
           }
          ],
          "choropleth": [
           {
            "colorbar": {
             "outlinewidth": 0,
             "ticks": ""
            },
            "type": "choropleth"
           }
          ],
          "contour": [
           {
            "colorbar": {
             "outlinewidth": 0,
             "ticks": ""
            },
            "colorscale": [
             [
              0,
              "#0d0887"
             ],
             [
              0.1111111111111111,
              "#46039f"
             ],
             [
              0.2222222222222222,
              "#7201a8"
             ],
             [
              0.3333333333333333,
              "#9c179e"
             ],
             [
              0.4444444444444444,
              "#bd3786"
             ],
             [
              0.5555555555555556,
              "#d8576b"
             ],
             [
              0.6666666666666666,
              "#ed7953"
             ],
             [
              0.7777777777777778,
              "#fb9f3a"
             ],
             [
              0.8888888888888888,
              "#fdca26"
             ],
             [
              1,
              "#f0f921"
             ]
            ],
            "type": "contour"
           }
          ],
          "contourcarpet": [
           {
            "colorbar": {
             "outlinewidth": 0,
             "ticks": ""
            },
            "type": "contourcarpet"
           }
          ],
          "heatmap": [
           {
            "colorbar": {
             "outlinewidth": 0,
             "ticks": ""
            },
            "colorscale": [
             [
              0,
              "#0d0887"
             ],
             [
              0.1111111111111111,
              "#46039f"
             ],
             [
              0.2222222222222222,
              "#7201a8"
             ],
             [
              0.3333333333333333,
              "#9c179e"
             ],
             [
              0.4444444444444444,
              "#bd3786"
             ],
             [
              0.5555555555555556,
              "#d8576b"
             ],
             [
              0.6666666666666666,
              "#ed7953"
             ],
             [
              0.7777777777777778,
              "#fb9f3a"
             ],
             [
              0.8888888888888888,
              "#fdca26"
             ],
             [
              1,
              "#f0f921"
             ]
            ],
            "type": "heatmap"
           }
          ],
          "heatmapgl": [
           {
            "colorbar": {
             "outlinewidth": 0,
             "ticks": ""
            },
            "colorscale": [
             [
              0,
              "#0d0887"
             ],
             [
              0.1111111111111111,
              "#46039f"
             ],
             [
              0.2222222222222222,
              "#7201a8"
             ],
             [
              0.3333333333333333,
              "#9c179e"
             ],
             [
              0.4444444444444444,
              "#bd3786"
             ],
             [
              0.5555555555555556,
              "#d8576b"
             ],
             [
              0.6666666666666666,
              "#ed7953"
             ],
             [
              0.7777777777777778,
              "#fb9f3a"
             ],
             [
              0.8888888888888888,
              "#fdca26"
             ],
             [
              1,
              "#f0f921"
             ]
            ],
            "type": "heatmapgl"
           }
          ],
          "histogram": [
           {
            "marker": {
             "pattern": {
              "fillmode": "overlay",
              "size": 10,
              "solidity": 0.2
             }
            },
            "type": "histogram"
           }
          ],
          "histogram2d": [
           {
            "colorbar": {
             "outlinewidth": 0,
             "ticks": ""
            },
            "colorscale": [
             [
              0,
              "#0d0887"
             ],
             [
              0.1111111111111111,
              "#46039f"
             ],
             [
              0.2222222222222222,
              "#7201a8"
             ],
             [
              0.3333333333333333,
              "#9c179e"
             ],
             [
              0.4444444444444444,
              "#bd3786"
             ],
             [
              0.5555555555555556,
              "#d8576b"
             ],
             [
              0.6666666666666666,
              "#ed7953"
             ],
             [
              0.7777777777777778,
              "#fb9f3a"
             ],
             [
              0.8888888888888888,
              "#fdca26"
             ],
             [
              1,
              "#f0f921"
             ]
            ],
            "type": "histogram2d"
           }
          ],
          "histogram2dcontour": [
           {
            "colorbar": {
             "outlinewidth": 0,
             "ticks": ""
            },
            "colorscale": [
             [
              0,
              "#0d0887"
             ],
             [
              0.1111111111111111,
              "#46039f"
             ],
             [
              0.2222222222222222,
              "#7201a8"
             ],
             [
              0.3333333333333333,
              "#9c179e"
             ],
             [
              0.4444444444444444,
              "#bd3786"
             ],
             [
              0.5555555555555556,
              "#d8576b"
             ],
             [
              0.6666666666666666,
              "#ed7953"
             ],
             [
              0.7777777777777778,
              "#fb9f3a"
             ],
             [
              0.8888888888888888,
              "#fdca26"
             ],
             [
              1,
              "#f0f921"
             ]
            ],
            "type": "histogram2dcontour"
           }
          ],
          "mesh3d": [
           {
            "colorbar": {
             "outlinewidth": 0,
             "ticks": ""
            },
            "type": "mesh3d"
           }
          ],
          "parcoords": [
           {
            "line": {
             "colorbar": {
              "outlinewidth": 0,
              "ticks": ""
             }
            },
            "type": "parcoords"
           }
          ],
          "pie": [
           {
            "automargin": true,
            "type": "pie"
           }
          ],
          "scatter": [
           {
            "marker": {
             "colorbar": {
              "outlinewidth": 0,
              "ticks": ""
             }
            },
            "type": "scatter"
           }
          ],
          "scatter3d": [
           {
            "line": {
             "colorbar": {
              "outlinewidth": 0,
              "ticks": ""
             }
            },
            "marker": {
             "colorbar": {
              "outlinewidth": 0,
              "ticks": ""
             }
            },
            "type": "scatter3d"
           }
          ],
          "scattercarpet": [
           {
            "marker": {
             "colorbar": {
              "outlinewidth": 0,
              "ticks": ""
             }
            },
            "type": "scattercarpet"
           }
          ],
          "scattergeo": [
           {
            "marker": {
             "colorbar": {
              "outlinewidth": 0,
              "ticks": ""
             }
            },
            "type": "scattergeo"
           }
          ],
          "scattergl": [
           {
            "marker": {
             "colorbar": {
              "outlinewidth": 0,
              "ticks": ""
             }
            },
            "type": "scattergl"
           }
          ],
          "scattermapbox": [
           {
            "marker": {
             "colorbar": {
              "outlinewidth": 0,
              "ticks": ""
             }
            },
            "type": "scattermapbox"
           }
          ],
          "scatterpolar": [
           {
            "marker": {
             "colorbar": {
              "outlinewidth": 0,
              "ticks": ""
             }
            },
            "type": "scatterpolar"
           }
          ],
          "scatterpolargl": [
           {
            "marker": {
             "colorbar": {
              "outlinewidth": 0,
              "ticks": ""
             }
            },
            "type": "scatterpolargl"
           }
          ],
          "scatterternary": [
           {
            "marker": {
             "colorbar": {
              "outlinewidth": 0,
              "ticks": ""
             }
            },
            "type": "scatterternary"
           }
          ],
          "surface": [
           {
            "colorbar": {
             "outlinewidth": 0,
             "ticks": ""
            },
            "colorscale": [
             [
              0,
              "#0d0887"
             ],
             [
              0.1111111111111111,
              "#46039f"
             ],
             [
              0.2222222222222222,
              "#7201a8"
             ],
             [
              0.3333333333333333,
              "#9c179e"
             ],
             [
              0.4444444444444444,
              "#bd3786"
             ],
             [
              0.5555555555555556,
              "#d8576b"
             ],
             [
              0.6666666666666666,
              "#ed7953"
             ],
             [
              0.7777777777777778,
              "#fb9f3a"
             ],
             [
              0.8888888888888888,
              "#fdca26"
             ],
             [
              1,
              "#f0f921"
             ]
            ],
            "type": "surface"
           }
          ],
          "table": [
           {
            "cells": {
             "fill": {
              "color": "#EBF0F8"
             },
             "line": {
              "color": "white"
             }
            },
            "header": {
             "fill": {
              "color": "#C8D4E3"
             },
             "line": {
              "color": "white"
             }
            },
            "type": "table"
           }
          ]
         },
         "layout": {
          "annotationdefaults": {
           "arrowcolor": "#2a3f5f",
           "arrowhead": 0,
           "arrowwidth": 1
          },
          "autotypenumbers": "strict",
          "coloraxis": {
           "colorbar": {
            "outlinewidth": 0,
            "ticks": ""
           }
          },
          "colorscale": {
           "diverging": [
            [
             0,
             "#8e0152"
            ],
            [
             0.1,
             "#c51b7d"
            ],
            [
             0.2,
             "#de77ae"
            ],
            [
             0.3,
             "#f1b6da"
            ],
            [
             0.4,
             "#fde0ef"
            ],
            [
             0.5,
             "#f7f7f7"
            ],
            [
             0.6,
             "#e6f5d0"
            ],
            [
             0.7,
             "#b8e186"
            ],
            [
             0.8,
             "#7fbc41"
            ],
            [
             0.9,
             "#4d9221"
            ],
            [
             1,
             "#276419"
            ]
           ],
           "sequential": [
            [
             0,
             "#0d0887"
            ],
            [
             0.1111111111111111,
             "#46039f"
            ],
            [
             0.2222222222222222,
             "#7201a8"
            ],
            [
             0.3333333333333333,
             "#9c179e"
            ],
            [
             0.4444444444444444,
             "#bd3786"
            ],
            [
             0.5555555555555556,
             "#d8576b"
            ],
            [
             0.6666666666666666,
             "#ed7953"
            ],
            [
             0.7777777777777778,
             "#fb9f3a"
            ],
            [
             0.8888888888888888,
             "#fdca26"
            ],
            [
             1,
             "#f0f921"
            ]
           ],
           "sequentialminus": [
            [
             0,
             "#0d0887"
            ],
            [
             0.1111111111111111,
             "#46039f"
            ],
            [
             0.2222222222222222,
             "#7201a8"
            ],
            [
             0.3333333333333333,
             "#9c179e"
            ],
            [
             0.4444444444444444,
             "#bd3786"
            ],
            [
             0.5555555555555556,
             "#d8576b"
            ],
            [
             0.6666666666666666,
             "#ed7953"
            ],
            [
             0.7777777777777778,
             "#fb9f3a"
            ],
            [
             0.8888888888888888,
             "#fdca26"
            ],
            [
             1,
             "#f0f921"
            ]
           ]
          },
          "colorway": [
           "#636efa",
           "#EF553B",
           "#00cc96",
           "#ab63fa",
           "#FFA15A",
           "#19d3f3",
           "#FF6692",
           "#B6E880",
           "#FF97FF",
           "#FECB52"
          ],
          "font": {
           "color": "#2a3f5f"
          },
          "geo": {
           "bgcolor": "white",
           "lakecolor": "white",
           "landcolor": "#E5ECF6",
           "showlakes": true,
           "showland": true,
           "subunitcolor": "white"
          },
          "hoverlabel": {
           "align": "left"
          },
          "hovermode": "closest",
          "mapbox": {
           "style": "light"
          },
          "paper_bgcolor": "white",
          "plot_bgcolor": "#E5ECF6",
          "polar": {
           "angularaxis": {
            "gridcolor": "white",
            "linecolor": "white",
            "ticks": ""
           },
           "bgcolor": "#E5ECF6",
           "radialaxis": {
            "gridcolor": "white",
            "linecolor": "white",
            "ticks": ""
           }
          },
          "scene": {
           "xaxis": {
            "backgroundcolor": "#E5ECF6",
            "gridcolor": "white",
            "gridwidth": 2,
            "linecolor": "white",
            "showbackground": true,
            "ticks": "",
            "zerolinecolor": "white"
           },
           "yaxis": {
            "backgroundcolor": "#E5ECF6",
            "gridcolor": "white",
            "gridwidth": 2,
            "linecolor": "white",
            "showbackground": true,
            "ticks": "",
            "zerolinecolor": "white"
           },
           "zaxis": {
            "backgroundcolor": "#E5ECF6",
            "gridcolor": "white",
            "gridwidth": 2,
            "linecolor": "white",
            "showbackground": true,
            "ticks": "",
            "zerolinecolor": "white"
           }
          },
          "shapedefaults": {
           "line": {
            "color": "#2a3f5f"
           }
          },
          "ternary": {
           "aaxis": {
            "gridcolor": "white",
            "linecolor": "white",
            "ticks": ""
           },
           "baxis": {
            "gridcolor": "white",
            "linecolor": "white",
            "ticks": ""
           },
           "bgcolor": "#E5ECF6",
           "caxis": {
            "gridcolor": "white",
            "linecolor": "white",
            "ticks": ""
           }
          },
          "title": {
           "x": 0.05
          },
          "xaxis": {
           "automargin": true,
           "gridcolor": "white",
           "linecolor": "white",
           "ticks": "",
           "title": {
            "standoff": 15
           },
           "zerolinecolor": "white",
           "zerolinewidth": 2
          },
          "yaxis": {
           "automargin": true,
           "gridcolor": "white",
           "linecolor": "white",
           "ticks": "",
           "title": {
            "standoff": 15
           },
           "zerolinecolor": "white",
           "zerolinewidth": 2
          }
         }
        }
       }
      }
     },
     "metadata": {},
     "output_type": "display_data"
    }
   ],
   "source": [
    "df_new.groupby(by='Country').agg({'Country':'count'}).rename(columns={'Country':'Count'}).sort_values(by='Count', ascending=False)\n",
    "TOP_COUNTRIES = df_new.groupby(by='Country').agg({'Country':'count'}).rename(columns={'Country':'Count'}).sort_values(by='Count', ascending=False)[:3].index.tolist()\n",
    "print(TOP_COUNTRIES)\n",
    "df_ = getAgeGenderCountryDF()\n",
    "print(df_.groupby(by=['AgeGroup','Gender']).agg({'Count':np.sum}))\n",
    "plotTreeMaps(df_)"
   ]
  },
  {
   "cell_type": "markdown",
   "metadata": {},
   "source": [
    "In the <40 years category, most members (including women) are coming from **India** while in the >40 years category, most members seem to be coming from **United States of America**\n",
    "\n",
    "Since the environment in the **United States of America** became more conduicive for women earlier on, we probably see more women in the >40 category. But **India** seems to be fast catching up with the ML & DS technology!!"
   ]
  },
  {
   "cell_type": "markdown",
   "metadata": {},
   "source": [
    "## 2. Education and Profession\n",
    "What kind of **education** do the **Women > 40 years** have? Which **Industries** and in what kind og **Roles** do they mostly work in? What is the **Salaries** do they typically earn?"
   ]
  },
  {
   "cell_type": "code",
   "execution_count": 19,
   "metadata": {},
   "outputs": [],
   "source": [
    "def getXXX(df_, cols, col):\n",
    "    df_temp = df_[cols].groupby(by=[col]).agg({col: 'count'})\n",
    "    df_temp.rename(columns={col:'count'}, inplace=True)\n",
    "    df_temp['count'] = 100 * df_temp['count']/df_.shape[0]\n",
    "    df_temp.reset_index(inplace=True)\n",
    "    #print(df_temp)\n",
    "    return df_temp\n",
    "\n",
    "def getYYY(df_, col):\n",
    "    cols = ['Age','Gender','AgeGroup',col]\n",
    "    print(\"Missing values:\", df_[col].isnull().sum())\n",
    "    #print(df_[cols].head())\n",
    "\n",
    "    df_all = getXXX(df_, cols, col)\n",
    "    df_wlt40 = getXXX(df_[(df_new['Gender']=='Woman') & (df_['AgeGroup']=='<40')], cols, col)\n",
    "    df_wgt40 = getXXX(df_[(df_new['Gender']=='Woman') & (df_['AgeGroup']=='>40')], cols, col)\n",
    "\n",
    "    fig = plt.figure(figsize=(20, 5))\n",
    "    ax = plt.subplot(1, 3, 1); ax = df_all.plot.bar(col, ax=ax); annotate(ax, 'Overall'); ax.set_ylim(0, 100)\n",
    "    ax = plt.subplot(1, 3, 2); ax = df_wlt40.plot.bar(col, ax=ax); annotate(ax, 'Woman < 40'); ax.set_ylim(0, 100)\n",
    "    ax = plt.subplot(1, 3, 3); ax = df_wgt40.plot.bar(col, ax=ax); annotate(ax, 'Woman > 40'); ax.set_ylim(0, 100)\n",
    "    fig.suptitle(f'{col} & Gender', fontsize=16)"
   ]
  },
  {
   "cell_type": "code",
   "execution_count": 20,
   "metadata": {},
   "outputs": [
    {
     "name": "stdout",
     "output_type": "stream",
     "text": [
      "Missing values: 0\n"
     ]
    },
    {
     "data": {
      "image/png": "[encoded data removed]",
      "text/plain": [
       "<Figure size 1440x360 with 3 Axes>"
      ]
     },
     "metadata": {
      "needs_background": "light"
     },
     "output_type": "display_data"
    }
   ],
   "source": [
    "COLS_EDU = ('Q4', 'What is the highest level of formal education that you have attained or plan to attain within the next 2 years?')\n",
    "df[COLS_EDU].value_counts(normalize=True)*100\n",
    "\n",
    "df_new['Education'] = df[COLS_EDU].apply(lambda x: 'None' if x in ['I prefer not to answer','No formal education past high school', 'Some college/university study without earning a bachelor’s degree'] else x )\n",
    "getYYY(df_new, 'Education')"
   ]
  },
  {
   "cell_type": "markdown",
   "metadata": {},
   "source": [
    "Overall and Woman<40 categories, the members mostly have Bachelor's & Masters degree followed by No degree, Doctor, Professional Doctor\n",
    "\n",
    "But **Women >40** have mostly **Masters degree** followed by Doctors, Bachelors, None and then Professional doctorate. This is probably expected due to the age factor."
   ]
  },
  {
   "cell_type": "code",
   "execution_count": 21,
   "metadata": {},
   "outputs": [
    {
     "name": "stdout",
     "output_type": "stream",
     "text": [
      "\n",
      "Missing values: 0\n",
      "Missing values: 0\n"
     ]
    },
    {
     "data": {
      "image/png": "[encoded data removed]",
      "text/plain": [
       "<Figure size 1440x360 with 3 Axes>"
      ]
     },
     "metadata": {
      "needs_background": "light"
     },
     "output_type": "display_data"
    },
    {
     "data": {
      "image/png": "[encoded data removed]",
      "text/plain": [
       "<Figure size 1440x360 with 3 Axes>"
      ]
     },
     "metadata": {
      "needs_background": "light"
     },
     "output_type": "display_data"
    }
   ],
   "source": [
    "COLS_INDUSTRY = ('Q20', 'In what industry is your current employer/contract (or your most recent employer if retired)? - Selected Choice')\n",
    "df[COLS_INDUSTRY].value_counts(normalize=True)*100;print()\n",
    "df_new['Industry'] = df[COLS_INDUSTRY].apply(lambda x: x if x in ['Computers/Technology','Academics/Education', 'Accounting/Finance', 'Manufacturing/Fabrication', 'Medical/Pharmaceutical', 'Government/Public Service'] else 'Other' )\n",
    "getYYY(df_new, 'Industry')\n",
    "\n",
    "COLS_ROLE = ('Q5', 'Select the title most similar to your current role (or most recent title if retired): - Selected Choice')\n",
    "df[COLS_ROLE].value_counts(normalize=True)*100\n",
    "df_new['Role'] = df[COLS_ROLE]\n",
    "getYYY(df_new, 'Role')"
   ]
  },
  {
   "cell_type": "markdown",
   "metadata": {},
   "source": [
    "Higher percentage of the women > 40yrs are in the Academics/Education (other than 'Others' category) followed by Computers/Technology. These are also the top 2 industries for the overall and women < 40 yrs but with lesser percentages.\n",
    "\n",
    "While in the Overall & Women < 40 years categories, most of them are students followed by Data Scientists, the women>40 years fall in the Data Scientist, Research Scientist roles (apart from Other category)"
   ]
  },
  {
   "cell_type": "code",
   "execution_count": 22,
   "metadata": {},
   "outputs": [
    {
     "name": "stdout",
     "output_type": "stream",
     "text": [
      "Missing values: 10582\n"
     ]
    },
    {
     "data": {
      "text/plain": [
       "(0.0, 18.0)"
      ]
     },
     "execution_count": 22,
     "metadata": {},
     "output_type": "execute_result"
    },
    {
     "data": {
      "image/png": "[encoded data removed]",
      "text/plain": [
       "<Figure size 1440x360 with 3 Axes>"
      ]
     },
     "metadata": {
      "needs_background": "light"
     },
     "output_type": "display_data"
    }
   ],
   "source": [
    "COLS_SAL = ('Q25', 'What is your current yearly compensation (approximate $USD)?')\n",
    "df[COLS_SAL].value_counts(normalize=True).sort_values(ascending=False)\n",
    "df_new['Salary'] = df[COLS_SAL]\n",
    "#getYYY(df_new, 'Salary')\n",
    "\n",
    "col = 'Salary'\n",
    "cols = ['Age','Gender','AgeGroup',col]\n",
    "print(\"Missing values:\", df_new[col].isnull().sum())\n",
    "#print(df_[cols].head())\n",
    "\n",
    "SAL_VALUES = ['$0-999', '1,000-1,999', '2,000-2,999', '3,000-3,999', '4,000-4,999', '5,000-7,499', '7,500-9,999','10,000-14,999', '15,000-19,999', '20,000-24,999','25,000-29,999', '30,000-39,999', '40,000-49,999', '50,000-59,999', '60,000-69,999', '70,000-79,999', '80,000-89,999', '90,000-99,999', '100,000-124,999', '125,000-149,999', '150,000-199,999','200,000-249,999', '$500,000-999,999', '>$1,000,000']\n",
    "df_ = df_new\n",
    "total = df_.shape[0]\n",
    "df_all = df_[cols].groupby(by=[col]).agg({col: 'count'})\n",
    "df_all.rename(columns={col:'count'}, inplace=True)\n",
    "df_all = df_all.reindex(SAL_VALUES)\n",
    "df_all.reset_index(inplace=True)\n",
    "df_all['count'] = round((df_all['count']/total)*100,2)\n",
    "#print(df_all)\n",
    "\n",
    "df_ = df_new[(df_new['Gender']=='Woman') & (df_new['AgeGroup']=='<40')]\n",
    "total = df_.shape[0]\n",
    "df_wlt40 = df_[cols].groupby(by=[col]).agg({col: 'count'})\n",
    "df_wlt40.rename(columns={col:'count'}, inplace=True)\n",
    "df_wlt40 = df_wlt40.reindex(SAL_VALUES)\n",
    "df_wlt40.reset_index(inplace=True)\n",
    "df_wlt40['count'] = round((df_wlt40['count']/total)*100,2)\n",
    "#print(df_wlt40)\n",
    "\n",
    "\n",
    "df_ = df_new[(df_new['Gender']=='Woman') & (df_new['AgeGroup']=='>40')]\n",
    "total = df_.shape[0]\n",
    "df_wgt40 = df_[cols].groupby(by=[col]).agg({col: 'count'})\n",
    "df_wgt40.rename(columns={col:'count'}, inplace=True)\n",
    "df_wgt40 = df_wgt40.reindex(SAL_VALUES)\n",
    "df_wgt40.reset_index(inplace=True)\n",
    "df_wgt40['count'] = round((df_wgt40['count']/total)*100,2)\n",
    "#print(df_wgt40)\n",
    "\n",
    "plt.figure(figsize=(20, 5))\n",
    "ax = plt.subplot(1, 3, 1); ax = df_all.plot.bar(col, ax=ax); annotate(ax, 'Overall'); ax.set_ylim(0, 18)\n",
    "ax = plt.subplot(1, 3, 2); ax = df_wlt40.plot.bar(col, ax=ax); annotate(ax, 'Woman < 40'); ax.set_ylim(0, 18)\n",
    "ax = plt.subplot(1, 3, 3); ax = df_wgt40.plot.bar(col, ax=ax); annotate(ax, 'Woman > 40'); ax.set_ylim(0, 18)"
   ]
  },
  {
   "cell_type": "markdown",
   "metadata": {},
   "source": [
    "The salaries of the women > 40yrs is higher than their counterparts (owing to their experience)"
   ]
  },
  {
   "cell_type": "markdown",
   "metadata": {},
   "source": [
    "## 3. Development Toolset/Environment - Usage\n",
    "How have the **Women > 40 years** adopted Technology? How many of the Programming Languages, IDE, Tools, Frameworks do they use in their work?"
   ]
  },
  {
   "cell_type": "markdown",
   "metadata": {},
   "source": [
    "### 3.1 Programming Languages"
   ]
  },
  {
   "cell_type": "code",
   "execution_count": 23,
   "metadata": {},
   "outputs": [
    {
     "data": {
      "image/png": "[encoded data removed]",
      "text/plain": [
       "<Figure size 720x432 with 1 Axes>"
      ]
     },
     "metadata": {
      "needs_background": "light"
     },
     "output_type": "display_data"
    }
   ],
   "source": [
    "plt.figure(figsize=(10, 6)); ax = plt.subplot(1,1 ,1)\n",
    "CAT = \"PL\"; Q_PREFIX = \"Q7\"\n",
    "Q_PART_PREFIX = f'{Q_PREFIX}_Part_'; COL_NONE = f'{Q_PART_PREFIX}12'\n",
    "COLS, _, COLS_OTHER, _ = getCols(CAT, Q_PREFIX, COL_NONE, )\n",
    "df[COLS].head()\n",
    "summarise(df, df_new, CAT, COLS, COLS_OTHER, COL_NONE,\n",
    "            f'{Q_PART_PREFIX}1', f'{CAT}Python', \"Python\",\n",
    "            f'{Q_PART_PREFIX}3', f'{CAT}SQL', \"SQL\",\n",
    "            f'{Q_PART_PREFIX}5', f'{CAT}C++', \"C++\", ax, 'Usage - Programming Languages') "
   ]
  },
  {
   "cell_type": "markdown",
   "metadata": {},
   "source": [
    "The overall trend of usage of Programming Languages for the Woman > 40 is similar to overall and Woman <40. The most used programming languages are in the order Python, SQL, C++\n",
    "\n",
    "The python users in the Woman >40 is lesser than the rest.\n",
    "\n",
    "The number of women > 40 not using any programming language is 14.4 which is significantly higher than the overall and women<40 category."
   ]
  },
  {
   "cell_type": "code",
   "execution_count": 24,
   "metadata": {},
   "outputs": [
    {
     "data": {
      "text/plain": [
       "'print(\"cols\", len(COLS_PL + COLS_PL_NONE))\\nprint(\"Total rows: \", df.shape[0])\\nprint(\"Rows with all COLS_PL + COLS_PL_NONE nulls:\", df[df[COLS_PL + COLS_PL_NONE].isnull().sum(axis=1)==13].shape[0])\\nprint(\"Rows with all COLS_PL nulls:\", (df[df[COLS_PL].isnull().sum(axis=1)==12][COLS_PL_NONE]).shape[0]/df.shape[0]) #[COLS_PL_NONE].isnull().sum()\\n#print(\"XXX\", df.loc[ df[COLS_PL].isnull().sum(axis=1)<12, : ][COLS_PL_NONE]==\\'None\\')\\n# print(\"Rows with all COLS_PL nulls:\", df[(df[COLS_PL].isnull().sum(axis=1)==12)&(df[COLS_PL_NONE]==\\'None\\')].shape[0])\\n\\ndf_temp = df[df[COLS_PL].isnull().sum(axis=1)<12][COLS_PL_NONE]#)==True #][COLS_PL_NONE]\\nprint(df_temp.shape[0])\\ndf_temp[COLS_PL_NONE].value_counts()'"
      ]
     },
     "execution_count": 24,
     "metadata": {},
     "output_type": "execute_result"
    }
   ],
   "source": [
    "'''print(\"cols\", len(COLS_PL + COLS_PL_NONE))\n",
    "print(\"Total rows: \", df.shape[0])\n",
    "print(\"Rows with all COLS_PL + COLS_PL_NONE nulls:\", df[df[COLS_PL + COLS_PL_NONE].isnull().sum(axis=1)==13].shape[0])\n",
    "print(\"Rows with all COLS_PL nulls:\", (df[df[COLS_PL].isnull().sum(axis=1)==12][COLS_PL_NONE]).shape[0]/df.shape[0]) #[COLS_PL_NONE].isnull().sum()\n",
    "#print(\"XXX\", df.loc[ df[COLS_PL].isnull().sum(axis=1)<12, : ][COLS_PL_NONE]=='None')\n",
    "# print(\"Rows with all COLS_PL nulls:\", df[(df[COLS_PL].isnull().sum(axis=1)==12)&(df[COLS_PL_NONE]=='None')].shape[0])\n",
    "\n",
    "df_temp = df[df[COLS_PL].isnull().sum(axis=1)<12][COLS_PL_NONE]#)==True #][COLS_PL_NONE]\n",
    "print(df_temp.shape[0])\n",
    "df_temp[COLS_PL_NONE].value_counts()'''"
   ]
  },
  {
   "cell_type": "code",
   "execution_count": 25,
   "metadata": {},
   "outputs": [
    {
     "data": {
      "text/plain": [
       "'print(df_new[\\'PLPython\\'].sum(), df_new[df_new[\\'PLPython\\']==0][\\'PLPython\\'].count(), df_new.shape[0])\\ndef abc(label, lt40, gt40):\\n    print(f\"{label:5}    <40: {percent(lt40,df.shape[0]):2.2f}%    >40: {percent(gt40,df.shape[0]):2.2f}%\")\\n\\nabc(\"Woman\", 4147, 743)\\nabc(\"Man\", 15956, 4642)'"
      ]
     },
     "execution_count": 25,
     "metadata": {},
     "output_type": "execute_result"
    }
   ],
   "source": [
    "'''print(df_new['PLPython'].sum(), df_new[df_new['PLPython']==0]['PLPython'].count(), df_new.shape[0])\n",
    "def abc(label, lt40, gt40):\n",
    "    print(f\"{label:5}    <40: {percent(lt40,df.shape[0]):2.2f}%    >40: {percent(gt40,df.shape[0]):2.2f}%\")\n",
    "\n",
    "abc(\"Woman\", 4147, 743)\n",
    "abc(\"Man\", 15956, 4642)'''"
   ]
  },
  {
   "cell_type": "code",
   "execution_count": null,
   "metadata": {},
   "outputs": [],
   "source": [
    "'''def my_value_counts(df, col):\n",
    "    df_ = df['ProgLang'].value_counts(normalize=True).to_frame()\n",
    "    #print(df_pl_all)\n",
    "    return df_\n",
    "\n",
    "df_pl_all = my_value_counts(df_new, 'ProgLang') \n",
    "df_pl_man = my_value_counts(df_man, 'ProgLang') \n",
    "df_pl_woman =  my_value_counts(df_woman, 'df_woman')\n",
    "df_pl_woman_lt40 =  my_value_counts(df_woman[df_woman['AgeGroup']=='<40'], 'ProgLang') \n",
    "df_pl_woman_gt40 =  my_value_counts(df_woman[df_woman['AgeGroup']=='>40'], 'ProgLang') \n",
    "df_res = pd.merge(df_pl_man, df_pl_woman, left_index=True, right_index=True,suffixes=['_m','_w'])\n",
    "df_res = pd.merge(df_res, df_pl_woman_lt40, left_index=True, right_index=True)\n",
    "df_res = pd.merge(df_res, df_pl_woman_gt40, left_index=True, right_index=True,suffixes=['_w_lt40','_w_gt40'])\n",
    "df_res = pd.merge(df_pl_all, df_res, left_index=True, right_index=True)\n",
    "round(df_res*100,1)\n",
    "df_res.plot.bar(figsize=(15,5), logy=True)'''"
   ]
  },
  {
   "cell_type": "markdown",
   "metadata": {},
   "source": [
    "### 3.2 IDEs & Hosted Notebooks"
   ]
  },
  {
   "cell_type": "code",
   "execution_count": 26,
   "metadata": {},
   "outputs": [
    {
     "data": {
      "image/png": "[encoded data removed]",
      "text/plain": [
       "<Figure size 1440x432 with 2 Axes>"
      ]
     },
     "metadata": {
      "needs_background": "light"
     },
     "output_type": "display_data"
    }
   ],
   "source": [
    "plt.figure(figsize=(20, 6))\n",
    "\n",
    "CAT, Q_PREFIX = \"IDE\", \"Q9\"\n",
    "Q_PART_PREFIX = f'{Q_PREFIX}_Part_'; COL_NONE = f'{Q_PART_PREFIX}12'\n",
    "COLS, _, COLS_OTHER, _ = getCols(CAT, Q_PREFIX, COL_NONE, )\n",
    "df[COLS].head()\n",
    "ax = plt.subplot(1, 2, 1)\n",
    "summarise(df, df_new, CAT, COLS, COLS_OTHER, COL_NONE,\n",
    "            f'{Q_PART_PREFIX}11', f'{CAT}-JupyterNB', \"Jupyter Notebook\",\n",
    "            f'{Q_PART_PREFIX}4', f'{CAT}-VSCode', \"Visual Studio Code (VSCode)\",\n",
    "            f'{Q_PART_PREFIX}5', f'{CAT}-PyCharm', \"PyCharm\", \n",
    "            ax=ax, title=\"IDE - Usage\") \n",
    "\n",
    "CAT, Q_PREFIX = \"HNB\", \"Q10\"\n",
    "Q_PART_PREFIX = f'{Q_PREFIX}_Part_'; COL_NONE = f'{Q_PART_PREFIX}16'\n",
    "COLS, _, COLS_OTHER, _ = getCols(CAT, Q_PREFIX, COL_NONE, )\n",
    "df[COLS].head()\n",
    "ax = plt.subplot(1, 2, 2)\n",
    "summarise(df, df_new, CAT, COLS, COLS_OTHER, COL_NONE,\n",
    "            f'{Q_PART_PREFIX}2', f'{CAT}-Colab', \"Colab Notebooks\",\n",
    "            f'{Q_PART_PREFIX}1', f'{CAT}-Kaggle', \"Kaggle Notebooks\",\n",
    "            f'{Q_PART_PREFIX}10', f'{CAT}Google', \"Google Cloud Notebooks (AI Platform / Vertex AI)\", \n",
    "            ax=ax, title=\"Hosted Notebook - Usage\") "
   ]
  },
  {
   "cell_type": "markdown",
   "metadata": {},
   "source": [
    "The trend across categories in the **IDE** and **Hosted Notebook** usage is also similar. The most used IDEs are Jupyter Notebook, VS Code and PyCharm\n",
    "\n",
    "The number of women > 40 not using any IDE and Hosted Notebook is 16.8 and 43.6 respectively which is again significantly higher than the overall and women<40 category."
   ]
  },
  {
   "cell_type": "markdown",
   "metadata": {},
   "source": [
    "### 3.3 Programming Language & Machine Learning Usage"
   ]
  },
  {
   "cell_type": "code",
   "execution_count": 27,
   "metadata": {},
   "outputs": [
    {
     "name": "stdout",
     "output_type": "stream",
     "text": [
      "Under 1 year                             38.574556\n",
      "1-2 years                                19.680896\n",
      "I do not use machine learning methods    16.371979\n",
      "2-3 years                                 9.703629\n",
      "3-4 years                                 4.929696\n",
      "5-10 years                                4.348741\n",
      "4-5 years                                 3.978277\n",
      "10-20 years                               1.523954\n",
      "20 or more years                          0.888271\n",
      "Name: (Q15, For how many years have you used machine learning methods?), dtype: float64\n",
      "\n",
      "1-3 years                    30.316097\n",
      "< 1 years                    22.642744\n",
      "3-5 years                    15.635468\n",
      "5-10 years                   11.931621\n",
      "10-20 years                   8.339429\n",
      "20+ years                     7.161283\n",
      "I have never written code     3.973357\n",
      "Name: (Q6, For how many years have you been writing code and/or programming?), dtype: float64\n"
     ]
    },
    {
     "data": {
      "text/html": [
       "<div>\n",
       "<style scoped>\n",
       "    .dataframe tbody tr th:only-of-type {\n",
       "        vertical-align: middle;\n",
       "    }\n",
       "\n",
       "    .dataframe tbody tr th {\n",
       "        vertical-align: top;\n",
       "    }\n",
       "\n",
       "    .dataframe thead th {\n",
       "        text-align: right;\n",
       "    }\n",
       "</style>\n",
       "<table border=\"1\" class=\"dataframe\">\n",
       "  <thead>\n",
       "    <tr style=\"text-align: right;\">\n",
       "      <th></th>\n",
       "      <th>Age</th>\n",
       "      <th>Gender</th>\n",
       "      <th>AgeGroup</th>\n",
       "      <th>PL-Count</th>\n",
       "      <th>MLUsage</th>\n",
       "      <th>PLUsage</th>\n",
       "    </tr>\n",
       "  </thead>\n",
       "  <tbody>\n",
       "    <tr>\n",
       "      <th>0</th>\n",
       "      <td>50-54</td>\n",
       "      <td>Man</td>\n",
       "      <td>&gt;40</td>\n",
       "      <td>2</td>\n",
       "      <td>5-10 years</td>\n",
       "      <td>5-10 years</td>\n",
       "    </tr>\n",
       "    <tr>\n",
       "      <th>1</th>\n",
       "      <td>50-54</td>\n",
       "      <td>Man</td>\n",
       "      <td>&gt;40</td>\n",
       "      <td>4</td>\n",
       "      <td>Under 1 year</td>\n",
       "      <td>20+ years</td>\n",
       "    </tr>\n",
       "    <tr>\n",
       "      <th>2</th>\n",
       "      <td>22-24</td>\n",
       "      <td>Man</td>\n",
       "      <td>&lt;40</td>\n",
       "      <td>3</td>\n",
       "      <td>0 years</td>\n",
       "      <td>1-3 years</td>\n",
       "    </tr>\n",
       "    <tr>\n",
       "      <th>3</th>\n",
       "      <td>45-49</td>\n",
       "      <td>Man</td>\n",
       "      <td>&gt;40</td>\n",
       "      <td>1</td>\n",
       "      <td>5-10 years</td>\n",
       "      <td>20+ years</td>\n",
       "    </tr>\n",
       "    <tr>\n",
       "      <th>4</th>\n",
       "      <td>45-49</td>\n",
       "      <td>Man</td>\n",
       "      <td>&gt;40</td>\n",
       "      <td>3</td>\n",
       "      <td>10-20 years</td>\n",
       "      <td>&lt; 1 years</td>\n",
       "    </tr>\n",
       "  </tbody>\n",
       "</table>\n",
       "</div>"
      ],
      "text/plain": [
       "     Age Gender AgeGroup  PL-Count       MLUsage     PLUsage\n",
       "0  50-54    Man      >40         2    5-10 years  5-10 years\n",
       "1  50-54    Man      >40         4  Under 1 year   20+ years\n",
       "2  22-24    Man      <40         3       0 years   1-3 years\n",
       "3  45-49    Man      >40         1    5-10 years   20+ years\n",
       "4  45-49    Man      >40         3   10-20 years   < 1 years"
      ]
     },
     "execution_count": 27,
     "metadata": {},
     "output_type": "execute_result"
    }
   ],
   "source": [
    "COLS_ML_USE = ('Q15','For how many years have you used machine learning methods?')\n",
    "print(df[COLS_ML_USE].value_counts(normalize=True)*100);print()\n",
    "\n",
    "COLS_PL_USE = ('Q6', 'For how many years have you been writing code and/or programming?')\n",
    "print(df[COLS_PL_USE].value_counts(normalize=True)*100)\n",
    "\n",
    "df_new['MLUsage'] = df[COLS_ML_USE].apply(lambda x: '0 years' if x == 'I do not use machine learning methods' else x )\n",
    "df_new['PLUsage'] = df[COLS_PL_USE].apply(lambda x: '0 years' if x == 'I have never written code' else x)\n",
    "\n",
    "COLS_USAGE = ['Age','Gender','AgeGroup','PL-Count','MLUsage','PLUsage']\n",
    "df_new[COLS_USAGE].head()"
   ]
  },
  {
   "cell_type": "code",
   "execution_count": 28,
   "metadata": {},
   "outputs": [],
   "source": [
    "def plotMLPLUsage(df, ax, title):\n",
    "    df.rename(columns={'MLUsage':'Count'},inplace=True)\n",
    "    df.reset_index(inplace=True)\n",
    "    #print(df.sort_values(by=['MLUsage','PLUsage']).head())\n",
    "    #print(df[df['MLUsage'] == '20 or more years'])\n",
    "\n",
    "    df_mlpl = pd.pivot_table(df, index=['PLUsage'], columns = ['MLUsage'], values ='Count', aggfunc=np.sum)\n",
    "    df_mlpl = df_mlpl[['0 years', 'Under 1 year', '1-2 years', '2-3 years', '3-4 years', '4-5 years', '5-10 years', '10-20 years', '20 or more years']]\n",
    "    df_mlpl = df_mlpl.reindex(index = ['< 1 years', '1-3 years','3-5 years', '5-10 years', '10-20 years', '20+ years'] )\n",
    "    \n",
    "    #fig, ax = plt.subplots(figsize=(10,8)) \n",
    "    if ax is None: \n",
    "        sns.heatmap(df_mlpl, annot=True, fmt=\"g\", cmap=\"YlGnBu\")\n",
    "    else:\n",
    "        sns.heatmap(df_mlpl, annot=True, fmt=\"g\", ax=ax, cmap=\"YlGnBu\")"
   ]
  },
  {
   "cell_type": "code",
   "execution_count": 29,
   "metadata": {},
   "outputs": [
    {
     "data": {
      "image/png": "[encoded data removed]",
      "text/plain": [
       "<Figure size 1440x360 with 2 Axes>"
      ]
     },
     "metadata": {
      "needs_background": "light"
     },
     "output_type": "display_data"
    },
    {
     "data": {
      "image/png": "[encoded data removed]",
      "text/plain": [
       "<Figure size 1440x360 with 4 Axes>"
      ]
     },
     "metadata": {
      "needs_background": "light"
     },
     "output_type": "display_data"
    }
   ],
   "source": [
    "df_all = df_new[COLS_USAGE].groupby(by=['MLUsage','PLUsage']).agg({ 'MLUsage': 'count'})\n",
    "df_wlt40 = df_new[(df_new['Gender']=='Woman') & (df_new['AgeGroup']=='<40')][COLS_USAGE].groupby(by=['MLUsage','PLUsage']).agg({ 'MLUsage': 'count'})\n",
    "df_wgt40 = df_new[(df_new['Gender']=='Woman') & (df_new['AgeGroup']=='>40')][COLS_USAGE].groupby(by=['MLUsage','PLUsage']).agg({ 'MLUsage': 'count'})\n",
    "\n",
    "fig = plt.figure(figsize=(20, 5)); fig.suptitle('Machine Learning & Programming Language - Overall Usage', fontsize=16)\n",
    "plotMLPLUsage(df_all, None, 'Overall');plt.show()\n",
    "\n",
    "fig = plt.figure(figsize=(20, 5)); fig.suptitle('Machine Learning & Programming Language - Usage by Women', fontsize=16)\n",
    "ax = plt.subplot(1, 2, 1); plotMLPLUsage(df_wlt40, ax, 'Woman < 40')\n",
    "ax = plt.subplot(1, 2, 2); plotMLPLUsage(df_wgt40, ax, 'Woman > 40')"
   ]
  },
  {
   "cell_type": "markdown",
   "metadata": {},
   "source": [
    "Most of the **overall** and **woman <40 years** communities have been using programming languages for **< 5 years** and have been using ML for **< 3 years**. Very few have been using Programming Languages and ML beyond these numbers.\n",
    "\n",
    "For obvious reasons (age), more percentage of the  **woman > 40** community has been using programming languages and ML for more years compared to that of their counterparts."
   ]
  },
  {
   "cell_type": "markdown",
   "metadata": {},
   "source": [
    "### 3.4 Data Visualization & Machine Learning Framework"
   ]
  },
  {
   "cell_type": "code",
   "execution_count": 30,
   "metadata": {},
   "outputs": [
    {
     "data": {
      "image/png": "[encoded data removed]",
      "text/plain": [
       "<Figure size 1440x432 with 2 Axes>"
      ]
     },
     "metadata": {
      "needs_background": "light"
     },
     "output_type": "display_data"
    }
   ],
   "source": [
    "plt.figure(figsize=(20, 6))\n",
    "\n",
    "CAT, Q_PREFIX = \"VIZ\", \"Q14\"\n",
    "Q_PART_PREFIX = f'{Q_PREFIX}_Part_'; COL_NONE = f'{Q_PART_PREFIX}11'\n",
    "COLS, _, COLS_OTHER, _ = getCols(CAT, Q_PREFIX, COL_NONE, );df[COLS].head()\n",
    "ax = plt.subplot(1, 2, 1)\n",
    "summarise(df, df_new, CAT, COLS, COLS_OTHER, COL_NONE,\n",
    "            f'{Q_PART_PREFIX}1', f'{CAT}-Matplotlib', \"Matplotlib\",\n",
    "            f'{Q_PART_PREFIX}2', f'{CAT}-Seaborn', \"Seaborn\",\n",
    "            f'{Q_PART_PREFIX}3', f'{CAT}-plotly', \"Plotly / Plotly Express\", \n",
    "            ax, \"Data Visualisation - Usage\")\n",
    "\n",
    "CAT, Q_PREFIX = \"MLFW\", \"Q16\"\n",
    "Q_PART_PREFIX = f'{Q_PREFIX}_Part_'; COL_NONE = f'{Q_PART_PREFIX}17'\n",
    "COLS, _, COLS_OTHER, _ = getCols(CAT, Q_PREFIX, COL_NONE, );df[COLS].head()\n",
    "ax = plt.subplot(1, 2, 2)\n",
    "summarise(df, df_new, CAT, COLS, COLS_OTHER, COL_NONE,\n",
    "            f'{Q_PART_PREFIX}1', f'{CAT}-Scikit-learn', \"Scikit-learn\",\n",
    "            f'{Q_PART_PREFIX}2', f'{CAT}-TensorFlow', \"TensorFlow\",\n",
    "            f'{Q_PART_PREFIX}3', f'{CAT}-Keras', \"Keras\", \n",
    "            ax, \"ML Framework - Usage\")"
   ]
  },
  {
   "cell_type": "markdown",
   "metadata": {},
   "source": [
    "In all the categories of gender and age groups, \n",
    "- matplotlib, seaborn, plotly are most used visualization libraries \n",
    "- scikit learn, tensorflow and keras are most used for general machine learning frameworks"
   ]
  },
  {
   "cell_type": "markdown",
   "metadata": {},
   "source": [
    "## 4. Machine Learning Concepts, Practices - Usage\n",
    "How is the usage of ML Algorithms and areas like Computer Vision, Natural Language Processing (NLP) & AutoML?"
   ]
  },
  {
   "cell_type": "code",
   "execution_count": 31,
   "metadata": {},
   "outputs": [
    {
     "data": {
      "image/png": "[encoded data removed]",
      "text/plain": [
       "<Figure size 1728x432 with 3 Axes>"
      ]
     },
     "metadata": {
      "needs_background": "light"
     },
     "output_type": "display_data"
    },
    {
     "data": {
      "image/png": "[encoded data removed]",
      "text/plain": [
       "<Figure size 1080x432 with 1 Axes>"
      ]
     },
     "metadata": {
      "needs_background": "light"
     },
     "output_type": "display_data"
    }
   ],
   "source": [
    "plt.figure(figsize=(24, 6))\n",
    "\n",
    "ax = plt.subplot(1, 3, 1)\n",
    "CAT, Q_PREFIX = \"MLA\", \"Q17\"\n",
    "Q_PART_PREFIX = f'{Q_PREFIX}_Part_'; COL_NONE = f'{Q_PART_PREFIX}11'\n",
    "COLS, _, COLS_OTHER, _ = getCols(CAT, Q_PREFIX, COL_NONE, )\n",
    "df[COLS].head()\n",
    "summarise(df, df_new, CAT, COLS, COLS_OTHER, COL_NONE,\n",
    "            f'{Q_PART_PREFIX}1', f'{CAT} Linear/\\nLogistic\\n Regression', \"Linear or Logistic Regression\",\n",
    "            f'{Q_PART_PREFIX}2', f'{CAT} Decision\\nTrees\\n/Random Forests', \"Decision Trees or Random Forests\",\n",
    "            f'{Q_PART_PREFIX}3', f'{CAT} Gradient\\nBoosting', \"Gradient Boosting Machines (xgboost, lightgbm, etc)\", ax=ax, title=\"ML Algorithms-Usage\") \n",
    "\n",
    "ax = plt.subplot(1, 3, 2)\n",
    "CAT, Q_PREFIX = \"CV\", \"Q18\"\n",
    "Q_PART_PREFIX = f'{Q_PREFIX}_Part_'; COL_NONE = f'{Q_PART_PREFIX}6'\n",
    "COLS, _, COLS_OTHER, _ = getCols(CAT, Q_PREFIX, COL_NONE, )\n",
    "df[COLS].head()\n",
    "summarise(df, df_new, CAT, COLS, COLS_OTHER, COL_NONE,\n",
    "            f'{Q_PART_PREFIX}4', f'{CAT}-Image\\nclassification', \"Image classification and other general purpose networks (VGG, Inception, ResNet, ResNeXt, NASNet, EfficientNet, etc)\",\n",
    "            f'{Q_PART_PREFIX}2', f'{CAT}-Image\\nsegmentation', \"Image segmentation methods (U-Net, Mask R-CNN, etc)\",\n",
    "            f'{Q_PART_PREFIX}3', f'{CAT}-Object\\ndetection', \"Object detection methods (YOLOv3, RetinaNet, etc)\", ax=ax, title=\"Computer Vision-Usage\") \n",
    "\n",
    "ax = plt.subplot(1, 3, 3)\n",
    "CAT, Q_PREFIX  = \"NLP\", \"Q19\"\n",
    "Q_PART_PREFIX = f'{Q_PREFIX}_Part_'; COL_NONE = f'{Q_PART_PREFIX}5'\n",
    "COLS, _, COLS_OTHER, _ = getCols(CAT, Q_PREFIX, COL_NONE, )\n",
    "df[COLS].head()\n",
    "summarise(df, df_new, CAT, COLS, COLS_OTHER, COL_NONE,\n",
    "            f'{Q_PART_PREFIX}1', f'{CAT}-Word\\nembeddings', \"Word embeddings/vectors (GLoVe, fastText, word2vec)\",\n",
    "            f'{Q_PART_PREFIX}4', f'{CAT}-Encoder-\\ndecorder\\nmodels', \"Encoder-decorder models (seq2seq, vanilla transformers)\",\n",
    "            f'{Q_PART_PREFIX}2', f'{CAT}-Transformer\\nlanguage\\nmodels', \"Transformer language models (GPT-3, BERT, XLnet, etc)\", ax=ax, title=\"Natural Language Processing-Usage\") \n",
    "\n",
    "plt.figure(figsize=(15, 6))\n",
    "\n",
    "ax = plt.subplot(1, 1, 1)\n",
    "CAT = \"AML\"; Q_PREFIX = \"Q36_A\"\n",
    "Q_PART_PREFIX = f'{Q_PREFIX}_Part_'; COL_NONE = f'{Q_PART_PREFIX}7'\n",
    "COLS, _, COLS_OTHER, _ = getCols(CAT, Q_PREFIX, COL_NONE, )\n",
    "df[COLS].head()\n",
    "summarise(df, df_new, CAT, COLS, COLS_OTHER, COL_NONE,\n",
    "            f'{Q_PART_PREFIX}3', f'{CAT}-Model selection', \"Automated model selection (e.g. auto-sklearn, xcessiv)\",\n",
    "            f'{Q_PART_PREFIX}1', f'{CAT}-Data augmentation', \"Automated data augmentation (e.g. imgaug, albumentations)\",\n",
    "            f'{Q_PART_PREFIX}5', f'{CAT}-Hyperparameter tuning', \"Automated hyperparameter tuning (e.g. hyperopt, ray.tune, Vizier)\", \n",
    "            ax, title='AutoML-Usage') "
   ]
  },
  {
   "cell_type": "markdown",
   "metadata": {},
   "source": [
    "The trend of usage of the ML algorithms, CV, NLP & AutoML are again same across all the gender-age group categories. A big percentage of the community have not started to use the higher order ML concepts like CV, NLP & AutoML\n",
    "\n",
    "Interestingly in the usage of ML Algorithms, the **Women > 40 years** have a slight upper hand compared to their **<40 years** counterparts. "
   ]
  },
  {
   "cell_type": "markdown",
   "metadata": {},
   "source": [
    "## 5. Managed Platforms & Products - Usage\n",
    "How is the adoption of the community to the Cloud hosted, manager platforms and products? These definitely need higher skills and experience"
   ]
  },
  {
   "cell_type": "markdown",
   "metadata": {},
   "source": [
    "### 5.1 Hardware, Cloud Computing Platform, Cloud Computing Products"
   ]
  },
  {
   "cell_type": "code",
   "execution_count": 32,
   "metadata": {},
   "outputs": [
    {
     "data": {
      "image/png": "[encoded data removed]",
      "text/plain": [
       "<Figure size 1728x432 with 3 Axes>"
      ]
     },
     "metadata": {
      "needs_background": "light"
     },
     "output_type": "display_data"
    }
   ],
   "source": [
    "plt.figure(figsize=(24, 6))\n",
    "\n",
    "ax = plt.subplot(1, 3, 1)\n",
    "COLS_HW, COLS_HW_TOP3, COLS_HW_OTHER, COLS_HW_NONE = getCols('HW',  'Q12', 'Q12_Part_5', )\n",
    "df[COLS_HW].head()\n",
    "summarise(df, df_new, 'HW', COLS_HW, COLS_HW_OTHER, 'Q12_Part_5',\n",
    "            'Q12_Part_1', 'HW-Nvidia\\nGPUs', \"NVIDIA GPUs\",\n",
    "            'Q12_Part_2', 'HW-Google\\nCloud TPUs', \"Google Cloud TPUs\",\n",
    "            'Q12_Part_4', 'HW-AWS\\nInferentia Chips', \"AWS Inferentia Chips\", ax, title=\"Hardware-Usage\")\n",
    "\n",
    "ax = plt.subplot(1, 3, 2)\n",
    "CAT = \"CCPLT\"; COL_NONE = 'Q27_A_Part_11'\n",
    "COLS, _, COLS_OTHER, _ = getCols(CAT,  'Q27_A', COL_NONE, )\n",
    "df[COLS].head()\n",
    "summarise(df, df_new, CAT, COLS, COLS_OTHER, COL_NONE,\n",
    "            'Q27_A_Part_1', 'CCPLT-Amazon\\nWeb Services', \"Amazon Web Services (AWS)\",\n",
    "            'Q27_A_Part_3', 'CCPLT-Google\\nCloud Platform', \"Google Cloud Platform (GCP)\",\n",
    "            'Q27_A_Part_2', 'CCPLT-Microsoft\\nAzure', \"Microsoft Azure\", \n",
    "            ax, title=\"Cloud Computing Platform-Usage\")\n",
    "\n",
    "# TODO: None comes in top 3 so the plot is screwed up   \n",
    "ax = plt.subplot(1, 3, 3)        \n",
    "CAT = \"CCP\"\n",
    "COL_NONE = 'Q29_A_Part_4'\n",
    "COLS, _, COLS_OTHER, _ = getCols(CAT,  'Q29_A', COL_NONE, )\n",
    "df[COLS].head()\n",
    "summarise(df, df_new, CAT, COLS, COLS_OTHER, COL_NONE,\n",
    "            'Q29_A_Part_1', 'CCP-Amazon Elastic\\nCompute Cloud ', \"Amazon Elastic Compute Cloud (EC2)\",\n",
    "            'Q29_A_Part_3', 'CCP-Google Cloud\\nCompute Engine', \"Google Cloud Compute Engine\",\n",
    "            'Q29_A_Part_3', 'CCP-Google Cloud\\nCompute Engine', \"Google Cloud Compute Engine\",\n",
    "            ax, title=\"Cloud Computing Products-Usage\") "
   ]
  },
  {
   "cell_type": "markdown",
   "metadata": {},
   "source": [
    "Almost similar trend across categories in the Hardware & Cloud technologies as well. The number not using any of these technologies is significantly higher than those who are using specific Harward.\n",
    "\n",
    "Here again, in the usage of Cloud Computing platforms & products, the **Women > 40 years** have a slight upper hand compared to their **<40 years** counterparts. "
   ]
  },
  {
   "cell_type": "markdown",
   "metadata": {},
   "source": [
    "### 5.2 Managed Machine Learning Products, Auto ML Tools, Manage Machine Learning Experiments"
   ]
  },
  {
   "cell_type": "code",
   "execution_count": 33,
   "metadata": {},
   "outputs": [
    {
     "data": {
      "image/png": "[encoded data removed]",
      "text/plain": [
       "<Figure size 1728x432 with 3 Axes>"
      ]
     },
     "metadata": {
      "needs_background": "light"
     },
     "output_type": "display_data"
    }
   ],
   "source": [
    "plt.figure(figsize=(24, 6))\n",
    "\n",
    "ax = plt.subplot(1, 3, 1)\n",
    "CAT = \"MMLP\";COL_NONE = 'Q31_A_Part_9'\n",
    "COLS, _, COLS_OTHER, _ = getCols(CAT,  'Q31_A', COL_NONE, )\n",
    "df[COLS].head()\n",
    "summarise(df, df_new, CAT, COLS, COLS_OTHER, COL_NONE,\n",
    "            'Q31_A_Part_1', 'MMLP-AWS', \"Amazon SageMaker\",\n",
    "            'Q31_A_Part_3', 'MMLP-GCP', \"Azure Machine Learning Studio\",\n",
    "            'Q31_A_Part_2', 'MMLPAzure', \"Databricks\", ax, \"Managed Machine Learning Products-Usage\") \n",
    "\n",
    "ax = plt.subplot(1, 3, 2)\n",
    "CAT = \"ATML\"; COL_NONE = 'Q37_A_Part_7'\n",
    "COLS, _, COLS_OTHER, _ = getCols(CAT,  'Q37_A', COL_NONE, )\n",
    "df[COLS].head()\n",
    "summarise(df, df_new, CAT, COLS, COLS_OTHER, COL_NONE,\n",
    "            'Q37_A_Part_1', CAT+ '-' + 'GC', \"Google Cloud AutoML\",\n",
    "            'Q37_A_Part_3', CAT+ '-' + 'Azure', \"Azure Automated Machine Learning\",\n",
    "            'Q37_A_Part_2', CAT+ '-' + 'Amazon', \"Amazon Sagemaker Autopilot\", ax, \"Auto ML Tools-Usage\") \n",
    "\n",
    "ax = plt.subplot(1, 3, 3)\n",
    "CAT = \"MLEXP\"; COL_NONE = 'Q38_A_Part_11'\n",
    "COLS, _, COLS_OTHER, _ = getCols(CAT,  'Q37_A', COL_NONE, )\n",
    "df[COLS].head()\n",
    "summarise(df, df_new, CAT, COLS, COLS_OTHER, COL_NONE,\n",
    "            'Q38_A_Part_7', CAT+ '-' + 'Polyaxon', \"Polyaxon\",\n",
    "            'Q38_A_Part_1', CAT+ '-' + 'Neptune', \"Neptune.ai\",\n",
    "            'Q38_A_Part_6', CAT+ '-' + 'Guild', \"Guild.ai\", ax, \"Manage Machine Learning Experiments-Usage\" ) "
   ]
  },
  {
   "cell_type": "markdown",
   "metadata": {},
   "source": [
    "The adoption of these higher end platforms is very very less!"
   ]
  },
  {
   "cell_type": "markdown",
   "metadata": {},
   "source": [
    "### 5.3 Data Storage Products, Big Data Product, Business Intelligence Tools"
   ]
  },
  {
   "cell_type": "code",
   "execution_count": 34,
   "metadata": {},
   "outputs": [
    {
     "data": {
      "image/png": "[encoded data removed]",
      "text/plain": [
       "<Figure size 1728x432 with 3 Axes>"
      ]
     },
     "metadata": {
      "needs_background": "light"
     },
     "output_type": "display_data"
    }
   ],
   "source": [
    "plt.figure(figsize=(24, 6))\n",
    "\n",
    "ax = plt.subplot(1, 3, 1)\n",
    "CAT = \"DSP\"; Q_PREFIX = \"Q30_A\"\n",
    "Q_PART_PREFIX = f'{Q_PREFIX}_Part_'; COL_NONE = f'{Q_PART_PREFIX}7'\n",
    "COLS, _, COLS_OTHER, _ = getCols(CAT, Q_PREFIX, COL_NONE, )\n",
    "df[COLS].head()\n",
    "summarise(df, df_new, CAT, COLS, COLS_OTHER, COL_NONE,\n",
    "            f'{Q_PART_PREFIX}3', CAT+ '-' + 'AWSS3', \"Amazon Simple Storage Service (S3)\",\n",
    "            f'{Q_PART_PREFIX}5', CAT+ '-' + 'GCS', \"Google Cloud Storage (GCS)\",\n",
    "            f'{Q_PART_PREFIX}1', CAT+ '-' + 'AZURE', \"Microsoft Azure Data Lake Storage\", ax, \"Data Storage Products-Usage\") \n",
    "\n",
    "ax = plt.subplot(1, 3, 2)\n",
    "CAT = \"BDP\"; Q_PREFIX = \"Q32_A\"\n",
    "Q_PART_PREFIX = f'{Q_PREFIX}_Part_'; COL_NONE = f'{Q_PART_PREFIX}20'\n",
    "COLS, _, COLS_OTHER, _ = getCols(CAT, Q_PREFIX, COL_NONE, )\n",
    "df[COLS].head()\n",
    "summarise(df, df_new, CAT, COLS, COLS_OTHER, COL_NONE,\n",
    "            f'{Q_PART_PREFIX}1', CAT+ '-' + 'MySQL', \"MySQL\",\n",
    "            f'{Q_PART_PREFIX}2', CAT+ '-' + 'PostgreSQL', \"PostgreSQL\",\n",
    "            f'{Q_PART_PREFIX}8', CAT+ '-' + 'MSSQL', \"Microsoft SQL Server\", ax, \"Big Data Products-Usage\") \n",
    "\n",
    "ax = plt.subplot(1, 3, 3)\n",
    "CAT = \"BIT\"; Q_PREFIX = \"Q34_A\"\n",
    "Q_PART_PREFIX = f'{Q_PREFIX}_Part_'; COL_NONE = f'{Q_PART_PREFIX}16'\n",
    "COLS, _, COLS_OTHER, _ = getCols(CAT, Q_PREFIX, COL_NONE, )\n",
    "df[COLS].head()\n",
    "summarise(df, df_new, CAT, COLS, COLS_OTHER, COL_NONE,\n",
    "            f'{Q_PART_PREFIX}5', CAT+ '-' + 'Tableau', \"Tableau\",\n",
    "            f'{Q_PART_PREFIX}2', CAT+ '-' + 'PowerBI', \"Microsoft Power BI\",\n",
    "            f'{Q_PART_PREFIX}3', CAT+ '-' + 'Google\\nDataStudio', \"Google Data Studio\", ax, \"Business Intelligence Tools-Usage\") "
   ]
  },
  {
   "cell_type": "markdown",
   "metadata": {},
   "source": [
    "Almost similar trend across categories in the Data & BI Tools. Here again, the number of members who are not using ay of the technologies is much higher than those who are using specific Products/Tools.\n",
    "\n",
    "In the category of products, the **Women > 40 years** have a significant upper hand compared to their **<40 years** counterparts and in some cases **overall** numbers also."
   ]
  },
  {
   "cell_type": "markdown",
   "metadata": {},
   "source": [
    "## 6. Technology Usage - Overall Trends\n",
    "\n",
    "Let's look at the typical and max usages of the tools, products and platforms across the **overall**, **women<40 years** and **women>40 years** categories"
   ]
  },
  {
   "cell_type": "code",
   "execution_count": 35,
   "metadata": {},
   "outputs": [
    {
     "data": {
      "text/plain": [
       "<AxesSubplot:>"
      ]
     },
     "execution_count": 35,
     "metadata": {},
     "output_type": "execute_result"
    },
    {
     "data": {
      "image/png": "[encoded data removed]",
      "text/plain": [
       "<Figure size 720x576 with 2 Axes>"
      ]
     },
     "metadata": {
      "needs_background": "light"
     },
     "output_type": "display_data"
    }
   ],
   "source": [
    "fig=plt.figure(figsize=(10, 8));fig.suptitle('Technology Usage - Overall Trends', fontsize=16)\n",
    "sns.heatmap(df_RESULT, annot=True, fmt=\"g\", cmap=\"YlGnBu\")"
   ]
  },
  {
   "cell_type": "markdown",
   "metadata": {},
   "source": [
    "The typical usages for Woman>40 follow a similar trend as the overall and the Woman < 40 categories. "
   ]
  },
  {
   "cell_type": "markdown",
   "metadata": {},
   "source": [
    "## End Notes"
   ]
  },
  {
   "cell_type": "markdown",
   "metadata": {},
   "source": [
    "**Women > 40 years** form a minute 3% sub-group of practioners majoirty of them coming from the **United States of America**\n",
    "\n",
    "Wrt **Education and Profession**\n",
    "- ⭐️⭐️⭐️ They have mostly **Masters degree** followed by Doctors, Bachelors, None and then Professional doctorate.\n",
    "- Higher percentage of them are in the Academics/Education followed by Computers/Technology. \n",
    "- ⭐️⭐️⭐️ Most of them are in the Data Scientist and Research Scientist roles\n",
    "- ⭐️⭐️⭐️ Their salaries are in general higher than their counterparts (owing to their experience)\n",
    "\n",
    "Let's look at the **Usage of Technology** of this **Women >40 years** category. The usage of technology is a good indicator of Proficiency.\n",
    "- **Development Toolset/Environment**: Their overall trend of usage of Programming Languages, **IDE** and **Hosted Notebook** usage is similar for the Woman > 40 is similar to **overall** and **Woman <40** categories. \n",
    "    - The number of **women > 40** users not using any programming language,IDE and Hosted Notebook is significantly higher than the overall and women<40 category. \n",
    "    - ⭐️⭐️⭐️ More percentage of this community has been using programming languages and ML for more years compared to that of their counterparts.\n",
    "    - In all the categories of gender and age groups, \n",
    "        - matplotlib, seaborn, plotly are most used visualization libraries \n",
    "        - scikit learn, tensorflow and keras are most used for general machine learning frameworks\n",
    "- **Machine Learning Concepts, Practices**: The trend of usage of the ML algorithms, CV, NLP & AutoML are again same across all the gender-age group categories. A big percentage of the community have not started to use the higher order ML concepts like CV, NLP & AutoML. \n",
    "    - ⭐️⭐️⭐️ Interestingly in the usage of ML Algorithms, the **Women > 40 years** have a slight upper hand compared to their **<40 years** counterparts. \n",
    "- **Managed Platforms & Products**: Almost similar trend across categories in the Hardware & Cloud technologies, Data & BI Tools. The adoption of these higher end platforms is very very less! \n",
    "    - ⭐️⭐️⭐️ Here again, the **Women > 40 years** have a slight upper hand compared to their **<40 years** counterparts and in some cases **overall** numbers also.\n",
    "\n",
    "_TODO: If time permits I will continue with the analysis of the \"the topics they hope to become more familiar with\". This set will indicate the **interest** of the group in the ML & Data science field._  "
   ]
  }
 ],
 "metadata": {
  "interpreter": {
   "hash": "8550a287e8c07f108da4527f3e46894028b32e72a651cacc8b64d5a05a68c294"
  },
  "kernelspec": {
   "display_name": "Python 3.7.9 64-bit ('venv': venv)",
   "name": "python3"
  },
  "language_info": {
   "codemirror_mode": {
    "name": "ipython",
    "version": 3
   },
   "file_extension": ".py",
   "mimetype": "text/x-python",
   "name": "python",
   "nbconvert_exporter": "python",
   "pygments_lexer": "ipython3",
   "version": "3.9.1"
  },
  "orig_nbformat": 4
 },
 "nbformat": 4,
 "nbformat_minor": 2
}
