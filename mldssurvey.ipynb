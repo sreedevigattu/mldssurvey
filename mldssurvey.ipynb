{
 "cells": [
  {
   "cell_type": "code",
   "execution_count": 1495,
   "metadata": {},
   "outputs": [],
   "source": [
    "import pandas as pd\n",
    "import missingno as msno\n",
    "\n",
    "import matplotlib.pyplot as plt"
   ]
  },
  {
   "cell_type": "markdown",
   "metadata": {},
   "source": [
    "## 2021 Kaggle Machine Learning & Data Science Survey"
   ]
  },
  {
   "cell_type": "markdown",
   "metadata": {},
   "source": [
    "### Dataset:  \n",
    "Industry-wide survey of the state of data science and machine learning with **25,973** responses!\n",
    "\n",
    "### Objective:\n",
    "**Tell a data story** about a subset of the data science community represented in this survey, through a combination of both **narrative text** and **data exploration**. A “story” could be defined any number of ways, and that’s deliberate. The challenge is to deeply explore (through data) the impact, priorities, or concerns of a specific group of data science and machine learning practitioners. That group can be defined in the macro (for example: anyone who does most of their coding in Python) or the micro (for example: female data science students studying machine learning in masters programs). This is an opportunity to be creative and tell the story of a community you identify with or are passionate about!\n",
    "- **Composition** - Is there a clear narrative thread to the story that’s articulated and supported by data? The subject should be well defined, well researched, and well supported through the use of data and visualizations.\n",
    "- **Originality** - Does the reader learn something new through this submission? Or is the reader challenged to think about something in a new way? A great entry will be informative, thought provoking, and fresh all at the same time.\n",
    "- **Documentation** - Are your code, and notebook, and additional data sources well documented so a reader can understand what you did? Are your sources clearly cited? A high quality analysis should be concise and clear at each step so the rationale is easy to follow and the process is reproducible\n",
    "\n",
    "### My Take\n",
    "Women > 40 years"
   ]
  },
  {
   "cell_type": "markdown",
   "metadata": {},
   "source": [
    "### Functions"
   ]
  },
  {
   "cell_type": "code",
   "execution_count": 1496,
   "metadata": {},
   "outputs": [],
   "source": [
    "df_result = pd.DataFrame()"
   ]
  },
  {
   "cell_type": "code",
   "execution_count": 1497,
   "metadata": {},
   "outputs": [],
   "source": [
    "def percent(val, total):\n",
    "    return round(100 * val/total, 2)\n",
    "\n",
    "def annotate(ax, title='', strformat='', divideby=1):\n",
    "    # Annotate\n",
    "    for p in ax.patches:\n",
    "        # format(, '.1f')\n",
    "        value = p.get_height()/divideby\n",
    "        ax.annotate(f\"{value:.1f}{strformat}\", \n",
    "                    (p.get_x() + p.get_width() / 2., p.get_height()), \n",
    "                    ha = 'center', va = 'center', \n",
    "                    xytext = (0, 9), \n",
    "                    textcoords = 'offset points')\n",
    "    ax.set_title(title)"
   ]
  },
  {
   "cell_type": "code",
   "execution_count": 1498,
   "metadata": {},
   "outputs": [],
   "source": [
    "def convert2percent(df, col, total_col):\n",
    "    df[col] = df[col]/ df[total_col]\n",
    "    return df[col].apply(lambda x: round(x*100,2))\n",
    "\n",
    "def createNewCol(df_old, oldCol, df_new, newCol, value):\n",
    "    df_new[newCol] = df_old[oldCol]\n",
    "    # strip the value of the leading and trailing empty spaces\n",
    "    df_new.loc[~df_new[newCol].isnull(), newCol] = df_new[~df_new[newCol].isnull()][newCol].apply(lambda x: x.strip())\n",
    "    return  df_new[newCol].apply(lambda x: 1 if x== value else 0)\n",
    "\n",
    "def compare(df, df_overall, df_specific, cat_other, col_other):\n",
    "    # Create a df with the overall IDE users as percentage\n",
    "    df_all = pd.DataFrame()\n",
    "    df_all.loc['Count','Overall']=df.shape[0]\n",
    "    df_all = pd.concat([df_all, df_specific])\n",
    "    df_all.loc[cat_other,'Overall']=df_all.loc[cat_other,'Overall']/len(col_other)\n",
    "    df_all['Overall'] = df_all['Overall'].apply(lambda x: round((x/df.shape[0])*100,2))\n",
    "    #df_pl_all\n",
    "\n",
    "    # Create different df for woman < 40 and woman > 40\n",
    "    df_woman_lt40 = df_overall.loc[('<40', 'Woman'),:].to_frame()#; print(\"df_pl_woman_lt40\\n\", df_pl_woman_lt40);print()\n",
    "    df_woman_gt40 = df_overall.loc[('>40', 'Woman'),:].to_frame()#; print(\"df_pl_woman_gt40\\n\", df_pl_woman_gt40)\n",
    "\n",
    "    # Concatenate the overall and the woman < 40 and woman > 40 data \n",
    "    df_temp = pd.concat([df_all, df_woman_lt40, df_woman_gt40], axis=1, join='inner')\n",
    "    print(df_temp)\n",
    "    ax = df_temp.plot.bar( ylim=(0,100),figsize=(15, 6));annotate(ax, \"Overall\")\n",
    "    return df_temp\n",
    "\n",
    "# Create a df with users wrt Age-group and Gender \n",
    "def createSpecificAndSummary(df,topcol1, topcol2, topcol3, othercol, nonecol, othercols):\n",
    "    df_temp = df.agg({topcol1:np.sum,topcol2:np.sum,topcol3:np.sum, othercol:np.sum, nonecol:np.sum}).to_frame()\n",
    "    df_temp.rename(columns={0:\"Overall\"}, inplace=True)\n",
    "    print(df_temp)\n",
    "\n",
    "    df_summary = df.groupby(by=['AgeGroup','Gender']).agg({'AgeGroup':'count',topcol1:np.sum,topcol2:np.sum,topcol3:np.sum, othercol:np.sum, nonecol:np.sum})\n",
    "    df_summary.rename(columns={\"AgeGroup\":\"Count\"}, inplace=True)\n",
    "\n",
    "    df_summary[topcol1] = convert2percent(df_summary,topcol1,\"Count\")\n",
    "    df_summary[topcol2] = convert2percent(df_summary,topcol2,\"Count\")\n",
    "    df_summary[topcol3] = convert2percent(df_summary,topcol3,\"Count\")\n",
    "\n",
    "    df_summary[othercol]  = df_summary[othercol]/ df_summary[\"Count\"]\n",
    "    df_summary[othercol]  = df_summary[othercol].apply(lambda x: round(x*100/len(othercols),2))\n",
    "\n",
    "    df_summary[nonecol]   = convert2percent(df_summary,nonecol,\"Count\")\n",
    "    df_summary['Count']   = df_summary['Count'].apply(lambda x: round((x/df.shape[0])*100,2))\n",
    "    return df_temp, df_summary\n",
    "\n",
    "def summarise(df, df_new, cat, cols, cols_other, \n",
    "                        top1col1, top1col2, top1val, \n",
    "                        top2col1, top2col2, top2val, \n",
    "                        top3col1, top3col2, top3val, nonecol1  ):\n",
    "\n",
    "    COL_COUNT = f'{cat}-Count'\n",
    "    COL_OTHER = f'{cat}-Other'\n",
    "    COL_NONE  = f'{cat}-None'\n",
    "\n",
    "    df_new[COL_COUNT]  = df[cols].count(axis=1)\n",
    "    df_new[top1col2]   = createNewCol(df, top1col1 , df_new, top1col2, top1val)\n",
    "    df_new[top2col2]   = createNewCol(df, top2col1 , df_new, top2col2, top2val)\n",
    "    df_new[top3col2]   = createNewCol(df, top3col1 , df_new, top3col2, top3val)\n",
    "\n",
    "    df_new[COL_NONE]   = createNewCol(df, nonecol1, df_new, COL_NONE, \"None\")\n",
    "    df_new[COL_OTHER]  = df[cols_other].count(axis=1) \n",
    "    df_new[COL_COUNT]  = df[cols].count(axis=1) # None is not considered\n",
    "    print(df_new.head())\n",
    "\n",
    "    df_result.loc[cat,'Count-Median'] = df_new[COL_COUNT].median()\n",
    "    df_result.loc[cat,'W<40-Median'] =df_new[(df_new['Gender']=='Woman')&(df_new['AgeGroup']=='<40')][COL_COUNT].median()\n",
    "    df_result.loc[cat,'W>40-Median'] =df_new[(df_new['Gender']=='Woman')&(df_new['AgeGroup']=='>40')][COL_COUNT].median()\n",
    "\n",
    "    df_result.loc[cat,'Count-Max'] = df_new[COL_COUNT].max()\n",
    "    df_result.loc[cat,'W<40-Max'] =df_new[(df_new['Gender']=='Woman')&(df_new['AgeGroup']=='<40')][COL_COUNT].max()\n",
    "    df_result.loc[cat,'W>40-Max'] =df_new[(df_new['Gender']=='Woman')&(df_new['AgeGroup']=='>40')][COL_COUNT].max()\n",
    "\n",
    "    # Create a df with the IDE and total number of IDE users\n",
    "    df_temp, df_summary = createSpecificAndSummary(df_new, top1col2, top2col2, top3col2, COL_OTHER, COL_NONE, cols_other)\n",
    "\n",
    "    df_ = compare(df, df_summary, df_temp, COL_OTHER, cols_other)\n",
    "    plotBox(df_new, COL_COUNT)  \n",
    "    return df_ \n",
    "\n",
    "def plotBox(df, col):\n",
    "    df_man = df[df['Gender']=='Man'][['AgeGroup', col]];print(df_man.head())\n",
    "    df_woman = df[df['Gender']=='Woman'][['AgeGroup', col]];print(df_woman.head())\n",
    "    plt.figure(figsize=(18, 5), dpi=80)\n",
    "\n",
    "    ax = plt.subplot(1, 4, 1); df_woman[df_woman['AgeGroup']=='<40'].hist(ax=ax); plt.title('Woman < 40')\n",
    "    ax = plt.subplot(1, 4, 2); df_woman[df_woman['AgeGroup']=='>40'].hist(ax=ax); plt.title('Woman > 40') \n",
    "    ax = plt.subplot(1, 4, 3); df_man.boxplot(by='AgeGroup', ax=ax); ax.set_title('Man')        \n",
    "    ax = plt.subplot(1, 4, 4); df_woman.boxplot(by='AgeGroup',ax=ax); ax.set_title('Woman')    "
   ]
  },
  {
   "cell_type": "markdown",
   "metadata": {},
   "source": [
    "### Read dataset"
   ]
  },
  {
   "cell_type": "code",
   "execution_count": 1499,
   "metadata": {},
   "outputs": [
    {
     "name": "stderr",
     "output_type": "stream",
     "text": [
      "/Users/sreedevigattu/sree/projects/mlds/venv/lib/python3.9/site-packages/IPython/core/interactiveshell.py:3444: DtypeWarning:\n",
      "\n",
      "Columns (195,201) have mixed types.Specify dtype option on import or set low_memory=False.\n",
      "\n"
     ]
    }
   ],
   "source": [
    "df = pd.read_csv('data/kaggle_survey_2021_responses.csv', header=[0,1])"
   ]
  },
  {
   "cell_type": "code",
   "execution_count": 1500,
   "metadata": {},
   "outputs": [
    {
     "name": "stdout",
     "output_type": "stream",
     "text": [
      "<class 'pandas.core.frame.DataFrame'>\n",
      "RangeIndex: 25973 entries, 0 to 25972\n",
      "Columns: 369 entries, ('Time from Start to Finish (seconds)', 'Duration (in seconds)') to ('Q38_B_OTHER', 'In the next 2 years, do you hope to become more familiar with any of these tools for managing ML experiments? (Select all that apply) - Selected Choice - Other')\n",
      "dtypes: float64(8), int64(1), object(360)\n",
      "memory usage: 73.1+ MB\n"
     ]
    }
   ],
   "source": [
    "df.info()"
   ]
  },
  {
   "cell_type": "code",
   "execution_count": 1501,
   "metadata": {},
   "outputs": [
    {
     "name": "stdout",
     "output_type": "stream",
     "text": [
      "[('Time from Start to Finish (seconds)', 'Duration (in seconds)'), ('Q1', 'What is your age (# years)?'), ('Q2', 'What is your gender? - Selected Choice'), ('Q3', 'In which country do you currently reside?'), ('Q4', 'What is the highest level of formal education that you have attained or plan to attain within the next 2 years?'), ('Q5', 'Select the title most similar to your current role (or most recent title if retired): - Selected Choice'), ('Q6', 'For how many years have you been writing code and/or programming?'), ('Q7_Part_1', 'What programming languages do you use on a regular basis? (Select all that apply) - Selected Choice - Python'), ('Q7_Part_2', 'What programming languages do you use on a regular basis? (Select all that apply) - Selected Choice - R'), ('Q7_Part_3', 'What programming languages do you use on a regular basis? (Select all that apply) - Selected Choice - SQL'), ('Q7_Part_4', 'What programming languages do you use on a regular basis? (Select all that apply) - Selected Choice - C'), ('Q7_Part_5', 'What programming languages do you use on a regular basis? (Select all that apply) - Selected Choice - C++'), ('Q7_Part_6', 'What programming languages do you use on a regular basis? (Select all that apply) - Selected Choice - Java'), ('Q7_Part_7', 'What programming languages do you use on a regular basis? (Select all that apply) - Selected Choice - Javascript'), ('Q7_Part_8', 'What programming languages do you use on a regular basis? (Select all that apply) - Selected Choice - Julia'), ('Q7_Part_9', 'What programming languages do you use on a regular basis? (Select all that apply) - Selected Choice - Swift'), ('Q7_Part_10', 'What programming languages do you use on a regular basis? (Select all that apply) - Selected Choice - Bash'), ('Q7_Part_11', 'What programming languages do you use on a regular basis? (Select all that apply) - Selected Choice - MATLAB'), ('Q7_Part_12', 'What programming languages do you use on a regular basis? (Select all that apply) - Selected Choice - None'), ('Q7_OTHER', 'What programming languages do you use on a regular basis? (Select all that apply) - Selected Choice - Other'), ('Q8', 'What programming language would you recommend an aspiring data scientist to learn first? - Selected Choice'), ('Q9_Part_1', \"Which of the following integrated development environments (IDE's) do you use on a regular basis?  (Select all that apply) - Selected Choice - Jupyter (JupyterLab, Jupyter Notebooks, etc) \"), ('Q9_Part_2', \"Which of the following integrated development environments (IDE's) do you use on a regular basis?  (Select all that apply) - Selected Choice -  RStudio \"), ('Q9_Part_3', \"Which of the following integrated development environments (IDE's) do you use on a regular basis?  (Select all that apply) - Selected Choice -  Visual Studio \"), ('Q9_Part_4', \"Which of the following integrated development environments (IDE's) do you use on a regular basis?  (Select all that apply) - Selected Choice -  Visual Studio Code (VSCode) \"), ('Q9_Part_5', \"Which of the following integrated development environments (IDE's) do you use on a regular basis?  (Select all that apply) - Selected Choice -  PyCharm \"), ('Q9_Part_6', \"Which of the following integrated development environments (IDE's) do you use on a regular basis?  (Select all that apply) - Selected Choice -   Spyder  \"), ('Q9_Part_7', \"Which of the following integrated development environments (IDE's) do you use on a regular basis?  (Select all that apply) - Selected Choice -   Notepad++  \"), ('Q9_Part_8', \"Which of the following integrated development environments (IDE's) do you use on a regular basis?  (Select all that apply) - Selected Choice -   Sublime Text  \"), ('Q9_Part_9', \"Which of the following integrated development environments (IDE's) do you use on a regular basis?  (Select all that apply) - Selected Choice -   Vim / Emacs  \"), ('Q9_Part_10', \"Which of the following integrated development environments (IDE's) do you use on a regular basis?  (Select all that apply) - Selected Choice -  MATLAB \"), ('Q9_Part_11', \"Which of the following integrated development environments (IDE's) do you use on a regular basis?  (Select all that apply) - Selected Choice -  Jupyter Notebook\"), ('Q9_Part_12', \"Which of the following integrated development environments (IDE's) do you use on a regular basis?  (Select all that apply) - Selected Choice - None\"), ('Q9_OTHER', \"Which of the following integrated development environments (IDE's) do you use on a regular basis?  (Select all that apply) - Selected Choice - Other\"), ('Q10_Part_1', 'Which of the following hosted notebook products do you use on a regular basis?  (Select all that apply) - Selected Choice -  Kaggle Notebooks'), ('Q10_Part_2', 'Which of the following hosted notebook products do you use on a regular basis?  (Select all that apply) - Selected Choice - Colab Notebooks'), ('Q10_Part_3', 'Which of the following hosted notebook products do you use on a regular basis?  (Select all that apply) - Selected Choice - Azure Notebooks'), ('Q10_Part_4', 'Which of the following hosted notebook products do you use on a regular basis?  (Select all that apply) - Selected Choice -  Paperspace / Gradient '), ('Q10_Part_5', 'Which of the following hosted notebook products do you use on a regular basis?  (Select all that apply) - Selected Choice -  Binder / JupyterHub '), ('Q10_Part_6', 'Which of the following hosted notebook products do you use on a regular basis?  (Select all that apply) - Selected Choice -  Code Ocean '), ('Q10_Part_7', 'Which of the following hosted notebook products do you use on a regular basis?  (Select all that apply) - Selected Choice -  IBM Watson Studio '), ('Q10_Part_8', 'Which of the following hosted notebook products do you use on a regular basis?  (Select all that apply) - Selected Choice -  Amazon Sagemaker Studio Notebooks '), ('Q10_Part_9', 'Which of the following hosted notebook products do you use on a regular basis?  (Select all that apply) - Selected Choice -  Amazon EMR Notebooks '), ('Q10_Part_10', 'Which of the following hosted notebook products do you use on a regular basis?  (Select all that apply) - Selected Choice - Google Cloud Notebooks (AI Platform / Vertex AI) '), ('Q10_Part_11', 'Which of the following hosted notebook products do you use on a regular basis?  (Select all that apply) - Selected Choice - Google Cloud Datalab'), ('Q10_Part_12', 'Which of the following hosted notebook products do you use on a regular basis?  (Select all that apply) - Selected Choice -  Databricks Collaborative Notebooks '), ('Q10_Part_13', 'Which of the following hosted notebook products do you use on a regular basis?  (Select all that apply) - Selected Choice -  Zeppelin / Zepl Notebooks '), ('Q10_Part_14', 'Which of the following hosted notebook products do you use on a regular basis?  (Select all that apply) - Selected Choice -  Deepnote Notebooks '), ('Q10_Part_15', 'Which of the following hosted notebook products do you use on a regular basis?  (Select all that apply) - Selected Choice -  Observable Notebooks '), ('Q10_Part_16', 'Which of the following hosted notebook products do you use on a regular basis?  (Select all that apply) - Selected Choice - None'), ('Q10_OTHER', 'Which of the following hosted notebook products do you use on a regular basis?  (Select all that apply) - Selected Choice - Other'), ('Q11', 'What type of computing platform do you use most often for your data science projects? - Selected Choice'), ('Q12_Part_1', 'Which types of specialized hardware do you use on a regular basis?  (Select all that apply) - Selected Choice -  NVIDIA GPUs '), ('Q12_Part_2', 'Which types of specialized hardware do you use on a regular basis?  (Select all that apply) - Selected Choice -  Google Cloud TPUs '), ('Q12_Part_3', 'Which types of specialized hardware do you use on a regular basis?  (Select all that apply) - Selected Choice -  AWS Trainium Chips '), ('Q12_Part_4', 'Which types of specialized hardware do you use on a regular basis?  (Select all that apply) - Selected Choice -  AWS Inferentia Chips '), ('Q12_Part_5', 'Which types of specialized hardware do you use on a regular basis?  (Select all that apply) - Selected Choice - None'), ('Q12_OTHER', 'Which types of specialized hardware do you use on a regular basis?  (Select all that apply) - Selected Choice - Other'), ('Q13', 'Approximately how many times have you used a TPU (tensor processing unit)?'), ('Q14_Part_1', 'What data visualization libraries or tools do you use on a regular basis?  (Select all that apply) - Selected Choice -  Matplotlib '), ('Q14_Part_2', 'What data visualization libraries or tools do you use on a regular basis?  (Select all that apply) - Selected Choice -  Seaborn '), ('Q14_Part_3', 'What data visualization libraries or tools do you use on a regular basis?  (Select all that apply) - Selected Choice -  Plotly / Plotly Express '), ('Q14_Part_4', 'What data visualization libraries or tools do you use on a regular basis?  (Select all that apply) - Selected Choice -  Ggplot / ggplot2 '), ('Q14_Part_5', 'What data visualization libraries or tools do you use on a regular basis?  (Select all that apply) - Selected Choice -  Shiny '), ('Q14_Part_6', 'What data visualization libraries or tools do you use on a regular basis?  (Select all that apply) - Selected Choice -  D3 js '), ('Q14_Part_7', 'What data visualization libraries or tools do you use on a regular basis?  (Select all that apply) - Selected Choice -  Altair '), ('Q14_Part_8', 'What data visualization libraries or tools do you use on a regular basis?  (Select all that apply) - Selected Choice -  Bokeh '), ('Q14_Part_9', 'What data visualization libraries or tools do you use on a regular basis?  (Select all that apply) - Selected Choice -  Geoplotlib '), ('Q14_Part_10', 'What data visualization libraries or tools do you use on a regular basis?  (Select all that apply) - Selected Choice -  Leaflet / Folium '), ('Q14_Part_11', 'What data visualization libraries or tools do you use on a regular basis?  (Select all that apply) - Selected Choice - None'), ('Q14_OTHER', 'What data visualization libraries or tools do you use on a regular basis?  (Select all that apply) - Selected Choice - Other'), ('Q15', 'For how many years have you used machine learning methods?'), ('Q16_Part_1', 'Which of the following machine learning frameworks do you use on a regular basis? (Select all that apply) - Selected Choice -   Scikit-learn '), ('Q16_Part_2', 'Which of the following machine learning frameworks do you use on a regular basis? (Select all that apply) - Selected Choice -   TensorFlow '), ('Q16_Part_3', 'Which of the following machine learning frameworks do you use on a regular basis? (Select all that apply) - Selected Choice -  Keras '), ('Q16_Part_4', 'Which of the following machine learning frameworks do you use on a regular basis? (Select all that apply) - Selected Choice -  PyTorch '), ('Q16_Part_5', 'Which of the following machine learning frameworks do you use on a regular basis? (Select all that apply) - Selected Choice -  Fast.ai '), ('Q16_Part_6', 'Which of the following machine learning frameworks do you use on a regular basis? (Select all that apply) - Selected Choice -  MXNet '), ('Q16_Part_7', 'Which of the following machine learning frameworks do you use on a regular basis? (Select all that apply) - Selected Choice -  Xgboost '), ('Q16_Part_8', 'Which of the following machine learning frameworks do you use on a regular basis? (Select all that apply) - Selected Choice -  LightGBM '), ('Q16_Part_9', 'Which of the following machine learning frameworks do you use on a regular basis? (Select all that apply) - Selected Choice -  CatBoost '), ('Q16_Part_10', 'Which of the following machine learning frameworks do you use on a regular basis? (Select all that apply) - Selected Choice -  Prophet '), ('Q16_Part_11', 'Which of the following machine learning frameworks do you use on a regular basis? (Select all that apply) - Selected Choice -  H2O 3 '), ('Q16_Part_12', 'Which of the following machine learning frameworks do you use on a regular basis? (Select all that apply) - Selected Choice -  Caret '), ('Q16_Part_13', 'Which of the following machine learning frameworks do you use on a regular basis? (Select all that apply) - Selected Choice -  Tidymodels '), ('Q16_Part_14', 'Which of the following machine learning frameworks do you use on a regular basis? (Select all that apply) - Selected Choice -  JAX '), ('Q16_Part_15', 'Which of the following machine learning frameworks do you use on a regular basis? (Select all that apply) - Selected Choice -  PyTorch Lightning '), ('Q16_Part_16', 'Which of the following machine learning frameworks do you use on a regular basis? (Select all that apply) - Selected Choice -  Huggingface '), ('Q16_Part_17', 'Which of the following machine learning frameworks do you use on a regular basis? (Select all that apply) - Selected Choice - None'), ('Q16_OTHER', 'Which of the following machine learning frameworks do you use on a regular basis? (Select all that apply) - Selected Choice - Other'), ('Q17_Part_1', 'Which of the following ML algorithms do you use on a regular basis? (Select all that apply): - Selected Choice - Linear or Logistic Regression'), ('Q17_Part_2', 'Which of the following ML algorithms do you use on a regular basis? (Select all that apply): - Selected Choice - Decision Trees or Random Forests'), ('Q17_Part_3', 'Which of the following ML algorithms do you use on a regular basis? (Select all that apply): - Selected Choice - Gradient Boosting Machines (xgboost, lightgbm, etc)'), ('Q17_Part_4', 'Which of the following ML algorithms do you use on a regular basis? (Select all that apply): - Selected Choice - Bayesian Approaches'), ('Q17_Part_5', 'Which of the following ML algorithms do you use on a regular basis? (Select all that apply): - Selected Choice - Evolutionary Approaches'), ('Q17_Part_6', 'Which of the following ML algorithms do you use on a regular basis? (Select all that apply): - Selected Choice - Dense Neural Networks (MLPs, etc)'), ('Q17_Part_7', 'Which of the following ML algorithms do you use on a regular basis? (Select all that apply): - Selected Choice - Convolutional Neural Networks'), ('Q17_Part_8', 'Which of the following ML algorithms do you use on a regular basis? (Select all that apply): - Selected Choice - Generative Adversarial Networks'), ('Q17_Part_9', 'Which of the following ML algorithms do you use on a regular basis? (Select all that apply): - Selected Choice - Recurrent Neural Networks'), ('Q17_Part_10', 'Which of the following ML algorithms do you use on a regular basis? (Select all that apply): - Selected Choice - Transformer Networks (BERT, gpt-3, etc)'), ('Q17_Part_11', 'Which of the following ML algorithms do you use on a regular basis? (Select all that apply): - Selected Choice - None'), ('Q17_OTHER', 'Which of the following ML algorithms do you use on a regular basis? (Select all that apply): - Selected Choice - Other'), ('Q18_Part_1', 'Which categories of computer vision methods do you use on a regular basis?  (Select all that apply) - Selected Choice - General purpose image/video tools (PIL, cv2, skimage, etc)'), ('Q18_Part_2', 'Which categories of computer vision methods do you use on a regular basis?  (Select all that apply) - Selected Choice - Image segmentation methods (U-Net, Mask R-CNN, etc)'), ('Q18_Part_3', 'Which categories of computer vision methods do you use on a regular basis?  (Select all that apply) - Selected Choice - Object detection methods (YOLOv3, RetinaNet, etc)'), ('Q18_Part_4', 'Which categories of computer vision methods do you use on a regular basis?  (Select all that apply) - Selected Choice - Image classification and other general purpose networks (VGG, Inception, ResNet, ResNeXt, NASNet, EfficientNet, etc)'), ('Q18_Part_5', 'Which categories of computer vision methods do you use on a regular basis?  (Select all that apply) - Selected Choice - Generative Networks (GAN, VAE, etc)'), ('Q18_Part_6', 'Which categories of computer vision methods do you use on a regular basis?  (Select all that apply) - Selected Choice - None'), ('Q18_OTHER', 'Which categories of computer vision methods do you use on a regular basis?  (Select all that apply) - Selected Choice - Other'), ('Q19_Part_1', 'Which of the following natural language processing (NLP) methods do you use on a regular basis?  (Select all that apply) - Selected Choice - Word embeddings/vectors (GLoVe, fastText, word2vec)'), ('Q19_Part_2', 'Which of the following natural language processing (NLP) methods do you use on a regular basis?  (Select all that apply) - Selected Choice - Encoder-decorder models (seq2seq, vanilla transformers)'), ('Q19_Part_3', 'Which of the following natural language processing (NLP) methods do you use on a regular basis?  (Select all that apply) - Selected Choice - Contextualized embeddings (ELMo, CoVe)'), ('Q19_Part_4', 'Which of the following natural language processing (NLP) methods do you use on a regular basis?  (Select all that apply) - Selected Choice - Transformer language models (GPT-3, BERT, XLnet, etc)'), ('Q19_Part_5', 'Which of the following natural language processing (NLP) methods do you use on a regular basis?  (Select all that apply) - Selected Choice - None'), ('Q19_OTHER', 'Which of the following natural language processing (NLP) methods do you use on a regular basis?  (Select all that apply) - Selected Choice - Other'), ('Q20', 'In what industry is your current employer/contract (or your most recent employer if retired)? - Selected Choice'), ('Q21', 'What is the size of the company where you are employed?'), ('Q22', 'Approximately how many individuals are responsible for data science workloads at your place of business?'), ('Q23', 'Does your current employer incorporate machine learning methods into their business?'), ('Q24_Part_1', 'Select any activities that make up an important part of your role at work: (Select all that apply) - Selected Choice - Analyze and understand data to influence product or business decisions'), ('Q24_Part_2', 'Select any activities that make up an important part of your role at work: (Select all that apply) - Selected Choice - Build and/or run the data infrastructure that my business uses for storing, analyzing, and operationalizing data'), ('Q24_Part_3', 'Select any activities that make up an important part of your role at work: (Select all that apply) - Selected Choice - Build prototypes to explore applying machine learning to new areas'), ('Q24_Part_4', 'Select any activities that make up an important part of your role at work: (Select all that apply) - Selected Choice - Build and/or run a machine learning service that operationally improves my product or workflows'), ('Q24_Part_5', 'Select any activities that make up an important part of your role at work: (Select all that apply) - Selected Choice - Experimentation and iteration to improve existing ML models'), ('Q24_Part_6', 'Select any activities that make up an important part of your role at work: (Select all that apply) - Selected Choice - Do research that advances the state of the art of machine learning'), ('Q24_Part_7', 'Select any activities that make up an important part of your role at work: (Select all that apply) - Selected Choice - None of these activities are an important part of my role at work'), ('Q24_OTHER', 'Select any activities that make up an important part of your role at work: (Select all that apply) - Selected Choice - Other'), ('Q25', 'What is your current yearly compensation (approximate $USD)?'), ('Q26', 'Approximately how much money have you (or your team) spent on machine learning and/or cloud computing services at home (or at work) in the past 5 years (approximate $USD)?'), ('Q27_A_Part_1', 'Which of the following cloud computing platforms do you use on a regular basis? (Select all that apply) - Selected Choice -  Amazon Web Services (AWS) '), ('Q27_A_Part_2', 'Which of the following cloud computing platforms do you use on a regular basis? (Select all that apply) - Selected Choice -  Microsoft Azure '), ('Q27_A_Part_3', 'Which of the following cloud computing platforms do you use on a regular basis? (Select all that apply) - Selected Choice -  Google Cloud Platform (GCP) '), ('Q27_A_Part_4', 'Which of the following cloud computing platforms do you use on a regular basis? (Select all that apply) - Selected Choice -  IBM Cloud / Red Hat '), ('Q27_A_Part_5', 'Which of the following cloud computing platforms do you use on a regular basis? (Select all that apply) - Selected Choice -  Oracle Cloud '), ('Q27_A_Part_6', 'Which of the following cloud computing platforms do you use on a regular basis? (Select all that apply) - Selected Choice -  SAP Cloud '), ('Q27_A_Part_7', 'Which of the following cloud computing platforms do you use on a regular basis? (Select all that apply) - Selected Choice -  Salesforce Cloud '), ('Q27_A_Part_8', 'Which of the following cloud computing platforms do you use on a regular basis? (Select all that apply) - Selected Choice -  VMware Cloud '), ('Q27_A_Part_9', 'Which of the following cloud computing platforms do you use on a regular basis? (Select all that apply) - Selected Choice -  Alibaba Cloud '), ('Q27_A_Part_10', 'Which of the following cloud computing platforms do you use on a regular basis? (Select all that apply) - Selected Choice -  Tencent Cloud '), ('Q27_A_Part_11', 'Which of the following cloud computing platforms do you use on a regular basis? (Select all that apply) - Selected Choice - None'), ('Q27_A_OTHER', 'Which of the following cloud computing platforms do you use on a regular basis? (Select all that apply) - Selected Choice - Other'), ('Q28', 'Of the cloud platforms that you are familiar with, which has the best developer experience (most enjoyable to use)? - Selected Choice'), ('Q29_A_Part_1', 'Do you use any of the following cloud computing products on a regular basis? (Select all that apply) - Selected Choice -  Amazon Elastic Compute Cloud (EC2) '), ('Q29_A_Part_2', 'Do you use any of the following cloud computing products on a regular basis? (Select all that apply) - Selected Choice -  Microsoft Azure Virtual Machines '), ('Q29_A_Part_3', 'Do you use any of the following cloud computing products on a regular basis? (Select all that apply) - Selected Choice -  Google Cloud Compute Engine '), ('Q29_A_Part_4', 'Do you use any of the following cloud computing products on a regular basis? (Select all that apply) - Selected Choice - No / None'), ('Q29_A_OTHER', 'Do you use any of the following cloud computing products on a regular basis? (Select all that apply) - Selected Choice - Other'), ('Q30_A_Part_1', 'Do you use any of the following data storage products on a regular basis? (Select all that apply) - Selected Choice - Microsoft Azure Data Lake Storage '), ('Q30_A_Part_2', 'Do you use any of the following data storage products on a regular basis? (Select all that apply) - Selected Choice - Microsoft Azure Disk Storage '), ('Q30_A_Part_3', 'Do you use any of the following data storage products on a regular basis? (Select all that apply) - Selected Choice -  Amazon Simple Storage Service (S3)  '), ('Q30_A_Part_4', 'Do you use any of the following data storage products on a regular basis? (Select all that apply) - Selected Choice -  Amazon Elastic File System (EFS)  '), ('Q30_A_Part_5', 'Do you use any of the following data storage products on a regular basis? (Select all that apply) - Selected Choice - Google Cloud Storage (GCS)   '), ('Q30_A_Part_6', 'Do you use any of the following data storage products on a regular basis? (Select all that apply) - Selected Choice -  Google Cloud Filestore '), ('Q30_A_Part_7', 'Do you use any of the following data storage products on a regular basis? (Select all that apply) - Selected Choice - No / None'), ('Q30_A_OTHER', 'Do you use any of the following data storage products on a regular basis? (Select all that apply) - Selected Choice - Other'), ('Q31_A_Part_1', 'Do you use any of the following managed machine learning products on a regular basis? (Select all that apply) - Selected Choice -  Amazon SageMaker '), ('Q31_A_Part_2', 'Do you use any of the following managed machine learning products on a regular basis? (Select all that apply) - Selected Choice -  Azure Machine Learning Studio '), ('Q31_A_Part_3', 'Do you use any of the following managed machine learning products on a regular basis? (Select all that apply) - Selected Choice -  Google Cloud Vertex AI'), ('Q31_A_Part_4', 'Do you use any of the following managed machine learning products on a regular basis? (Select all that apply) - Selected Choice -  DataRobot'), ('Q31_A_Part_5', 'Do you use any of the following managed machine learning products on a regular basis? (Select all that apply) - Selected Choice -  Databricks'), ('Q31_A_Part_6', 'Do you use any of the following managed machine learning products on a regular basis? (Select all that apply) - Selected Choice -  Dataiku'), ('Q31_A_Part_7', 'Do you use any of the following managed machine learning products on a regular basis? (Select all that apply) - Selected Choice -  Alteryx'), ('Q31_A_Part_8', 'Do you use any of the following managed machine learning products on a regular basis? (Select all that apply) - Selected Choice -  Rapidminer'), ('Q31_A_Part_9', 'Do you use any of the following managed machine learning products on a regular basis? (Select all that apply) - Selected Choice - No / None'), ('Q31_A_OTHER', 'Do you use any of the following managed machine learning products on a regular basis? (Select all that apply) - Selected Choice - Other'), ('Q32_A_Part_1', 'Which of the following big data products (relational databases, data warehouses, data lakes, or similar) do you use on a regular basis? (Select all that apply) - Selected Choice - MySQL '), ('Q32_A_Part_2', 'Which of the following big data products (relational databases, data warehouses, data lakes, or similar) do you use on a regular basis? (Select all that apply) - Selected Choice - PostgreSQL '), ('Q32_A_Part_3', 'Which of the following big data products (relational databases, data warehouses, data lakes, or similar) do you use on a regular basis? (Select all that apply) - Selected Choice - SQLite '), ('Q32_A_Part_4', 'Which of the following big data products (relational databases, data warehouses, data lakes, or similar) do you use on a regular basis? (Select all that apply) - Selected Choice - Oracle Database '), ('Q32_A_Part_5', 'Which of the following big data products (relational databases, data warehouses, data lakes, or similar) do you use on a regular basis? (Select all that apply) - Selected Choice - MongoDB '), ('Q32_A_Part_6', 'Which of the following big data products (relational databases, data warehouses, data lakes, or similar) do you use on a regular basis? (Select all that apply) - Selected Choice - Snowflake '), ('Q32_A_Part_7', 'Which of the following big data products (relational databases, data warehouses, data lakes, or similar) do you use on a regular basis? (Select all that apply) - Selected Choice - IBM Db2 '), ('Q32_A_Part_8', 'Which of the following big data products (relational databases, data warehouses, data lakes, or similar) do you use on a regular basis? (Select all that apply) - Selected Choice - Microsoft SQL Server '), ('Q32_A_Part_9', 'Which of the following big data products (relational databases, data warehouses, data lakes, or similar) do you use on a regular basis? (Select all that apply) - Selected Choice - Microsoft Azure SQL Database '), ('Q32_A_Part_10', 'Which of the following big data products (relational databases, data warehouses, data lakes, or similar) do you use on a regular basis? (Select all that apply) - Selected Choice - Microsoft Azure Cosmos DB '), ('Q32_A_Part_11', 'Which of the following big data products (relational databases, data warehouses, data lakes, or similar) do you use on a regular basis? (Select all that apply) - Selected Choice - Amazon Redshift '), ('Q32_A_Part_12', 'Which of the following big data products (relational databases, data warehouses, data lakes, or similar) do you use on a regular basis? (Select all that apply) - Selected Choice - Amazon Aurora '), ('Q32_A_Part_13', 'Which of the following big data products (relational databases, data warehouses, data lakes, or similar) do you use on a regular basis? (Select all that apply) - Selected Choice - Amazon RDS '), ('Q32_A_Part_14', 'Which of the following big data products (relational databases, data warehouses, data lakes, or similar) do you use on a regular basis? (Select all that apply) - Selected Choice - Amazon DynamoDB '), ('Q32_A_Part_15', 'Which of the following big data products (relational databases, data warehouses, data lakes, or similar) do you use on a regular basis? (Select all that apply) - Selected Choice - Google Cloud BigQuery '), ('Q32_A_Part_16', 'Which of the following big data products (relational databases, data warehouses, data lakes, or similar) do you use on a regular basis? (Select all that apply) - Selected Choice - Google Cloud SQL '), ('Q32_A_Part_17', 'Which of the following big data products (relational databases, data warehouses, data lakes, or similar) do you use on a regular basis? (Select all that apply) - Selected Choice - Google Cloud Firestore '), ('Q32_A_Part_18', 'Which of the following big data products (relational databases, data warehouses, data lakes, or similar) do you use on a regular basis? (Select all that apply) - Selected Choice - Google Cloud BigTable '), ('Q32_A_Part_19', 'Which of the following big data products (relational databases, data warehouses, data lakes, or similar) do you use on a regular basis? (Select all that apply) - Selected Choice - Google Cloud Spanner '), ('Q32_A_Part_20', 'Which of the following big data products (relational databases, data warehouses, data lakes, or similar) do you use on a regular basis? (Select all that apply) - Selected Choice - None'), ('Q32_A_OTHER', 'Which of the following big data products (relational databases, data warehouses, data lakes, or similar) do you use on a regular basis? (Select all that apply) - Selected Choice - Other'), ('Q33', 'Which of the following big data products (relational database, data warehouse, data lake, or similar) do you use most often? - Selected Choice'), ('Q34_A_Part_1', 'Which of the following business intelligence tools do you use on a regular basis? (Select all that apply) - Selected Choice - Amazon QuickSight'), ('Q34_A_Part_2', 'Which of the following business intelligence tools do you use on a regular basis? (Select all that apply) - Selected Choice - Microsoft Power BI'), ('Q34_A_Part_3', 'Which of the following business intelligence tools do you use on a regular basis? (Select all that apply) - Selected Choice - Google Data Studio'), ('Q34_A_Part_4', 'Which of the following business intelligence tools do you use on a regular basis? (Select all that apply) - Selected Choice - Looker'), ('Q34_A_Part_5', 'Which of the following business intelligence tools do you use on a regular basis? (Select all that apply) - Selected Choice - Tableau'), ('Q34_A_Part_6', 'Which of the following business intelligence tools do you use on a regular basis? (Select all that apply) - Selected Choice - Salesforce'), ('Q34_A_Part_7', 'Which of the following business intelligence tools do you use on a regular basis? (Select all that apply) - Selected Choice - Tableau CRM'), ('Q34_A_Part_8', 'Which of the following business intelligence tools do you use on a regular basis? (Select all that apply) - Selected Choice - Qlik'), ('Q34_A_Part_9', 'Which of the following business intelligence tools do you use on a regular basis? (Select all that apply) - Selected Choice - Domo'), ('Q34_A_Part_10', 'Which of the following business intelligence tools do you use on a regular basis? (Select all that apply) - Selected Choice - TIBCO Spotfire'), ('Q34_A_Part_11', 'Which of the following business intelligence tools do you use on a regular basis? (Select all that apply) - Selected Choice - Alteryx '), ('Q34_A_Part_12', 'Which of the following business intelligence tools do you use on a regular basis? (Select all that apply) - Selected Choice - Sisense '), ('Q34_A_Part_13', 'Which of the following business intelligence tools do you use on a regular basis? (Select all that apply) - Selected Choice - SAP Analytics Cloud '), ('Q34_A_Part_14', 'Which of the following business intelligence tools do you use on a regular basis? (Select all that apply) - Selected Choice - Microsoft Azure Synapse '), ('Q34_A_Part_15', 'Which of the following business intelligence tools do you use on a regular basis? (Select all that apply) - Selected Choice - Thoughtspot '), ('Q34_A_Part_16', 'Which of the following business intelligence tools do you use on a regular basis? (Select all that apply) - Selected Choice - None'), ('Q34_A_OTHER', 'Which of the following business intelligence tools do you use on a regular basis? (Select all that apply) - Selected Choice - Other'), ('Q35', 'Which of the following business intelligence tools do you use most often? - Selected Choice'), ('Q36_A_Part_1', 'Do you use any automated machine learning tools (or partial AutoML tools) on a regular basis?  (Select all that apply) - Selected Choice - Automated data augmentation (e.g. imgaug, albumentations)'), ('Q36_A_Part_2', 'Do you use any automated machine learning tools (or partial AutoML tools) on a regular basis?  (Select all that apply) - Selected Choice - Automated feature engineering/selection (e.g. tpot, boruta_py)'), ('Q36_A_Part_3', 'Do you use any automated machine learning tools (or partial AutoML tools) on a regular basis?  (Select all that apply) - Selected Choice - Automated model selection (e.g. auto-sklearn, xcessiv)'), ('Q36_A_Part_4', 'Do you use any automated machine learning tools (or partial AutoML tools) on a regular basis?  (Select all that apply) - Selected Choice - Automated model architecture searches (e.g. darts, enas)'), ('Q36_A_Part_5', 'Do you use any automated machine learning tools (or partial AutoML tools) on a regular basis?  (Select all that apply) - Selected Choice - Automated hyperparameter tuning (e.g. hyperopt, ray.tune, Vizier)'), ('Q36_A_Part_6', 'Do you use any automated machine learning tools (or partial AutoML tools) on a regular basis?  (Select all that apply) - Selected Choice - Automation of full ML pipelines (e.g. Google AutoML, H2O Driverless AI)'), ('Q36_A_Part_7', 'Do you use any automated machine learning tools (or partial AutoML tools) on a regular basis?  (Select all that apply) - Selected Choice - No / None'), ('Q36_A_OTHER', 'Do you use any automated machine learning tools (or partial AutoML tools) on a regular basis?  (Select all that apply) - Selected Choice - Other'), ('Q37_A_Part_1', 'Which of the following automated machine learning tools (or partial AutoML tools) do you use on a regular basis?  (Select all that apply) - Selected Choice -  Google Cloud AutoML '), ('Q37_A_Part_2', 'Which of the following automated machine learning tools (or partial AutoML tools) do you use on a regular basis?  (Select all that apply) - Selected Choice -  H2O Driverless AI  '), ('Q37_A_Part_3', 'Which of the following automated machine learning tools (or partial AutoML tools) do you use on a regular basis?  (Select all that apply) - Selected Choice -  Databricks AutoML '), ('Q37_A_Part_4', 'Which of the following automated machine learning tools (or partial AutoML tools) do you use on a regular basis?  (Select all that apply) - Selected Choice -  DataRobot AutoML '), ('Q37_A_Part_5', 'Which of the following automated machine learning tools (or partial AutoML tools) do you use on a regular basis?  (Select all that apply) - Selected Choice -   Amazon Sagemaker Autopilot '), ('Q37_A_Part_6', 'Which of the following automated machine learning tools (or partial AutoML tools) do you use on a regular basis?  (Select all that apply) - Selected Choice -   Azure Automated Machine Learning '), ('Q37_A_Part_7', 'Which of the following automated machine learning tools (or partial AutoML tools) do you use on a regular basis?  (Select all that apply) - Selected Choice - No / None'), ('Q37_A_OTHER', 'Which of the following automated machine learning tools (or partial AutoML tools) do you use on a regular basis?  (Select all that apply) - Selected Choice - Other'), ('Q38_A_Part_1', 'Do you use any tools to help manage machine learning experiments? (Select all that apply) - Selected Choice -  Neptune.ai '), ('Q38_A_Part_2', 'Do you use any tools to help manage machine learning experiments? (Select all that apply) - Selected Choice -  Weights & Biases '), ('Q38_A_Part_3', 'Do you use any tools to help manage machine learning experiments? (Select all that apply) - Selected Choice -  Comet.ml '), ('Q38_A_Part_4', 'Do you use any tools to help manage machine learning experiments? (Select all that apply) - Selected Choice -  Sacred + Omniboard '), ('Q38_A_Part_5', 'Do you use any tools to help manage machine learning experiments? (Select all that apply) - Selected Choice -  TensorBoard '), ('Q38_A_Part_6', 'Do you use any tools to help manage machine learning experiments? (Select all that apply) - Selected Choice -  Guild.ai '), ('Q38_A_Part_7', 'Do you use any tools to help manage machine learning experiments? (Select all that apply) - Selected Choice -  Polyaxon '), ('Q38_A_Part_8', 'Do you use any tools to help manage machine learning experiments? (Select all that apply) - Selected Choice -  ClearML '), ('Q38_A_Part_9', 'Do you use any tools to help manage machine learning experiments? (Select all that apply) - Selected Choice -  Domino Model Monitor '), ('Q38_A_Part_10', 'Do you use any tools to help manage machine learning experiments? (Select all that apply) - Selected Choice -  MLflow '), ('Q38_A_Part_11', 'Do you use any tools to help manage machine learning experiments? (Select all that apply) - Selected Choice - No / None'), ('Q38_A_OTHER', 'Do you use any tools to help manage machine learning experiments? (Select all that apply) - Selected Choice - Other'), ('Q39_Part_1', 'Where do you publicly share your data analysis or machine learning applications? (Select all that apply) - Selected Choice -  Plotly Dash '), ('Q39_Part_2', 'Where do you publicly share your data analysis or machine learning applications? (Select all that apply) - Selected Choice -  Streamlit '), ('Q39_Part_3', 'Where do you publicly share your data analysis or machine learning applications? (Select all that apply) - Selected Choice -  NBViewer '), ('Q39_Part_4', 'Where do you publicly share your data analysis or machine learning applications? (Select all that apply) - Selected Choice -  GitHub '), ('Q39_Part_5', 'Where do you publicly share your data analysis or machine learning applications? (Select all that apply) - Selected Choice -  Personal blog '), ('Q39_Part_6', 'Where do you publicly share your data analysis or machine learning applications? (Select all that apply) - Selected Choice -  Kaggle '), ('Q39_Part_7', 'Where do you publicly share your data analysis or machine learning applications? (Select all that apply) - Selected Choice -  Colab '), ('Q39_Part_8', 'Where do you publicly share your data analysis or machine learning applications? (Select all that apply) - Selected Choice -  Shiny '), ('Q39_Part_9', 'Where do you publicly share your data analysis or machine learning applications? (Select all that apply) - Selected Choice - I do not share my work publicly'), ('Q39_OTHER', 'Where do you publicly share your data analysis or machine learning applications? (Select all that apply) - Selected Choice - Other'), ('Q40_Part_1', 'On which platforms have you begun or completed data science courses? (Select all that apply) - Selected Choice - Coursera'), ('Q40_Part_2', 'On which platforms have you begun or completed data science courses? (Select all that apply) - Selected Choice - edX'), ('Q40_Part_3', 'On which platforms have you begun or completed data science courses? (Select all that apply) - Selected Choice - Kaggle Learn Courses'), ('Q40_Part_4', 'On which platforms have you begun or completed data science courses? (Select all that apply) - Selected Choice - DataCamp'), ('Q40_Part_5', 'On which platforms have you begun or completed data science courses? (Select all that apply) - Selected Choice - Fast.ai'), ('Q40_Part_6', 'On which platforms have you begun or completed data science courses? (Select all that apply) - Selected Choice - Udacity'), ('Q40_Part_7', 'On which platforms have you begun or completed data science courses? (Select all that apply) - Selected Choice - Udemy'), ('Q40_Part_8', 'On which platforms have you begun or completed data science courses? (Select all that apply) - Selected Choice - LinkedIn Learning'), ('Q40_Part_9', 'On which platforms have you begun or completed data science courses? (Select all that apply) - Selected Choice - Cloud-certification programs (direct from AWS, Azure, GCP, or similar)'), ('Q40_Part_10', 'On which platforms have you begun or completed data science courses? (Select all that apply) - Selected Choice - University Courses (resulting in a university degree)'), ('Q40_Part_11', 'On which platforms have you begun or completed data science courses? (Select all that apply) - Selected Choice - None'), ('Q40_OTHER', 'On which platforms have you begun or completed data science courses? (Select all that apply) - Selected Choice - Other'), ('Q41', 'What is the primary tool that you use at work or school to analyze data? (Include text response) - Selected Choice'), ('Q42_Part_1', 'Who/what are your favorite media sources that report on data science topics? (Select all that apply) - Selected Choice - Twitter (data science influencers)'), ('Q42_Part_2', \"Who/what are your favorite media sources that report on data science topics? (Select all that apply) - Selected Choice - Email newsletters (Data Elixir, O'Reilly Data & AI, etc)\"), ('Q42_Part_3', 'Who/what are your favorite media sources that report on data science topics? (Select all that apply) - Selected Choice - Reddit (r/machinelearning, etc)'), ('Q42_Part_4', 'Who/what are your favorite media sources that report on data science topics? (Select all that apply) - Selected Choice - Kaggle (notebooks, forums, etc)'), ('Q42_Part_5', 'Who/what are your favorite media sources that report on data science topics? (Select all that apply) - Selected Choice - Course Forums (forums.fast.ai, Coursera forums, etc)'), ('Q42_Part_6', 'Who/what are your favorite media sources that report on data science topics? (Select all that apply) - Selected Choice - YouTube (Kaggle YouTube, Cloud AI Adventures, etc)'), ('Q42_Part_7', 'Who/what are your favorite media sources that report on data science topics? (Select all that apply) - Selected Choice - Podcasts (Chai Time Data Science, O’Reilly Data Show, etc)'), ('Q42_Part_8', 'Who/what are your favorite media sources that report on data science topics? (Select all that apply) - Selected Choice - Blogs (Towards Data Science, Analytics Vidhya, etc)'), ('Q42_Part_9', 'Who/what are your favorite media sources that report on data science topics? (Select all that apply) - Selected Choice - Journal Publications (peer-reviewed journals, conference proceedings, etc)'), ('Q42_Part_10', 'Who/what are your favorite media sources that report on data science topics? (Select all that apply) - Selected Choice - Slack Communities (ods.ai, kagglenoobs, etc)'), ('Q42_Part_11', 'Who/what are your favorite media sources that report on data science topics? (Select all that apply) - Selected Choice - None'), ('Q42_OTHER', 'Who/what are your favorite media sources that report on data science topics? (Select all that apply) - Selected Choice - Other'), ('Q27_B_Part_1', 'Which of the following cloud computing platforms do you hope to become more familiar with in the next 2 years? - Selected Choice -  Amazon Web Services (AWS) '), ('Q27_B_Part_2', 'Which of the following cloud computing platforms do you hope to become more familiar with in the next 2 years? - Selected Choice -  Microsoft Azure '), ('Q27_B_Part_3', 'Which of the following cloud computing platforms do you hope to become more familiar with in the next 2 years? - Selected Choice -  Google Cloud Platform (GCP) '), ('Q27_B_Part_4', 'Which of the following cloud computing platforms do you hope to become more familiar with in the next 2 years? - Selected Choice -  IBM Cloud / Red Hat '), ('Q27_B_Part_5', 'Which of the following cloud computing platforms do you hope to become more familiar with in the next 2 years? - Selected Choice -  Oracle Cloud '), ('Q27_B_Part_6', 'Which of the following cloud computing platforms do you hope to become more familiar with in the next 2 years? - Selected Choice -  SAP Cloud '), ('Q27_B_Part_7', 'Which of the following cloud computing platforms do you hope to become more familiar with in the next 2 years? - Selected Choice -  VMware Cloud '), ('Q27_B_Part_8', 'Which of the following cloud computing platforms do you hope to become more familiar with in the next 2 years? - Selected Choice -  Salesforce Cloud '), ('Q27_B_Part_9', 'Which of the following cloud computing platforms do you hope to become more familiar with in the next 2 years? - Selected Choice -  Alibaba Cloud '), ('Q27_B_Part_10', 'Which of the following cloud computing platforms do you hope to become more familiar with in the next 2 years? - Selected Choice -  Tencent Cloud '), ('Q27_B_Part_11', 'Which of the following cloud computing platforms do you hope to become more familiar with in the next 2 years? - Selected Choice - None'), ('Q27_B_OTHER', 'Which of the following cloud computing platforms do you hope to become more familiar with in the next 2 years? - Selected Choice - Other'), ('Q29_B_Part_1', 'In the next 2 years, do you hope to become more familiar with any of these specific cloud computing products? (Select all that apply) - Selected Choice -  Amazon Elastic Compute Cloud (EC2) '), ('Q29_B_Part_2', 'In the next 2 years, do you hope to become more familiar with any of these specific cloud computing products? (Select all that apply) - Selected Choice -  Microsoft Azure Virtual Machines '), ('Q29_B_Part_3', 'In the next 2 years, do you hope to become more familiar with any of these specific cloud computing products? (Select all that apply) - Selected Choice -  Google Cloud Compute Engine '), ('Q29_B_Part_4', 'In the next 2 years, do you hope to become more familiar with any of these specific cloud computing products? (Select all that apply) - Selected Choice - None'), ('Q29_B_OTHER', 'In the next 2 years, do you hope to become more familiar with any of these specific cloud computing products? (Select all that apply) - Selected Choice - Other'), ('Q30_B_Part_1', 'In the next 2 years, do you hope to become more familiar with any of these specific data storage products? (Select all that apply) - Selected Choice - Microsoft Azure Data Lake Storage '), ('Q30_B_Part_2', 'In the next 2 years, do you hope to become more familiar with any of these specific data storage products? (Select all that apply) - Selected Choice - Microsoft Azure Disk Storage '), ('Q30_B_Part_3', 'In the next 2 years, do you hope to become more familiar with any of these specific data storage products? (Select all that apply) - Selected Choice -  Amazon Simple Storage Service (S3)  '), ('Q30_B_Part_4', 'In the next 2 years, do you hope to become more familiar with any of these specific data storage products? (Select all that apply) - Selected Choice -  Amazon Elastic File System (EFS)  '), ('Q30_B_Part_5', 'In the next 2 years, do you hope to become more familiar with any of these specific data storage products? (Select all that apply) - Selected Choice - Google Cloud Storage (GCS)   '), ('Q30_B_Part_6', 'In the next 2 years, do you hope to become more familiar with any of these specific data storage products? (Select all that apply) - Selected Choice -  Google Cloud Filestore '), ('Q30_B_Part_7', 'In the next 2 years, do you hope to become more familiar with any of these specific data storage products? (Select all that apply) - Selected Choice - No / None'), ('Q30_B_OTHER', 'In the next 2 years, do you hope to become more familiar with any of these specific data storage products? (Select all that apply) - Selected Choice - Other'), ('Q31_B_Part_1', 'In the next 2 years, do you hope to become more familiar with any of these managed machine learning products? (Select all that apply) - Selected Choice -  Amazon SageMaker '), ('Q31_B_Part_2', 'In the next 2 years, do you hope to become more familiar with any of these managed machine learning products? (Select all that apply) - Selected Choice -  Azure Machine Learning Studio '), ('Q31_B_Part_3', 'In the next 2 years, do you hope to become more familiar with any of these managed machine learning products? (Select all that apply) - Selected Choice -  Google Cloud Vertex AI'), ('Q31_B_Part_4', 'In the next 2 years, do you hope to become more familiar with any of these managed machine learning products? (Select all that apply) - Selected Choice -  DataRobot'), ('Q31_B_Part_5', 'In the next 2 years, do you hope to become more familiar with any of these managed machine learning products? (Select all that apply) - Selected Choice -  Databricks'), ('Q31_B_Part_6', 'In the next 2 years, do you hope to become more familiar with any of these managed machine learning products? (Select all that apply) - Selected Choice -  Dataiku'), ('Q31_B_Part_7', 'In the next 2 years, do you hope to become more familiar with any of these managed machine learning products? (Select all that apply) - Selected Choice -  Alteryx'), ('Q31_B_Part_8', 'In the next 2 years, do you hope to become more familiar with any of these managed machine learning products? (Select all that apply) - Selected Choice -  Rapidminer'), ('Q31_B_Part_9', 'In the next 2 years, do you hope to become more familiar with any of these managed machine learning products? (Select all that apply) - Selected Choice - None'), ('Q31_B_OTHER', 'In the next 2 years, do you hope to become more familiar with any of these managed machine learning products? (Select all that apply) - Selected Choice - Other'), ('Q32_B_Part_1', 'Which of the following big data products (relational databases, data warehouses, data lakes, or similar) do you hope to become more familiar with in the next 2 years? (Select all that apply) - Selected Choice - MySQL '), ('Q32_B_Part_2', 'Which of the following big data products (relational databases, data warehouses, data lakes, or similar) do you hope to become more familiar with in the next 2 years? (Select all that apply) - Selected Choice - PostgreSQL '), ('Q32_B_Part_3', 'Which of the following big data products (relational databases, data warehouses, data lakes, or similar) do you hope to become more familiar with in the next 2 years? (Select all that apply) - Selected Choice - SQLite '), ('Q32_B_Part_4', 'Which of the following big data products (relational databases, data warehouses, data lakes, or similar) do you hope to become more familiar with in the next 2 years? (Select all that apply) - Selected Choice - Oracle Database '), ('Q32_B_Part_5', 'Which of the following big data products (relational databases, data warehouses, data lakes, or similar) do you hope to become more familiar with in the next 2 years? (Select all that apply) - Selected Choice - MongoDB '), ('Q32_B_Part_6', 'Which of the following big data products (relational databases, data warehouses, data lakes, or similar) do you hope to become more familiar with in the next 2 years? (Select all that apply) - Selected Choice - Snowflake '), ('Q32_B_Part_7', 'Which of the following big data products (relational databases, data warehouses, data lakes, or similar) do you hope to become more familiar with in the next 2 years? (Select all that apply) - Selected Choice - IBM Db2 '), ('Q32_B_Part_8', 'Which of the following big data products (relational databases, data warehouses, data lakes, or similar) do you hope to become more familiar with in the next 2 years? (Select all that apply) - Selected Choice - Microsoft SQL Server '), ('Q32_B_Part_9', 'Which of the following big data products (relational databases, data warehouses, data lakes, or similar) do you hope to become more familiar with in the next 2 years? (Select all that apply) - Selected Choice - Microsoft Azure SQL Database '), ('Q32_B_Part_10', 'Which of the following big data products (relational databases, data warehouses, data lakes, or similar) do you hope to become more familiar with in the next 2 years? (Select all that apply) - Selected Choice - Microsoft Azure Cosmos DB '), ('Q32_B_Part_11', 'Which of the following big data products (relational databases, data warehouses, data lakes, or similar) do you hope to become more familiar with in the next 2 years? (Select all that apply) - Selected Choice - Amazon Redshift '), ('Q32_B_Part_12', 'Which of the following big data products (relational databases, data warehouses, data lakes, or similar) do you hope to become more familiar with in the next 2 years? (Select all that apply) - Selected Choice - Amazon Aurora '), ('Q32_B_Part_13', 'Which of the following big data products (relational databases, data warehouses, data lakes, or similar) do you hope to become more familiar with in the next 2 years? (Select all that apply) - Selected Choice - Amazon DynamoDB '), ('Q32_B_Part_14', 'Which of the following big data products (relational databases, data warehouses, data lakes, or similar) do you hope to become more familiar with in the next 2 years? (Select all that apply) - Selected Choice - Amazon RDS '), ('Q32_B_Part_15', 'Which of the following big data products (relational databases, data warehouses, data lakes, or similar) do you hope to become more familiar with in the next 2 years? (Select all that apply) - Selected Choice - Google Cloud BigQuery '), ('Q32_B_Part_16', 'Which of the following big data products (relational databases, data warehouses, data lakes, or similar) do you hope to become more familiar with in the next 2 years? (Select all that apply) - Selected Choice - Google Cloud SQL '), ('Q32_B_Part_17', 'Which of the following big data products (relational databases, data warehouses, data lakes, or similar) do you hope to become more familiar with in the next 2 years? (Select all that apply) - Selected Choice - Google Cloud Firestore '), ('Q32_B_Part_18', 'Which of the following big data products (relational databases, data warehouses, data lakes, or similar) do you hope to become more familiar with in the next 2 years? (Select all that apply) - Selected Choice - Google Cloud BigTable '), ('Q32_B_Part_19', 'Which of the following big data products (relational databases, data warehouses, data lakes, or similar) do you hope to become more familiar with in the next 2 years? (Select all that apply) - Selected Choice - Google Cloud Spanner '), ('Q32_B_Part_20', 'Which of the following big data products (relational databases, data warehouses, data lakes, or similar) do you hope to become more familiar with in the next 2 years? (Select all that apply) - Selected Choice - None'), ('Q32_B_OTHER', 'Which of the following big data products (relational databases, data warehouses, data lakes, or similar) do you hope to become more familiar with in the next 2 years? (Select all that apply) - Selected Choice - Other'), ('Q34_B_Part_1', 'Which of the following business intelligence tools do you hope to become more familiar with in the next 2 years? (Select all that apply) - Selected Choice - Microsoft Power BI'), ('Q34_B_Part_2', 'Which of the following business intelligence tools do you hope to become more familiar with in the next 2 years? (Select all that apply) - Selected Choice - Amazon QuickSight'), ('Q34_B_Part_3', 'Which of the following business intelligence tools do you hope to become more familiar with in the next 2 years? (Select all that apply) - Selected Choice - Google Data Studio'), ('Q34_B_Part_4', 'Which of the following business intelligence tools do you hope to become more familiar with in the next 2 years? (Select all that apply) - Selected Choice - Looker'), ('Q34_B_Part_5', 'Which of the following business intelligence tools do you hope to become more familiar with in the next 2 years? (Select all that apply) - Selected Choice - Tableau'), ('Q34_B_Part_6', 'Which of the following business intelligence tools do you hope to become more familiar with in the next 2 years? (Select all that apply) - Selected Choice - Salesforce'), ('Q34_B_Part_7', 'Which of the following business intelligence tools do you hope to become more familiar with in the next 2 years? (Select all that apply) - Selected Choice - Tableau CRM'), ('Q34_B_Part_8', 'Which of the following business intelligence tools do you hope to become more familiar with in the next 2 years? (Select all that apply) - Selected Choice - Qlik'), ('Q34_B_Part_9', 'Which of the following business intelligence tools do you hope to become more familiar with in the next 2 years? (Select all that apply) - Selected Choice - Domo'), ('Q34_B_Part_10', 'Which of the following business intelligence tools do you hope to become more familiar with in the next 2 years? (Select all that apply) - Selected Choice - TIBCO Spotfire'), ('Q34_B_Part_11', 'Which of the following business intelligence tools do you hope to become more familiar with in the next 2 years? (Select all that apply) - Selected Choice - Alteryx '), ('Q34_B_Part_12', 'Which of the following business intelligence tools do you hope to become more familiar with in the next 2 years? (Select all that apply) - Selected Choice - Sisense '), ('Q34_B_Part_13', 'Which of the following business intelligence tools do you hope to become more familiar with in the next 2 years? (Select all that apply) - Selected Choice - SAP Analytics Cloud '), ('Q34_B_Part_14', 'Which of the following business intelligence tools do you hope to become more familiar with in the next 2 years? (Select all that apply) - Selected Choice - Microsoft Azure Synapse '), ('Q34_B_Part_15', 'Which of the following business intelligence tools do you hope to become more familiar with in the next 2 years? (Select all that apply) - Selected Choice - Thoughtspot '), ('Q34_B_Part_16', 'Which of the following business intelligence tools do you hope to become more familiar with in the next 2 years? (Select all that apply) - Selected Choice - None'), ('Q34_B_OTHER', 'Which of the following business intelligence tools do you hope to become more familiar with in the next 2 years? (Select all that apply) - Selected Choice - Other'), ('Q36_B_Part_1', 'Which categories of automated machine learning tools (or partial AutoML tools) do you hope to become more familiar with in the next 2 years?  (Select all that apply) - Selected Choice - Automated data augmentation (e.g. imgaug, albumentations)'), ('Q36_B_Part_2', 'Which categories of automated machine learning tools (or partial AutoML tools) do you hope to become more familiar with in the next 2 years?  (Select all that apply) - Selected Choice - Automated feature engineering/selection (e.g. tpot, boruta_py)'), ('Q36_B_Part_3', 'Which categories of automated machine learning tools (or partial AutoML tools) do you hope to become more familiar with in the next 2 years?  (Select all that apply) - Selected Choice - Automated model selection (e.g. auto-sklearn, xcessiv)'), ('Q36_B_Part_4', 'Which categories of automated machine learning tools (or partial AutoML tools) do you hope to become more familiar with in the next 2 years?  (Select all that apply) - Selected Choice - Automated model architecture searches (e.g. darts, enas)'), ('Q36_B_Part_5', 'Which categories of automated machine learning tools (or partial AutoML tools) do you hope to become more familiar with in the next 2 years?  (Select all that apply) - Selected Choice - Automated hyperparameter tuning (e.g. hyperopt, ray.tune, Vizier)'), ('Q36_B_Part_6', 'Which categories of automated machine learning tools (or partial AutoML tools) do you hope to become more familiar with in the next 2 years?  (Select all that apply) - Selected Choice - Automation of full ML pipelines (e.g. Google Cloud AutoML, H2O Driverless AI)'), ('Q36_B_Part_7', 'Which categories of automated machine learning tools (or partial AutoML tools) do you hope to become more familiar with in the next 2 years?  (Select all that apply) - Selected Choice - None'), ('Q36_B_OTHER', 'Which categories of automated machine learning tools (or partial AutoML tools) do you hope to become more familiar with in the next 2 years?  (Select all that apply) - Selected Choice - Other'), ('Q37_B_Part_1', 'Which specific automated machine learning tools (or partial AutoML tools) do you hope to become more familiar with in the next 2 years?  (Select all that apply) - Selected Choice -  Google Cloud AutoML '), ('Q37_B_Part_2', 'Which specific automated machine learning tools (or partial AutoML tools) do you hope to become more familiar with in the next 2 years?  (Select all that apply) - Selected Choice -  H2O Driverless AI  '), ('Q37_B_Part_3', 'Which specific automated machine learning tools (or partial AutoML tools) do you hope to become more familiar with in the next 2 years?  (Select all that apply) - Selected Choice -  Databricks AutoML '), ('Q37_B_Part_4', 'Which specific automated machine learning tools (or partial AutoML tools) do you hope to become more familiar with in the next 2 years?  (Select all that apply) - Selected Choice -  DataRobot AutoML '), ('Q37_B_Part_5', 'Which specific automated machine learning tools (or partial AutoML tools) do you hope to become more familiar with in the next 2 years?  (Select all that apply) - Selected Choice -   Amazon Sagemaker Autopilot '), ('Q37_B_Part_6', 'Which specific automated machine learning tools (or partial AutoML tools) do you hope to become more familiar with in the next 2 years?  (Select all that apply) - Selected Choice -   Azure Automated Machine Learning '), ('Q37_B_Part_7', 'Which specific automated machine learning tools (or partial AutoML tools) do you hope to become more familiar with in the next 2 years?  (Select all that apply) - Selected Choice - None'), ('Q37_B_OTHER', 'Which specific automated machine learning tools (or partial AutoML tools) do you hope to become more familiar with in the next 2 years?  (Select all that apply) - Selected Choice - Other'), ('Q38_B_Part_1', 'In the next 2 years, do you hope to become more familiar with any of these tools for managing ML experiments? (Select all that apply) - Selected Choice -  Neptune.ai '), ('Q38_B_Part_2', 'In the next 2 years, do you hope to become more familiar with any of these tools for managing ML experiments? (Select all that apply) - Selected Choice -  Weights & Biases '), ('Q38_B_Part_3', 'In the next 2 years, do you hope to become more familiar with any of these tools for managing ML experiments? (Select all that apply) - Selected Choice -  Comet.ml '), ('Q38_B_Part_4', 'In the next 2 years, do you hope to become more familiar with any of these tools for managing ML experiments? (Select all that apply) - Selected Choice -  Sacred + Omniboard '), ('Q38_B_Part_5', 'In the next 2 years, do you hope to become more familiar with any of these tools for managing ML experiments? (Select all that apply) - Selected Choice -  TensorBoard '), ('Q38_B_Part_6', 'In the next 2 years, do you hope to become more familiar with any of these tools for managing ML experiments? (Select all that apply) - Selected Choice -  Guild.ai '), ('Q38_B_Part_7', 'In the next 2 years, do you hope to become more familiar with any of these tools for managing ML experiments? (Select all that apply) - Selected Choice -  Polyaxon '), ('Q38_B_Part_8', 'In the next 2 years, do you hope to become more familiar with any of these tools for managing ML experiments? (Select all that apply) - Selected Choice -  ClearML '), ('Q38_B_Part_9', 'In the next 2 years, do you hope to become more familiar with any of these tools for managing ML experiments? (Select all that apply) - Selected Choice -  Domino Model Monitor '), ('Q38_B_Part_10', 'In the next 2 years, do you hope to become more familiar with any of these tools for managing ML experiments? (Select all that apply) - Selected Choice -  MLflow '), ('Q38_B_Part_11', 'In the next 2 years, do you hope to become more familiar with any of these tools for managing ML experiments? (Select all that apply) - Selected Choice - None'), ('Q38_B_OTHER', 'In the next 2 years, do you hope to become more familiar with any of these tools for managing ML experiments? (Select all that apply) - Selected Choice - Other')]\n"
     ]
    }
   ],
   "source": [
    "print(df.columns.tolist())"
   ]
  },
  {
   "cell_type": "code",
   "execution_count": 1502,
   "metadata": {},
   "outputs": [],
   "source": [
    "df.iloc[0,:].to_frame().to_csv(\"Columns.csv\")"
   ]
  },
  {
   "cell_type": "code",
   "execution_count": 1503,
   "metadata": {},
   "outputs": [
    {
     "data": {
      "text/plain": [
       "<AxesSubplot:>"
      ]
     },
     "execution_count": 1503,
     "metadata": {},
     "output_type": "execute_result"
    },
    {
     "data": {
      "image/png": "[encoded data removed]",
      "text/plain": [
       "<Figure size 1800x720 with 2 Axes>"
      ]
     },
     "metadata": {
      "needs_background": "light"
     },
     "output_type": "display_data"
    }
   ],
   "source": [
    "msno.matrix(df.iloc[:,:7])"
   ]
  },
  {
   "cell_type": "markdown",
   "metadata": {},
   "source": [
    "### Age and Gender"
   ]
  },
  {
   "cell_type": "code",
   "execution_count": 1504,
   "metadata": {},
   "outputs": [
    {
     "name": "stdout",
     "output_type": "stream",
     "text": [
      "<class 'pandas.core.frame.DataFrame'>\n",
      "RangeIndex: 25973 entries, 0 to 25972\n",
      "Data columns (total 3 columns):\n",
      " #   Column   Non-Null Count  Dtype \n",
      "---  ------   --------------  ----- \n",
      " 0   Age      25973 non-null  object\n",
      " 1   Gender   25973 non-null  object\n",
      " 2   Country  25973 non-null  object\n",
      "dtypes: object(3)\n",
      "memory usage: 608.9+ KB\n"
     ]
    }
   ],
   "source": [
    "df_new = pd.DataFrame()\n",
    "df_new['Age'] = df['Q1', 'What is your age (# years)?']\n",
    "df_new['Gender'] = df['Q2', 'What is your gender? - Selected Choice']\n",
    "df_new['Country'] = df['Q3', 'In which country do you currently reside?']\n",
    "df_new.info()"
   ]
  },
  {
   "cell_type": "code",
   "execution_count": 1505,
   "metadata": {},
   "outputs": [
    {
     "name": "stdout",
     "output_type": "stream",
     "text": [
      "Man                        20598\n",
      "Woman                       4890\n",
      "Prefer not to say            355\n",
      "Nonbinary                     88\n",
      "Prefer to self-describe       42\n",
      "Name: Gender, dtype: int64\n"
     ]
    },
    {
     "data": {
      "text/html": [
       "<div>\n",
       "<style scoped>\n",
       "    .dataframe tbody tr th:only-of-type {\n",
       "        vertical-align: middle;\n",
       "    }\n",
       "\n",
       "    .dataframe tbody tr th {\n",
       "        vertical-align: top;\n",
       "    }\n",
       "\n",
       "    .dataframe thead th {\n",
       "        text-align: right;\n",
       "    }\n",
       "</style>\n",
       "<table border=\"1\" class=\"dataframe\">\n",
       "  <thead>\n",
       "    <tr style=\"text-align: right;\">\n",
       "      <th></th>\n",
       "      <th>Age</th>\n",
       "      <th>Gender</th>\n",
       "      <th>Country</th>\n",
       "    </tr>\n",
       "  </thead>\n",
       "  <tbody>\n",
       "    <tr>\n",
       "      <th>0</th>\n",
       "      <td>50-54</td>\n",
       "      <td>Man</td>\n",
       "      <td>India</td>\n",
       "    </tr>\n",
       "    <tr>\n",
       "      <th>1</th>\n",
       "      <td>50-54</td>\n",
       "      <td>Man</td>\n",
       "      <td>Indonesia</td>\n",
       "    </tr>\n",
       "    <tr>\n",
       "      <th>2</th>\n",
       "      <td>22-24</td>\n",
       "      <td>Man</td>\n",
       "      <td>Pakistan</td>\n",
       "    </tr>\n",
       "    <tr>\n",
       "      <th>3</th>\n",
       "      <td>45-49</td>\n",
       "      <td>Man</td>\n",
       "      <td>Mexico</td>\n",
       "    </tr>\n",
       "    <tr>\n",
       "      <th>4</th>\n",
       "      <td>45-49</td>\n",
       "      <td>Man</td>\n",
       "      <td>India</td>\n",
       "    </tr>\n",
       "    <tr>\n",
       "      <th>...</th>\n",
       "      <td>...</td>\n",
       "      <td>...</td>\n",
       "      <td>...</td>\n",
       "    </tr>\n",
       "    <tr>\n",
       "      <th>25968</th>\n",
       "      <td>30-34</td>\n",
       "      <td>Man</td>\n",
       "      <td>Egypt</td>\n",
       "    </tr>\n",
       "    <tr>\n",
       "      <th>25969</th>\n",
       "      <td>22-24</td>\n",
       "      <td>Man</td>\n",
       "      <td>China</td>\n",
       "    </tr>\n",
       "    <tr>\n",
       "      <th>25970</th>\n",
       "      <td>50-54</td>\n",
       "      <td>Man</td>\n",
       "      <td>Sweden</td>\n",
       "    </tr>\n",
       "    <tr>\n",
       "      <th>25971</th>\n",
       "      <td>45-49</td>\n",
       "      <td>Man</td>\n",
       "      <td>United States of America</td>\n",
       "    </tr>\n",
       "    <tr>\n",
       "      <th>25972</th>\n",
       "      <td>18-21</td>\n",
       "      <td>Man</td>\n",
       "      <td>India</td>\n",
       "    </tr>\n",
       "  </tbody>\n",
       "</table>\n",
       "<p>25973 rows × 3 columns</p>\n",
       "</div>"
      ],
      "text/plain": [
       "         Age Gender                   Country\n",
       "0      50-54    Man                     India\n",
       "1      50-54    Man                 Indonesia\n",
       "2      22-24    Man                  Pakistan\n",
       "3      45-49    Man                    Mexico\n",
       "4      45-49    Man                     India\n",
       "...      ...    ...                       ...\n",
       "25968  30-34    Man                     Egypt\n",
       "25969  22-24    Man                     China\n",
       "25970  50-54    Man                    Sweden\n",
       "25971  45-49    Man  United States of America\n",
       "25972  18-21    Man                     India\n",
       "\n",
       "[25973 rows x 3 columns]"
      ]
     },
     "execution_count": 1505,
     "metadata": {},
     "output_type": "execute_result"
    }
   ],
   "source": [
    "df_new.groupby(by='Age').agg({\"Age\":'count'}).rename(columns={'Age':'Count'}).reset_index(inplace=True)\n",
    "print(df_new['Gender'].value_counts())\n",
    "df_new"
   ]
  },
  {
   "cell_type": "code",
   "execution_count": 1506,
   "metadata": {},
   "outputs": [
    {
     "data": {
      "text/html": [
       "<div>\n",
       "<style scoped>\n",
       "    .dataframe tbody tr th:only-of-type {\n",
       "        vertical-align: middle;\n",
       "    }\n",
       "\n",
       "    .dataframe tbody tr th {\n",
       "        vertical-align: top;\n",
       "    }\n",
       "\n",
       "    .dataframe thead th {\n",
       "        text-align: right;\n",
       "    }\n",
       "</style>\n",
       "<table border=\"1\" class=\"dataframe\">\n",
       "  <thead>\n",
       "    <tr style=\"text-align: right;\">\n",
       "      <th></th>\n",
       "      <th>Age</th>\n",
       "      <th>Gender</th>\n",
       "      <th>Country</th>\n",
       "      <th>AgeGroup</th>\n",
       "    </tr>\n",
       "  </thead>\n",
       "  <tbody>\n",
       "    <tr>\n",
       "      <th>0</th>\n",
       "      <td>50-54</td>\n",
       "      <td>Man</td>\n",
       "      <td>India</td>\n",
       "      <td>&gt;40</td>\n",
       "    </tr>\n",
       "    <tr>\n",
       "      <th>1</th>\n",
       "      <td>50-54</td>\n",
       "      <td>Man</td>\n",
       "      <td>Indonesia</td>\n",
       "      <td>&gt;40</td>\n",
       "    </tr>\n",
       "    <tr>\n",
       "      <th>2</th>\n",
       "      <td>22-24</td>\n",
       "      <td>Man</td>\n",
       "      <td>Pakistan</td>\n",
       "      <td>&lt;40</td>\n",
       "    </tr>\n",
       "    <tr>\n",
       "      <th>3</th>\n",
       "      <td>45-49</td>\n",
       "      <td>Man</td>\n",
       "      <td>Mexico</td>\n",
       "      <td>&gt;40</td>\n",
       "    </tr>\n",
       "    <tr>\n",
       "      <th>4</th>\n",
       "      <td>45-49</td>\n",
       "      <td>Man</td>\n",
       "      <td>India</td>\n",
       "      <td>&gt;40</td>\n",
       "    </tr>\n",
       "  </tbody>\n",
       "</table>\n",
       "</div>"
      ],
      "text/plain": [
       "     Age Gender    Country AgeGroup\n",
       "0  50-54    Man      India      >40\n",
       "1  50-54    Man  Indonesia      >40\n",
       "2  22-24    Man   Pakistan      <40\n",
       "3  45-49    Man     Mexico      >40\n",
       "4  45-49    Man      India      >40"
      ]
     },
     "execution_count": 1506,
     "metadata": {},
     "output_type": "execute_result"
    }
   ],
   "source": [
    "df_new['Gender'] = df_new['Gender'].apply(lambda x: x if x in ['Man', 'Woman'] else 'Other')\n",
    "df_new[\"AgeGroup\"] = df_new['Age'].apply(lambda x: '<40' if x in ['18-21', '22-24', '25-29', '30-34', '35-39'] else '>40')\n",
    "df_new.head()"
   ]
  },
  {
   "cell_type": "code",
   "execution_count": 1507,
   "metadata": {},
   "outputs": [
    {
     "data": {
      "text/html": [
       "<div>\n",
       "<style scoped>\n",
       "    .dataframe tbody tr th:only-of-type {\n",
       "        vertical-align: middle;\n",
       "    }\n",
       "\n",
       "    .dataframe tbody tr th {\n",
       "        vertical-align: top;\n",
       "    }\n",
       "\n",
       "    .dataframe thead th {\n",
       "        text-align: right;\n",
       "    }\n",
       "</style>\n",
       "<table border=\"1\" class=\"dataframe\">\n",
       "  <thead>\n",
       "    <tr style=\"text-align: right;\">\n",
       "      <th></th>\n",
       "      <th></th>\n",
       "      <th>AgeGroup</th>\n",
       "    </tr>\n",
       "    <tr>\n",
       "      <th>AgeGroup</th>\n",
       "      <th>Gender</th>\n",
       "      <th></th>\n",
       "    </tr>\n",
       "  </thead>\n",
       "  <tbody>\n",
       "    <tr>\n",
       "      <th rowspan=\"3\" valign=\"top\">&lt;40</th>\n",
       "      <th>Man</th>\n",
       "      <td>15956</td>\n",
       "    </tr>\n",
       "    <tr>\n",
       "      <th>Other</th>\n",
       "      <td>368</td>\n",
       "    </tr>\n",
       "    <tr>\n",
       "      <th>Woman</th>\n",
       "      <td>4147</td>\n",
       "    </tr>\n",
       "    <tr>\n",
       "      <th rowspan=\"3\" valign=\"top\">&gt;40</th>\n",
       "      <th>Man</th>\n",
       "      <td>4642</td>\n",
       "    </tr>\n",
       "    <tr>\n",
       "      <th>Other</th>\n",
       "      <td>117</td>\n",
       "    </tr>\n",
       "    <tr>\n",
       "      <th>Woman</th>\n",
       "      <td>743</td>\n",
       "    </tr>\n",
       "  </tbody>\n",
       "</table>\n",
       "</div>"
      ],
      "text/plain": [
       "                 AgeGroup\n",
       "AgeGroup Gender          \n",
       "<40      Man        15956\n",
       "         Other        368\n",
       "         Woman       4147\n",
       ">40      Man         4642\n",
       "         Other        117\n",
       "         Woman        743"
      ]
     },
     "execution_count": 1507,
     "metadata": {},
     "output_type": "execute_result"
    }
   ],
   "source": [
    "df_new.groupby(by=['AgeGroup','Gender']).agg({'AgeGroup':'count'})"
   ]
  },
  {
   "cell_type": "code",
   "execution_count": 1538,
   "metadata": {},
   "outputs": [
    {
     "name": "stdout",
     "output_type": "stream",
     "text": [
      "['India', 'United States of America', 'Other', 'Japan', 'China', 'Brazil', 'Russia', 'Nigeria', 'United Kingdom of Great Britain and Northern Ireland', 'Pakistan']\n"
     ]
    }
   ],
   "source": [
    "top10countries = df_new.groupby(by='Country').agg({'Country':'count'}).rename(columns={'Country':'Count'}).sort_values(by='Count', ascending=False)[:10].index.tolist()\n",
    "print(top10countries)"
   ]
  },
  {
   "cell_type": "code",
   "execution_count": 1526,
   "metadata": {},
   "outputs": [
    {
     "data": {
      "text/html": [
       "<div>\n",
       "<style scoped>\n",
       "    .dataframe tbody tr th:only-of-type {\n",
       "        vertical-align: middle;\n",
       "    }\n",
       "\n",
       "    .dataframe tbody tr th {\n",
       "        vertical-align: top;\n",
       "    }\n",
       "\n",
       "    .dataframe thead th {\n",
       "        text-align: right;\n",
       "    }\n",
       "</style>\n",
       "<table border=\"1\" class=\"dataframe\">\n",
       "  <thead>\n",
       "    <tr style=\"text-align: right;\">\n",
       "      <th></th>\n",
       "      <th></th>\n",
       "      <th></th>\n",
       "      <th>Count</th>\n",
       "    </tr>\n",
       "    <tr>\n",
       "      <th>AgeGroup</th>\n",
       "      <th>Gender</th>\n",
       "      <th>Country</th>\n",
       "      <th></th>\n",
       "    </tr>\n",
       "  </thead>\n",
       "  <tbody>\n",
       "    <tr>\n",
       "      <th rowspan=\"5\" valign=\"top\">&lt;40</th>\n",
       "      <th rowspan=\"5\" valign=\"top\">Man</th>\n",
       "      <th>Algeria</th>\n",
       "      <td>27</td>\n",
       "    </tr>\n",
       "    <tr>\n",
       "      <th>Argentina</th>\n",
       "      <td>91</td>\n",
       "    </tr>\n",
       "    <tr>\n",
       "      <th>Australia</th>\n",
       "      <td>114</td>\n",
       "    </tr>\n",
       "    <tr>\n",
       "      <th>Austria</th>\n",
       "      <td>25</td>\n",
       "    </tr>\n",
       "    <tr>\n",
       "      <th>Bangladesh</th>\n",
       "      <td>260</td>\n",
       "    </tr>\n",
       "    <tr>\n",
       "      <th>...</th>\n",
       "      <th>...</th>\n",
       "      <th>...</th>\n",
       "      <td>...</td>\n",
       "    </tr>\n",
       "    <tr>\n",
       "      <th rowspan=\"5\" valign=\"top\">&gt;40</th>\n",
       "      <th rowspan=\"5\" valign=\"top\">Woman</th>\n",
       "      <th>Turkey</th>\n",
       "      <td>9</td>\n",
       "    </tr>\n",
       "    <tr>\n",
       "      <th>Ukraine</th>\n",
       "      <td>1</td>\n",
       "    </tr>\n",
       "    <tr>\n",
       "      <th>United Arab Emirates</th>\n",
       "      <td>6</td>\n",
       "    </tr>\n",
       "    <tr>\n",
       "      <th>United Kingdom of Great Britain and Northern Ireland</th>\n",
       "      <td>34</td>\n",
       "    </tr>\n",
       "    <tr>\n",
       "      <th>United States of America</th>\n",
       "      <td>210</td>\n",
       "    </tr>\n",
       "  </tbody>\n",
       "</table>\n",
       "<p>329 rows × 1 columns</p>\n",
       "</div>"
      ],
      "text/plain": [
       "                                                                    Count\n",
       "AgeGroup Gender Country                                                  \n",
       "<40      Man    Algeria                                                27\n",
       "                Argentina                                              91\n",
       "                Australia                                             114\n",
       "                Austria                                                25\n",
       "                Bangladesh                                            260\n",
       "...                                                                   ...\n",
       ">40      Woman  Turkey                                                  9\n",
       "                Ukraine                                                 1\n",
       "                United Arab Emirates                                    6\n",
       "                United Kingdom of Great Britain and Northern Ir...     34\n",
       "                United States of America                              210\n",
       "\n",
       "[329 rows x 1 columns]"
      ]
     },
     "execution_count": 1526,
     "metadata": {},
     "output_type": "execute_result"
    }
   ],
   "source": [
    "df_xxx = df_new.groupby(by=['AgeGroup','Gender','Country']).agg({'AgeGroup':'count'})\n",
    "df_xxx.rename(columns={'AgeGroup':'Count'}, inplace=True)\n",
    "df_xxx"
   ]
  },
  {
   "cell_type": "code",
   "execution_count": 1540,
   "metadata": {},
   "outputs": [
    {
     "data": {
      "text/html": [
       "<div>\n",
       "<style scoped>\n",
       "    .dataframe tbody tr th:only-of-type {\n",
       "        vertical-align: middle;\n",
       "    }\n",
       "\n",
       "    .dataframe tbody tr th {\n",
       "        vertical-align: top;\n",
       "    }\n",
       "\n",
       "    .dataframe thead th {\n",
       "        text-align: right;\n",
       "    }\n",
       "</style>\n",
       "<table border=\"1\" class=\"dataframe\">\n",
       "  <thead>\n",
       "    <tr style=\"text-align: right;\">\n",
       "      <th></th>\n",
       "      <th>Country</th>\n",
       "      <th>India</th>\n",
       "      <th>United States of America</th>\n",
       "      <th>Other</th>\n",
       "      <th>Japan</th>\n",
       "      <th>China</th>\n",
       "      <th>Brazil</th>\n",
       "      <th>Russia</th>\n",
       "      <th>Nigeria</th>\n",
       "      <th>United Kingdom of Great Britain and Northern Ireland</th>\n",
       "      <th>Pakistan</th>\n",
       "    </tr>\n",
       "    <tr>\n",
       "      <th>Gender</th>\n",
       "      <th>AgeGroup</th>\n",
       "      <th></th>\n",
       "      <th></th>\n",
       "      <th></th>\n",
       "      <th></th>\n",
       "      <th></th>\n",
       "      <th></th>\n",
       "      <th></th>\n",
       "      <th></th>\n",
       "      <th></th>\n",
       "      <th></th>\n",
       "    </tr>\n",
       "  </thead>\n",
       "  <tbody>\n",
       "    <tr>\n",
       "      <th rowspan=\"2\" valign=\"top\">Man</th>\n",
       "      <th>&lt;40</th>\n",
       "      <td>5230.0</td>\n",
       "      <td>1110.0</td>\n",
       "      <td>762.0</td>\n",
       "      <td>514.0</td>\n",
       "      <td>648.0</td>\n",
       "      <td>464.0</td>\n",
       "      <td>483.0</td>\n",
       "      <td>532.0</td>\n",
       "      <td>276.0</td>\n",
       "      <td>400.0</td>\n",
       "    </tr>\n",
       "    <tr>\n",
       "      <th>&gt;40</th>\n",
       "      <td>451.0</td>\n",
       "      <td>839.0</td>\n",
       "      <td>242.0</td>\n",
       "      <td>322.0</td>\n",
       "      <td>24.0</td>\n",
       "      <td>200.0</td>\n",
       "      <td>147.0</td>\n",
       "      <td>62.0</td>\n",
       "      <td>153.0</td>\n",
       "      <td>48.0</td>\n",
       "    </tr>\n",
       "    <tr>\n",
       "      <th rowspan=\"2\" valign=\"top\">Woman</th>\n",
       "      <th>&lt;40</th>\n",
       "      <td>1568.0</td>\n",
       "      <td>396.0</td>\n",
       "      <td>186.0</td>\n",
       "      <td>41.0</td>\n",
       "      <td>104.0</td>\n",
       "      <td>64.0</td>\n",
       "      <td>92.0</td>\n",
       "      <td>102.0</td>\n",
       "      <td>79.0</td>\n",
       "      <td>78.0</td>\n",
       "    </tr>\n",
       "    <tr>\n",
       "      <th>&gt;40</th>\n",
       "      <td>88.0</td>\n",
       "      <td>210.0</td>\n",
       "      <td>41.0</td>\n",
       "      <td>27.0</td>\n",
       "      <td>2.0</td>\n",
       "      <td>17.0</td>\n",
       "      <td>12.0</td>\n",
       "      <td>5.0</td>\n",
       "      <td>34.0</td>\n",
       "      <td>3.0</td>\n",
       "    </tr>\n",
       "  </tbody>\n",
       "</table>\n",
       "</div>"
      ],
      "text/plain": [
       "Country           India  United States of America  Other  Japan  China  \\\n",
       "Gender AgeGroup                                                          \n",
       "Man    <40       5230.0                    1110.0  762.0  514.0  648.0   \n",
       "       >40        451.0                     839.0  242.0  322.0   24.0   \n",
       "Woman  <40       1568.0                     396.0  186.0   41.0  104.0   \n",
       "       >40         88.0                     210.0   41.0   27.0    2.0   \n",
       "\n",
       "Country          Brazil  Russia  Nigeria  \\\n",
       "Gender AgeGroup                            \n",
       "Man    <40        464.0   483.0    532.0   \n",
       "       >40        200.0   147.0     62.0   \n",
       "Woman  <40         64.0    92.0    102.0   \n",
       "       >40         17.0    12.0      5.0   \n",
       "\n",
       "Country          United Kingdom of Great Britain and Northern Ireland  \\\n",
       "Gender AgeGroup                                                         \n",
       "Man    <40                                                   276.0      \n",
       "       >40                                                   153.0      \n",
       "Woman  <40                                                    79.0      \n",
       "       >40                                                    34.0      \n",
       "\n",
       "Country          Pakistan  \n",
       "Gender AgeGroup            \n",
       "Man    <40          400.0  \n",
       "       >40           48.0  \n",
       "Woman  <40           78.0  \n",
       "       >40            3.0  "
      ]
     },
     "execution_count": 1540,
     "metadata": {},
     "output_type": "execute_result"
    }
   ],
   "source": [
    "pd.pivot_table(df_xxx, index=['Gender', 'AgeGroup'],columns = ['Country'], values ='Count', aggfunc=np.sum).loc[['Man','Woman'],top10countries]"
   ]
  },
  {
   "cell_type": "code",
   "execution_count": 1519,
   "metadata": {},
   "outputs": [
    {
     "data": {
      "text/html": [
       "<div>\n",
       "<style scoped>\n",
       "    .dataframe tbody tr th:only-of-type {\n",
       "        vertical-align: middle;\n",
       "    }\n",
       "\n",
       "    .dataframe tbody tr th {\n",
       "        vertical-align: top;\n",
       "    }\n",
       "\n",
       "    .dataframe thead th {\n",
       "        text-align: right;\n",
       "    }\n",
       "</style>\n",
       "<table border=\"1\" class=\"dataframe\">\n",
       "  <thead>\n",
       "    <tr style=\"text-align: right;\">\n",
       "      <th>Country</th>\n",
       "      <th>India</th>\n",
       "      <th>United States of America</th>\n",
       "    </tr>\n",
       "    <tr>\n",
       "      <th>AgeGroup</th>\n",
       "      <th></th>\n",
       "      <th></th>\n",
       "    </tr>\n",
       "  </thead>\n",
       "  <tbody>\n",
       "    <tr>\n",
       "      <th>&lt;40</th>\n",
       "      <td>6891</td>\n",
       "      <td>1566</td>\n",
       "    </tr>\n",
       "    <tr>\n",
       "      <th>&gt;40</th>\n",
       "      <td>543</td>\n",
       "      <td>1084</td>\n",
       "    </tr>\n",
       "  </tbody>\n",
       "</table>\n",
       "</div>"
      ],
      "text/plain": [
       "Country   India  United States of America\n",
       "AgeGroup                                 \n",
       "<40        6891                      1566\n",
       ">40         543                      1084"
      ]
     },
     "execution_count": 1519,
     "metadata": {},
     "output_type": "execute_result"
    }
   ],
   "source": [
    "pd.pivot_table(df_new[['Gender','Country','AgeGroup']], index=['AgeGroup'], columns = ['Country'], values ='AgeGroup', aggfunc='count')[['India', 'United States of America']]"
   ]
  },
  {
   "cell_type": "code",
   "execution_count": null,
   "metadata": {},
   "outputs": [],
   "source": [
    "pd.pivot_table(df_new, index='Gender', columns = 'Age', values ='Age', aggfunc='count')"
   ]
  },
  {
   "cell_type": "code",
   "execution_count": null,
   "metadata": {},
   "outputs": [],
   "source": [
    "df_ = df_new.groupby(by=['Age','Gender']).agg({'Gender':'count'}).rename(columns={'Gender':'Count'})\n",
    "df_.reset_index(inplace=True)\n",
    "df_"
   ]
  },
  {
   "cell_type": "code",
   "execution_count": null,
   "metadata": {},
   "outputs": [],
   "source": [
    "import numpy as np"
   ]
  },
  {
   "cell_type": "code",
   "execution_count": null,
   "metadata": {},
   "outputs": [],
   "source": [
    "df_summary = pd.pivot_table(data = df_,  values='Count', index=['Age'], columns=['Gender'], aggfunc=np.sum, fill_value=0)\n",
    "df_summary"
   ]
  },
  {
   "cell_type": "code",
   "execution_count": null,
   "metadata": {},
   "outputs": [],
   "source": [
    "#df_summary['Other'] = df_summary['Prefer not to say'] + df_summary['Nonbinary'] + df_summary['Prefer to self-describe']\n",
    "df_summary['Count'] = df_summary['Man'] + df_summary['Woman'] + df_summary['Other']\n",
    "#df_summary.drop(columns=['Prefer not to say','Nonbinary', 'Prefer to self-describe'],inplace=True)\n",
    "df_summary.columns = ['Gender-Man','Gender-Woman', 'Gender-Other','Count']\n",
    "df_summary.reset_index(inplace=True)\n",
    "df_summary = df_summary[['Age', 'Count', 'Gender-Man', 'Gender-Woman', 'Gender-Other']]\n",
    "df_summary"
   ]
  },
  {
   "cell_type": "code",
   "execution_count": null,
   "metadata": {},
   "outputs": [],
   "source": [
    "df_summary['Age'].values"
   ]
  },
  {
   "cell_type": "code",
   "execution_count": null,
   "metadata": {},
   "outputs": [],
   "source": [
    "df_summary[\"AgeGroup\"] = df_summary['Age'].apply(lambda x: '<40' if x in ['18-21', '22-24', '25-29', '30-34', '35-39'] else '>40')"
   ]
  },
  {
   "cell_type": "code",
   "execution_count": null,
   "metadata": {},
   "outputs": [],
   "source": [
    "import plotly.graph_objects as go\n",
    "NODES = dict( #           0                               1                          2        3       4           5\n",
    "            label = [\"18-21\", \"22-24\", \"25-29\", \"Gender-Man\", \"Gender-Woman\", \"Gender-Other\"],\n",
    "            color = [\"seagreen\", \"dodgerblue\", \"orange\", \"gold\", \"silver\", \"brown\" ],)\n",
    "\n",
    "LINKS = dict(   source = [  0,  0,  0,  1,  1,  1,  2,  2,  2], # The origin or the source nodes of the link\n",
    "                target = [  3,  4,  5,  3,  4,  5,  3,  4,  5], # The destination or the target nodes of the link\n",
    "                value =  [ 3696, 1117, 88, 3643, 963, 88, 3859, 994, 78], # The width (quantity) of the links \n",
    "                # Color of the links \n",
    "                # Target Node:    3-Gold          4 -Silver        5-Bronze           \n",
    "                color =     [   \"lightgreen\",   \"lightgreen\",   \"lightgreen\",      # Source Node: 0 - United States of America\n",
    "                                \"lightskyblue\", \"lightskyblue\", \"lightskyblue\",    # Source Node: 1 - People's Republic of China\n",
    "                                \"bisque\",       \"bisque\",       \"bisque\"],)        # Source Node: 2 - Japan\n",
    "\n",
    "data = go.Sankey(node = NODES, link = LINKS)\n",
    "fig = go.Figure(data)\n",
    "fig.update_layout(title=\"Age - Gender\",  font_size=16)\n",
    "fig.show()"
   ]
  },
  {
   "cell_type": "code",
   "execution_count": null,
   "metadata": {},
   "outputs": [],
   "source": [
    "import plotly.express as px\n",
    "fig = px.treemap(\n",
    "    names = [\"Eve\",\"Cain\", \"Seth\", \"Enos\", \"Noam\", \"Abel\", \"Awan\", \"Enoch\", \"Azura\"],\n",
    "    parents = [\"\", \"Eve\", \"Eve\", \"Seth\", \"Seth\", \"Eve\", \"Eve\", \"Awan\", \"Eve\"]\n",
    ")\n",
    "fig.update_traces(root_color=\"lightgrey\")\n",
    "fig.update_layout(margin = dict(t=50, l=25, r=25, b=25))\n",
    "fig.show()"
   ]
  },
  {
   "cell_type": "code",
   "execution_count": null,
   "metadata": {},
   "outputs": [],
   "source": [
    "df_summary.head()"
   ]
  },
  {
   "cell_type": "code",
   "execution_count": null,
   "metadata": {},
   "outputs": [],
   "source": [
    "df_age = df_summary.groupby(by='AgeGroup').agg({'Count':np.sum, 'Gender-Man': np.sum, 'Gender-Woman':np.sum})\n",
    "df_age.reset_index(inplace=True)\n",
    "df_age"
   ]
  },
  {
   "cell_type": "code",
   "execution_count": null,
   "metadata": {},
   "outputs": [],
   "source": [
    "import plotly.express as px\n",
    "fig = px.treemap(\n",
    "    names = [\"Total\",\"<40\", \"Men\", \"Women\",\">40\", \"Men->40\", \"Women->40\"],\n",
    "    parents = [\"\", \"Total\", \"<40\", \"<40\", \"Total\", \">40\", \">40\"]\n",
    ")\n",
    "fig.update_traces(root_color=\"lightgrey\")\n",
    "fig.update_layout(margin = dict(t=50, l=25, r=25, b=25))\n",
    "fig.show()"
   ]
  },
  {
   "cell_type": "code",
   "execution_count": null,
   "metadata": {},
   "outputs": [],
   "source": [
    "import plotly.express as px\n",
    "df_ex = px.data.tips()\n",
    "fig = px.treemap(df_ex, path=[px.Constant(\"all\"), 'day', 'time', 'sex'], values='total_bill')\n",
    "fig.update_traces(root_color=\"lightgrey\")\n",
    "fig.update_layout(margin = dict(t=50, l=25, r=25, b=25))\n",
    "fig.show()"
   ]
  },
  {
   "cell_type": "code",
   "execution_count": null,
   "metadata": {},
   "outputs": [],
   "source": [
    "df.head()"
   ]
  },
  {
   "cell_type": "code",
   "execution_count": null,
   "metadata": {},
   "outputs": [],
   "source": [
    "df_[\"AgeGroup\"] = df_['Age'].apply(lambda x: '<40' if x in ['18-21', '22-24', '25-29', '30-34', '35-39'] else '>40')\n",
    "df_['Gender'] = df_['Gender'].apply(lambda x: x if x in ['Man', 'Woman'] else 'Other')\n",
    "df_.head()"
   ]
  },
  {
   "cell_type": "code",
   "execution_count": null,
   "metadata": {},
   "outputs": [],
   "source": [
    "fig = px.treemap(df_, path=[px.Constant(\"all\"), 'Age', 'Gender'], values='Count')\n",
    "fig.update_traces(root_color=\"lightgrey\")\n",
    "fig.update_layout(margin = dict(t=50, l=25, r=25, b=25))\n",
    "fig.show()"
   ]
  },
  {
   "cell_type": "code",
   "execution_count": null,
   "metadata": {},
   "outputs": [],
   "source": [
    "fig = px.treemap(df_, path=[px.Constant(\"all\"), 'AgeGroup', 'Gender'], values='Count')\n",
    "fig.update_traces(root_color=\"lightgrey\")\n",
    "fig.update_layout(margin = dict(t=50, l=25, r=25, b=25))\n",
    "fig.show()\n",
    "\n",
    "## TODO: Change the labels (percentages?) and colors"
   ]
  },
  {
   "cell_type": "markdown",
   "metadata": {},
   "source": [
    "### Programming Languages"
   ]
  },
  {
   "cell_type": "code",
   "execution_count": null,
   "metadata": {},
   "outputs": [],
   "source": [
    "COLS_PL = list(filter(lambda x: True if x[0][:2]=='Q7' and x[0][-2:] != '12' else False, df.columns.to_list())) # TODO: 'None' should not be considered here\n",
    "COLS_PL_OTHER = list(filter(lambda x: True if x[0][:2]=='Q7' and x[0][-2:] not in ['_1','_2','_3','12'] else False, df.columns.to_list()))\n",
    "print(\"COLS_PL\", end=': ');[print(col[0], end=', ') for col in COLS_PL]; print()\n",
    "print(\"COLS_PL_OTHER\", end=': ');[print(col[0], end=', ') for col in COLS_PL_OTHER]; print()\n",
    "df[COLS_PL].head()"
   ]
  },
  {
   "cell_type": "code",
   "execution_count": null,
   "metadata": {},
   "outputs": [],
   "source": [
    "df[COLS_PL].count().sort_values(ascending=False)"
   ]
  },
  {
   "cell_type": "code",
   "execution_count": null,
   "metadata": {},
   "outputs": [],
   "source": [
    "df_new.head()"
   ]
  },
  {
   "cell_type": "code",
   "execution_count": null,
   "metadata": {},
   "outputs": [],
   "source": [
    "df_summary = summarise(df, df_new, 'PL', COLS_PL, COLS_PL_OTHER, \n",
    "            'Q7_Part_1', 'Python', \"Python\",\n",
    "            'Q7_Part_2', 'R', \"R\",\n",
    "            'Q7_Part_3', 'SQL', \"SQL\", \n",
    "            'Q7_Part_12')"
   ]
  },
  {
   "cell_type": "code",
   "execution_count": null,
   "metadata": {},
   "outputs": [],
   "source": [
    "df_result"
   ]
  },
  {
   "cell_type": "code",
   "execution_count": null,
   "metadata": {},
   "outputs": [],
   "source": [
    "plt.figure(figsize=(18, 5), dpi=80)\n",
    "\n",
    "ax = plt.subplot(1, 4, 1); df_new.hist(ax=ax)\n",
    "ax = plt.subplot(1, 4, 2); df_new.hist(ax=ax)\n",
    "ax = plt.subplot(1, 4, 3); df_new.boxplot(by='AgeGroup', ax=ax)\n",
    "ax = plt.subplot(1, 4, 4); df_new.boxplot(by='AgeGroup',ax=ax)"
   ]
  },
  {
   "cell_type": "code",
   "execution_count": null,
   "metadata": {},
   "outputs": [],
   "source": [
    "# Create a new column IDE Count to store the number of IDEs used\n",
    "df_new['PL-Count'] = df[COLS_PL].count(axis=1)\n",
    "df_new.head()\n",
    "\n",
    "df_new['Python'] = df['Q7_Part_1']; df_new['Python'] = df_new['Python'].apply(lambda x: 1 if x==\"Python\" else 0)\n",
    "df_new['R'] = df['Q7_Part_2'];      df_new['R'] = df_new['R'].apply(lambda x: 1 if x==\"R\" else 0)\n",
    "df_new['SQL'] = df['Q7_Part_3'];    df_new['SQL'] = df_new['SQL'].apply(lambda x: 1 if x==\"SQL\" else 0)\n",
    "df_new['None'] = df['Q7_Part_12'];  df_new['None'] = df_new['None'].apply(lambda x: 1 if x==\"None\" else 0)\n",
    "df_new['Other'] = df[COLS_PL_OTHER].count(axis=1) # df_new['Other'] = df['Q7_Part_4'] + df['Q7_Part_5'] + df['Q7_Part_6'] + df['Q7_Part_7'] + df['Q7_Part_8'] + df['Q7_Part_9'] + df['Q7_Part_10'] + df['Q7_Part_11'] + df['Q7_OTHER']\n",
    "df_new['ProgLang'] = df['Q8']\n",
    "df_new['ProgLangCount'] = df[COLS_PL].count(axis=1) # None is not considered\n",
    "df_new.head()\n",
    "\n",
    "\n",
    "# Create a df with the IDE and total number of IDE users\n",
    "df_temp, df_pl_summary = createSpecificAndSummary(df_new, 'Python', 'R', 'SQL', 'Other', 'None',COLS_PL_OTHER)\n",
    "compare(df, df_pl_summary, df_temp, 'Other', COLS_PL_OTHER)\n",
    "plotBox(df_new, 'PL-Count')"
   ]
  },
  {
   "cell_type": "markdown",
   "metadata": {},
   "source": [
    "- A mere 3% of the total community is >40 women.\n",
    "- 66-44 use Python-SQL\n",
    "- 4.4 use None"
   ]
  },
  {
   "cell_type": "code",
   "execution_count": null,
   "metadata": {},
   "outputs": [],
   "source": [
    "print(df_new['Python'].sum(), df_new[df_new['Python']==0]['Python'].count(), df_new.shape[0])"
   ]
  },
  {
   "cell_type": "code",
   "execution_count": null,
   "metadata": {},
   "outputs": [],
   "source": [
    "def abc(label, lt40, gt40):\n",
    "    print(f\"{label:5}    <40: {percent(lt40,df.shape[0]):2.2f}%    >40: {percent(gt40,df.shape[0]):2.2f}%\")\n",
    "\n",
    "abc(\"Woman\", 4147, 743)\n",
    "abc(\"Man\", 15956, 4642)"
   ]
  },
  {
   "cell_type": "code",
   "execution_count": null,
   "metadata": {},
   "outputs": [],
   "source": [
    "def my_value_counts(df, col):\n",
    "    df_ = df['ProgLang'].value_counts(normalize=True).to_frame()\n",
    "    #print(df_pl_all)\n",
    "    return df_\n",
    "df_pl_all = my_value_counts(df_new, 'ProgLang') \n",
    "df_pl_man = my_value_counts(df_man, 'ProgLang') \n",
    "df_pl_woman =  my_value_counts(df_woman, 'df_woman')\n",
    "df_pl_woman_lt40 =  my_value_counts(df_woman[df_woman['AgeGroup']=='<40'], 'ProgLang') \n",
    "df_pl_woman_gt40 =  my_value_counts(df_woman[df_woman['AgeGroup']=='>40'], 'ProgLang') \n",
    "df_res = pd.merge(df_pl_man, df_pl_woman, left_index=True, right_index=True,suffixes=['_m','_w'])\n",
    "df_res = pd.merge(df_res, df_pl_woman_lt40, left_index=True, right_index=True)\n",
    "df_res = pd.merge(df_res, df_pl_woman_gt40, left_index=True, right_index=True,suffixes=['_w_lt40','_w_gt40'])\n",
    "df_res = pd.merge(df_pl_all, df_res, left_index=True, right_index=True)\n",
    "round(df_res*100,1)\n",
    "df_res.plot.bar(figsize=(15,5), logy=True)"
   ]
  },
  {
   "cell_type": "markdown",
   "metadata": {},
   "source": [
    "### IDE"
   ]
  },
  {
   "cell_type": "code",
   "execution_count": null,
   "metadata": {},
   "outputs": [],
   "source": [
    "# Get the list of IDE columns (apart from None)\n",
    "COLS_IDE_NONE = ['Q9_Part_12']\n",
    "COLS_IDE = list(filter(lambda x: True if x[0][:2]=='Q9' and x[0] not in COLS_IDE_NONE else False, df.columns.to_list())) #[-2:] != '12'\n",
    "# Sort the IDEs based on the count\n",
    "df[COLS_IDE].count().sort_values(ascending=False)"
   ]
  },
  {
   "cell_type": "code",
   "execution_count": null,
   "metadata": {},
   "outputs": [],
   "source": [
    "# Categorise the list of columns that are top3 and not top3\n",
    "COLS_IDE_TOP3 = ['Q9_Part_11','Q9_Part_4','Q9_Part_5']\n",
    "COLS_IDE_OTHER = list(filter(lambda x: True if x[0] not in COLS_IDE_TOP3 else False, COLS_IDE))\n",
    "\n",
    "print(f\"{'COLS_IDE':14} {len(COLS_IDE):2}\", end=': ');            [print(col[0], end=', ') for col in COLS_IDE]; print()\n",
    "print(f\"{'COLS_IDE_TOP3':14} {len(COLS_IDE_TOP3):2}\", end=': ');  [print(col, end=', ') for col in COLS_IDE_TOP3]; print()\n",
    "print(f\"{'COLS_IDE_OTHER':14} {len(COLS_IDE_OTHER):2}\", end=': ');[print(col[0], end=', ') for col in COLS_IDE_OTHER]; print()\n",
    "print(f\"{'COLS_IDE_NONE':14} {len(COLS_IDE_NONE):2}\", end=': ');  [print(col, end=', ') for col in COLS_IDE_NONE]; print()\n",
    "\n",
    "df[COLS_IDE].head()"
   ]
  },
  {
   "cell_type": "code",
   "execution_count": null,
   "metadata": {},
   "outputs": [],
   "source": [
    "summarise(df, df_new, 'IDE', COLS_IDE, COLS_IDE_OTHER, \n",
    "            'Q9_Part_11', 'JupyterNB', \"Jupyter Notebook\",\n",
    "            'Q9_Part_4', 'VSCode', \"Visual Studio Code (VSCode)\",\n",
    "            'Q9_Part_5', 'PyCharm', \"PyCharm\", \n",
    "            'Q9_Part_12')"
   ]
  },
  {
   "cell_type": "markdown",
   "metadata": {},
   "source": [
    "- Similar trend in the IDE usage as well.\n",
    "- None is a little higher than the other categories"
   ]
  },
  {
   "cell_type": "markdown",
   "metadata": {},
   "source": [
    "### Hosted Notebooks"
   ]
  },
  {
   "cell_type": "code",
   "execution_count": null,
   "metadata": {},
   "outputs": [],
   "source": [
    "# Get the list of IDE columns (apart from None)\n",
    "COLS_HNB_NONE = ['Q10_Part_16']\n",
    "COLS_HNB = list(filter(lambda x: True if x[0][:3]=='Q10' and x[0] not in COLS_HNB_NONE else False, df.columns.to_list()))\n",
    "# Sort the NBs based on the count\n",
    "df[COLS_HNB].count().sort_values(ascending=False)"
   ]
  },
  {
   "cell_type": "code",
   "execution_count": null,
   "metadata": {},
   "outputs": [],
   "source": [
    "# Categorise the list of columns that are top3 and not top3\n",
    "COLS_HNB_TOP3 = ['Q10_Part_2','Q10_Part_1','Q10_Part_10']\n",
    "COLS_HNB_OTHER = list(filter(lambda x: True if x[0] not in COLS_HNB_TOP3 else False, COLS_HNB))\n",
    "\n",
    "print(f\"{'COLS_HNB':19} {len(COLS_HNB):2d}\", end=': ');               [print(col[0], end=', ') for col in COLS_HNB]; print()\n",
    "print(f\"{'COLS_HNB_TOP3':19} {len(COLS_HNB_TOP3):2d}\", end=': ');     [print(col, end=', ') for col in COLS_HNB_TOP3]; print()\n",
    "print(f\"{'COLS_HNB_OTHER':19} {len(COLS_HNB_OTHER):2d}\", end=': ');   [print(col[0], end=', ') for col in COLS_HNB_OTHER]; print()\n",
    "print(f\"{'COLS_HNB_NONE':19} {len(COLS_HNB_NONE):2d}\", end=': ');     [print(col, end=', ') for col in COLS_HNB_NONE]; print()\n",
    "\n",
    "df[COLS_HNB].head()"
   ]
  },
  {
   "cell_type": "code",
   "execution_count": null,
   "metadata": {},
   "outputs": [],
   "source": [
    "summarise(df, df_new, 'HNB', COLS_HNB, COLS_HNB_OTHER, \n",
    "            'Q10_Part_2', 'HNB-Colab', \"Colab Notebooks\",\n",
    "            'Q10_Part_1', 'HNB-Kaggle', \"Kaggle Notebooks\",\n",
    "            'Q10_Part_10', 'HNB-Google', \"Google Cloud Notebooks (AI Platform / Vertex AI)\", \n",
    "            'Q10_Part_16')"
   ]
  },
  {
   "cell_type": "markdown",
   "metadata": {},
   "source": [
    "### Hardware"
   ]
  },
  {
   "cell_type": "code",
   "execution_count": null,
   "metadata": {},
   "outputs": [],
   "source": [
    "# Get the list of IDE columns (apart from None)\n",
    "COLS_HW_NONE = ['Q12_Part_5']\n",
    "COLS_HW = list(filter(lambda x: True if x[0][:3]=='Q12' and x[0] not in COLS_HW_NONE else False, df.columns.to_list()))\n",
    "# Sort the NBs based on the count\n",
    "df[COLS_HW].count().sort_values(ascending=False)"
   ]
  },
  {
   "cell_type": "code",
   "execution_count": null,
   "metadata": {},
   "outputs": [],
   "source": [
    "# Categorise the list of columns that are top3 and not top3\n",
    "COLS_HW_TOP3 = ['Q12_Part_1','Q10_Part_2','Q10_Part_4']\n",
    "COLS_HW_OTHER = list(filter(lambda x: True if x[0] not in COLS_HW_TOP3 else False, COLS_HW))\n",
    "\n",
    "print(f\"{'COLS_HW':14} {len(COLS_HW):2d}\", end=': ');               [print(col[0], end=', ') for col in COLS_HW]; print()\n",
    "print(f\"{'COLS_HW_TOP3':14} {len(COLS_HW_TOP3):2d}\", end=': ');     [print(col, end=', ') for col in COLS_HW_TOP3]; print()\n",
    "print(f\"{'COLS_HW_OTHER':14} {len(COLS_HW_OTHER):2d}\", end=': ');   [print(col[0], end=', ') for col in COLS_HW_OTHER]; print()\n",
    "print(f\"{'COLS_HW_NONE':14} {len(COLS_HW_NONE):2d}\", end=': ');     [print(col, end=', ') for col in COLS_HW_NONE]; print()\n",
    "\n",
    "df[COLS_HW].head()"
   ]
  },
  {
   "cell_type": "code",
   "execution_count": null,
   "metadata": {},
   "outputs": [],
   "source": [
    "summarise(df, df_new, 'HW', COLS_HW, COLS_HW_OTHER, \n",
    "            'Q12_Part_1', 'HW-Nvidia', \"NVIDIA GPUs\",\n",
    "            'Q12_Part_2', 'HW-GCTPU', \"Google Cloud TPUs\",\n",
    "            'Q12_Part_4', 'HW-AWSIC', \"AWS Inferentia Chips\", \n",
    "            'Q12_Part_5')"
   ]
  },
  {
   "cell_type": "markdown",
   "metadata": {},
   "source": [
    "### XXX"
   ]
  },
  {
   "cell_type": "code",
   "execution_count": null,
   "metadata": {},
   "outputs": [],
   "source": [
    "# Get the list of IDE columns (apart from None)\n",
    "COLS_HNB_NONE = ['Q10_Part_16']\n",
    "COLS_HNB = list(filter(lambda x: True if x[0][:3]=='Q10' and x[0] not in COLS_HNB_NONE else False, df.columns.to_list()))\n",
    "# Sort the NBs based on the count\n",
    "df[COLS_HNB].count().sort_values(ascending=False)\n",
    "\n",
    "#--------------------\n",
    "# Categorise the list of columns that are top3 and not top3\n",
    "COLS_HNB_TOP3 = ['Q10_Part_2','Q10_Part_1','Q10_Part_10']\n",
    "COLS_HNB_OTHER = list(filter(lambda x: True if x[0] not in COLS_HNB_TOP3 else False, COLS_HNB))\n",
    "\n",
    "print(f\"{'COLS_HNB':19} {len(COLS_HNB):2d}\", end=': ');               [print(col[0], end=', ') for col in COLS_HNB]; print()\n",
    "print(f\"{'COLS_HNB_TOP3':19} {len(COLS_HNB_TOP3):2d}\", end=': ');     [print(col, end=', ') for col in COLS_HNB_TOP3]; print()\n",
    "print(f\"{'COLS_HNB_OTHER':19} {len(COLS_HNB_OTHER):2d}\", end=': ');   [print(col[0], end=', ') for col in COLS_HNB_OTHER]; print()\n",
    "print(f\"{'COLS_HNB_NONE':19} {len(COLS_HNB_NONE):2d}\", end=': ');     [print(col, end=', ') for col in COLS_HNB_NONE]; print()\n",
    "\n",
    "df[COLS_HNB].head()\n",
    "#--------------------\n",
    "summarise(df, df_new, 'HW', COLS_HW, COLS_HW_OTHER, \n",
    "            'Q12_Part_1', 'HW-Nvidia', \"NVIDIA GPUs\",\n",
    "            'Q12_Part_2', 'HW-GCTPU', \"Google Cloud TPUs\",\n",
    "            'Q12_Part_4', 'HW-AWSIC', \"AWS Inferentia Chips\", \n",
    "            'Q12_Part_5')"
   ]
  },
  {
   "cell_type": "markdown",
   "metadata": {},
   "source": [
    "### Next"
   ]
  },
  {
   "cell_type": "code",
   "execution_count": null,
   "metadata": {},
   "outputs": [],
   "source": [
    "COLS_XXX = ['Age','Gender','AgeGroup','PL-Count','PL-None','IDE-Count','IDE-None','HNB-Count','HNB-None','HW-Count','HW-None']\n",
    "COLS_XXX_INT = ['PL-Count','PL-None','IDE-Count','IDE-None','HNB-Count','HNB-None','HW-Count','HW-None']\n",
    "COLS_XXX_COUNT = ['PL-Count','IDE-Count','HNB-Count','HW-Count']\n",
    "COLS_XXX_NONE = ['PL-None','IDE-None','HNB-None','HW-None']\n",
    "df_new[COLS_XXX].head()"
   ]
  },
  {
   "cell_type": "code",
   "execution_count": null,
   "metadata": {},
   "outputs": [],
   "source": [
    "# TODO: Percentage as well\n",
    "# Concatenate the overall and the woman < 40 and woman > 40 data \n",
    "df_temp = pd.concat([df_new[COLS_XXX_INT].sum(), \n",
    "                    df_new[(df_new['Gender']=='Woman') & (df_new['AgeGroup']=='<40')][COLS_XXX_INT].sum(), \n",
    "                    df_new[(df_new['Gender']=='Woman') & (df_new['AgeGroup']=='>40')][COLS_XXX_INT].sum()], \n",
    "                    axis=1, join='inner')\n",
    "df_temp.rename(columns={0:'Overall',1:'<40',2:'>40'}, inplace=True)\n",
    "print(df_temp)\n",
    "ax = df_temp.plot.bar(logy=True, figsize=(15, 6));annotate(ax, \"Overall\") #ylim=(0,100),"
   ]
  },
  {
   "cell_type": "code",
   "execution_count": null,
   "metadata": {},
   "outputs": [],
   "source": [
    "# Concatenate the overall and the woman < 40 and woman > 40 data \n",
    "df_temp = pd.concat([\n",
    "                    df_new[COLS_XXX_COUNT].sum(), \n",
    "                    df_new[(df_new['Gender']=='Woman') & (df_new['AgeGroup']=='<40')][COLS_XXX_COUNT].sum(), \n",
    "                    df_new[(df_new['Gender']=='Woman') & (df_new['AgeGroup']=='>40')][COLS_XXX_COUNT].sum()], \n",
    "                    axis=1, join='inner')\n",
    "df_temp.rename(columns={0:'Overall',1:'<40',2:'>40'}, inplace=True)\n",
    "print(df_temp)\n",
    "ax = df_temp.plot.bar(logy=True, figsize=(15, 6));annotate(ax, \"Overall\") #ylim=(0,100),"
   ]
  },
  {
   "cell_type": "markdown",
   "metadata": {},
   "source": [
    "### Using NONE"
   ]
  },
  {
   "cell_type": "code",
   "execution_count": null,
   "metadata": {},
   "outputs": [],
   "source": [
    "# Concatenate the overall and the woman < 40 and woman > 40 data \n",
    "df_temp = pd.concat([df_new[COLS_XXX_NONE].sum(), \n",
    "                    df_new[(df_new['Gender']=='Woman') & (df_new['AgeGroup']=='<40')][COLS_XXX_NONE].sum(), \n",
    "                    df_new[(df_new['Gender']=='Woman') & (df_new['AgeGroup']=='>40')][COLS_XXX_NONE].sum()], \n",
    "                    axis=1, join='inner')\n",
    "df_temp.rename(columns={0:'Overall',1:'Woman<40',2:'Woman>40'}, inplace=True)\n",
    "df_temp['Overall'] = round((df_temp['Overall']/df.shape[0])*100,2)\n",
    "df_temp['Woman<40'] = round((df_temp['Woman<40']/df_new[(df_new['Gender']=='Woman') & (df_new['AgeGroup']=='<40')].shape[0])*100,2)\n",
    "df_temp['Woman>40'] = round((df_temp['Woman>40']/df_new[(df_new['Gender']=='Woman') & (df_new['AgeGroup']=='>40')].shape[0])*100,2)\n",
    "print(df_temp)\n",
    "ax = df_temp.plot.bar(logy=True, figsize=(15, 6));annotate(ax, \"Overall\") #ylim=(0,100),"
   ]
  },
  {
   "cell_type": "markdown",
   "metadata": {},
   "source": [
    "### Median Values"
   ]
  },
  {
   "cell_type": "code",
   "execution_count": null,
   "metadata": {},
   "outputs": [],
   "source": [
    "df_result"
   ]
  }
 ],
 "metadata": {
  "interpreter": {
   "hash": "8550a287e8c07f108da4527f3e46894028b32e72a651cacc8b64d5a05a68c294"
  },
  "kernelspec": {
   "display_name": "Python 3.7.9 64-bit ('venv': venv)",
   "name": "python3"
  },
  "language_info": {
   "codemirror_mode": {
    "name": "ipython",
    "version": 3
   },
   "file_extension": ".py",
   "mimetype": "text/x-python",
   "name": "python",
   "nbconvert_exporter": "python",
   "pygments_lexer": "ipython3",
   "version": "3.9.1"
  },
  "orig_nbformat": 4
 },
 "nbformat": 4,
 "nbformat_minor": 2
}
